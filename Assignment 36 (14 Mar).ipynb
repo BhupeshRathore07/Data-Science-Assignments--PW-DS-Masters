{
 "cells": [
  {
   "cell_type": "markdown",
   "id": "31ff94f4-2894-42e8-ac6c-658b4dba20f2",
   "metadata": {
    "tags": []
   },
   "source": [
    "#### Q1. Write a Python function that takes in two arrays of data and calculates the F-value for a variance ratio test. The function should return the F-value and the corresponding p-value for the test."
   ]
  },
  {
   "cell_type": "code",
   "execution_count": 16,
   "id": "e1cfe4bf-129e-4136-bd98-bf211c95ebaa",
   "metadata": {},
   "outputs": [
    {
     "name": "stdout",
     "output_type": "stream",
     "text": [
      "F-value: 0.25\n",
      "P-value: 1.792\n"
     ]
    }
   ],
   "source": [
    "import numpy as np\n",
    "from scipy.stats import f\n",
    "\n",
    "def variance_ratio_test(data1, data2):\n",
    "    var1 = np.var(data1, ddof=1)\n",
    "    var2 = np.var(data2, ddof=1)\n",
    "    mean1 = np.mean(data1)\n",
    "    mean2 = np.mean(data2)\n",
    "    \n",
    "    f_value = var1 / var2\n",
    "    df1, df2 = len(data1) - 1, len(data2) - 1\n",
    "    p_value = f.sf(f_value, df1, df2) * 2\n",
    "\n",
    "    return f_value, p_value\n",
    "\n",
    "data1 = np.array([1, 2, 3, 4, 5])\n",
    "data2 = np.array([2, 4, 6, 8, 10])\n",
    "f_value, p_value = variance_ratio_test(data1, data2)\n",
    "print(\"F-value:\", f_value)\n",
    "print(\"P-value:\", p_value)"
   ]
  },
  {
   "cell_type": "markdown",
   "id": "ed805a04-42e2-4c3f-a1cd-c166b6d3fe91",
   "metadata": {},
   "source": [
    "#### Q2. Given a significance level of 0.05 and the degrees of freedom for the numerator and denominator of an F-distribution, write a Python function that returns the critical F-value for a two-tailed test."
   ]
  },
  {
   "cell_type": "code",
   "execution_count": 15,
   "id": "14bfe7f8-4bbc-4177-9fb7-b2d6088a374e",
   "metadata": {},
   "outputs": [
    {
     "name": "stdout",
     "output_type": "stream",
     "text": [
      "(0.07058467426541322, 3.8586986662732143)\n"
     ]
    }
   ],
   "source": [
    "from scipy.stats import f\n",
    "\n",
    "def critical_f(alpha, dfn, dfd):\n",
    "    return f.ppf(alpha/2, dfn, dfd), f.ppf(1-alpha/2, dfn, dfd)\n",
    "\n",
    "print(critical_f(0.05, 3, 20))"
   ]
  },
  {
   "cell_type": "markdown",
   "id": "ea480e00-012c-4e18-b5d1-74b7da453670",
   "metadata": {},
   "source": [
    "#### Q3. Write a Python program that generates random samples from two normal distributions with known variances and uses an F-test to determine if the variances are equal. The program should output the F-value, degrees of freedom, and p-value for the test."
   ]
  },
  {
   "cell_type": "code",
   "execution_count": 13,
   "id": "fbbbd40d-c058-45a1-a01a-83258eadf1a5",
   "metadata": {},
   "outputs": [
    {
     "name": "stdout",
     "output_type": "stream",
     "text": [
      "F-value:  0.4657421179612578\n",
      "Degrees of freedom:  49 59\n",
      "p-value:  1.9932869653234202\n",
      "The variances are not significantly different.\n"
     ]
    }
   ],
   "source": [
    "import numpy as np\n",
    "from scipy.stats import f\n",
    "\n",
    "# Set the parameters\n",
    "n1, n2 = 50, 60\n",
    "var1, var2 = 10, 15\n",
    "alpha = 0.05\n",
    "\n",
    "data1 = np.random.normal(loc=0, scale=np.sqrt(var1), size=n1)\n",
    "data2 = np.random.normal(loc=0, scale=np.sqrt(var2), size=n2)\n",
    "\n",
    "f_value = np.var(data1, ddof=1) / np.var(data2, ddof=1)\n",
    "df1 = n1 - 1\n",
    "df2 = n2 - 1\n",
    "p_value = f.sf(f_value, df1, df2) * 2\n",
    "\n",
    "print(\"F-value: \", f_value)\n",
    "print(\"Degrees of freedom: \", df1, df2)\n",
    "print(\"p-value: \", p_value)\n",
    "\n",
    "if p_value < alpha:\n",
    "    print(\"The variances are significantly different.\")\n",
    "else:\n",
    "    print(\"The variances are not significantly different.\")"
   ]
  },
  {
   "cell_type": "markdown",
   "id": "e628a079-3f8f-4426-94aa-036c45fe52ee",
   "metadata": {},
   "source": [
    "#### Q4.The variances of two populations are known to be 10 and 15. A sample of 12 observations is taken from each population. Conduct an F-test at the 5% significance level to determine if the variances are significantly different."
   ]
  },
  {
   "cell_type": "code",
   "execution_count": 12,
   "id": "49ea31b9-abe1-447e-b01c-722e7c5676df",
   "metadata": {},
   "outputs": [
    {
     "name": "stdout",
     "output_type": "stream",
     "text": [
      "Fail to reject the null hypothesis\n"
     ]
    }
   ],
   "source": [
    "import scipy.stats as stats\n",
    "\n",
    "alpha = 0.05\n",
    "df1 = df2 = 11\n",
    "var1, var2 = 10, 15\n",
    "s1_sq, s2_sq= 10, 15\n",
    "\n",
    "F = s1_sq / s2_sq\n",
    "\n",
    "p_value = stats.f.sf(F, df1, df2) * 2\n",
    "\n",
    "if p_value < alpha:\n",
    "    print(\"Reject the null hypothesis\")\n",
    "else:\n",
    "    print(\"Fail to reject the null hypothesis\")"
   ]
  },
  {
   "cell_type": "markdown",
   "id": "7f3d0fc9-5b47-4620-a4d1-560a56cc898c",
   "metadata": {},
   "source": [
    "#### Q5. A manufacturer claims that the variance of the diameter of a certain product is 0.005. A sample of 25 products is taken, and the sample variance is found to be 0.006. Conduct an F-test at the 1% significance level to determine if the claim is justified."
   ]
  },
  {
   "cell_type": "code",
   "execution_count": 10,
   "id": "e3680bae-c3ae-4bd9-a1fb-749671676783",
   "metadata": {},
   "outputs": [
    {
     "data": {
      "text/plain": [
       "1.2"
      ]
     },
     "execution_count": 10,
     "metadata": {},
     "output_type": "execute_result"
    }
   ],
   "source": [
    "import scipy.stats as stats\n",
    "\n",
    "sample_var = 0.006\n",
    "pop_var = 0.005\n",
    "dfn = 24\n",
    "dfd = 24\n",
    "\n",
    "f_stat = sample_var / pop_var\n",
    "f_stat"
   ]
  },
  {
   "cell_type": "code",
   "execution_count": 11,
   "id": "c397f77b-e97a-4d26-a02d-c06a7812f5c1",
   "metadata": {},
   "outputs": [
    {
     "data": {
      "text/plain": [
       "2.659072104348157"
      ]
     },
     "execution_count": 11,
     "metadata": {},
     "output_type": "execute_result"
    }
   ],
   "source": [
    "alpha = 0.01\n",
    "crit_val = stats.f.ppf(1-alpha, dfn, dfd)\n",
    "crit_val"
   ]
  },
  {
   "cell_type": "markdown",
   "id": "e821b328-30c5-4309-8adb-9180dbb9ce63",
   "metadata": {},
   "source": [
    "#### Q6. Write a Python function that takes in the degrees of freedom for the numerator and denominator of an F-distribution and calculates the mean and variance of the distribution. The function should return the mean and variance as a tuple."
   ]
  },
  {
   "cell_type": "code",
   "execution_count": 8,
   "id": "3170b826-5438-4c5f-ab33-5bee6023a5ee",
   "metadata": {},
   "outputs": [
    {
     "name": "stdout",
     "output_type": "stream",
     "text": [
      "Mean: 1.2\n",
      "Variance: 1.56\n"
     ]
    }
   ],
   "source": [
    "import scipy.stats as stats\n",
    "\n",
    "def f_distribution_mean_variance(dfn, dfd):\n",
    "    mean = dfd / (dfd - 2)\n",
    "    variance = (2 * (dfd**2) * (dfn + dfd - 2)) / (dfn * (dfd - 2)**2 * (dfd - 4))\n",
    "    return (mean, variance)\n",
    "\n",
    "mean, variance = f_distribution_mean_variance(3, 12)\n",
    "print(\"Mean:\", mean)\n",
    "print(\"Variance:\", variance)"
   ]
  },
  {
   "cell_type": "markdown",
   "id": "c4234311-657e-4e4a-87a1-485b008f68a2",
   "metadata": {},
   "source": [
    "#### Q7. A random sample of 10 measurements is taken from a normal population with unknown variance. The sample variance is found to be 25. Another random sample of 15 measurements is taken from another normal population with unknown variance, and the sample variance is found to be 20. Conduct an F-test at the 10% significance level to determine if the variances are significantly different."
   ]
  },
  {
   "cell_type": "code",
   "execution_count": 5,
   "id": "a3f8e817-c591-4ddc-99e4-01c386094f08",
   "metadata": {},
   "outputs": [
    {
     "name": "stdout",
     "output_type": "stream",
     "text": [
      "The variances are not significantly different.\n"
     ]
    }
   ],
   "source": [
    "import scipy.stats as stats\n",
    "\n",
    "s1_squared = 25\n",
    "s2_squared = 20\n",
    "n1 = 10\n",
    "n2 = 15\n",
    "\n",
    "F = s1_squared / s2_squared\n",
    "p_value = 2 * min(stats.f.cdf(F, n1-1, n2-1), 1 - stats.f.cdf(F, n1-1, n2-1))\n",
    "\n",
    "if p_value < 0.1:\n",
    "    print(\"The variances are significantly different.\")\n",
    "else:\n",
    "    print(\"The variances are not significantly different.\")"
   ]
  },
  {
   "cell_type": "markdown",
   "id": "d4695823-43ee-4e3e-b3d7-50883b19c592",
   "metadata": {},
   "source": [
    "#### Q8. The following data represent the waiting times in minutes at two different restaurants on a Saturday night: Restaurant A: 24, 25, 28, 23, 22, 20, 27; Restaurant B: 31, 33, 35, 30, 32, 36. Conduct an F-test at the 5% significance level to determine if the variances are significantly different."
   ]
  },
  {
   "cell_type": "code",
   "execution_count": 4,
   "id": "e79fd7aa-6b7c-496e-9c31-4016db755217",
   "metadata": {},
   "outputs": [
    {
     "name": "stdout",
     "output_type": "stream",
     "text": [
      "F-statistic: 36.42289051820553\n",
      "p-value: 8.48759371471029e-05\n"
     ]
    }
   ],
   "source": [
    "from scipy.stats import f_oneway\n",
    "\n",
    "restaurant_a = [24, 25, 28, 23, 22, 20, 27]\n",
    "restaurant_b = [31, 33, 35, 30, 32, 36]\n",
    "\n",
    "f_stat, p_value = f_oneway(restaurant_a, restaurant_b)\n",
    "\n",
    "print(\"F-statistic:\", f_stat)\n",
    "print(\"p-value:\", p_value)"
   ]
  },
  {
   "cell_type": "markdown",
   "id": "59b2a83c-e7b2-45a3-a8ba-c712d7326757",
   "metadata": {},
   "source": [
    "#### Q9. The following data represent the test scores of two groups of students: Group A: 80, 85, 90, 92, 87, 83; Group B: 75, 78, 82, 79, 81, 84. Conduct an F-test at the 1% significance level to determine if the variances are significantly different."
   ]
  },
  {
   "cell_type": "code",
   "execution_count": 3,
   "id": "2716a3e1-3ad4-405a-abe3-58f841fbabf3",
   "metadata": {},
   "outputs": [
    {
     "name": "stdout",
     "output_type": "stream",
     "text": [
      "Variance of Group A: 19.76666666666667\n",
      "Variance of Group B: 10.166666666666666\n",
      "F-ratio: 1.9442622950819677\n"
     ]
    }
   ],
   "source": [
    "import numpy as np\n",
    "\n",
    "group_a = np.array([80, 85, 90, 92, 87, 83])\n",
    "group_b = np.array([75, 78, 82, 79, 81, 84])\n",
    "\n",
    "var_a = np.var(group_a, ddof=1)\n",
    "var_b = np.var(group_b, ddof=1)\n",
    "\n",
    "print('Variance of Group A:', var_a)\n",
    "print('Variance of Group B:', var_b)\n",
    "\n",
    "f_ratio = var_a / var_b\n",
    "print('F-ratio:', f_ratio)"
   ]
  }
 ],
 "metadata": {
  "kernelspec": {
   "display_name": "Python 3 (ipykernel)",
   "language": "python",
   "name": "python3"
  },
  "language_info": {
   "codemirror_mode": {
    "name": "ipython",
    "version": 3
   },
   "file_extension": ".py",
   "mimetype": "text/x-python",
   "name": "python",
   "nbconvert_exporter": "python",
   "pygments_lexer": "ipython3",
   "version": "3.10.8"
  }
 },
 "nbformat": 4,
 "nbformat_minor": 5
}
