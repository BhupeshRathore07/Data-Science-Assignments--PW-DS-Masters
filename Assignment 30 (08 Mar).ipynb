{
 "cells": [
  {
   "cell_type": "markdown",
   "id": "31ff94f4-2894-42e8-ac6c-658b4dba20f2",
   "metadata": {
    "tags": []
   },
   "source": [
    "#### Q1. What is the Probability density function?"
   ]
  },
  {
   "cell_type": "markdown",
   "id": "6f5ebc23-fe21-4f89-830f-fb63d2ce6c00",
   "metadata": {},
   "source": [
    "Ans: Probability density function (PDF) is a function that describes the relative likelihood of different outcomes in a continuous random variable. The area under the curve of the PDF gives the probability of the outcome."
   ]
  },
  {
   "cell_type": "markdown",
   "id": "ed805a04-42e2-4c3f-a1cd-c166b6d3fe91",
   "metadata": {},
   "source": [
    "#### Q2. What are the types of Probability distribution?"
   ]
  },
  {
   "cell_type": "markdown",
   "id": "c9069b56-0974-4802-b275-0ed358874cc9",
   "metadata": {},
   "source": [
    "Ans:\n",
    "1. Normal distribution\n",
    "2. Binomial distribution\n",
    "3. Poisson distribution\n",
    "4. Uniform distribution\n",
    "5. Bernoulli distribution\n",
    "6. Chi-Square distribution"
   ]
  },
  {
   "cell_type": "markdown",
   "id": "ea480e00-012c-4e18-b5d1-74b7da453670",
   "metadata": {},
   "source": [
    "#### Q3. Write a Python function to calculate the probability density function of a normal distribution with given mean and standard deviation at a given point."
   ]
  },
  {
   "cell_type": "code",
   "execution_count": 6,
   "id": "75e33467-324c-4b4a-bbbf-738f2f337ccf",
   "metadata": {},
   "outputs": [
    {
     "name": "stdout",
     "output_type": "stream",
     "text": [
      "The pdf with mean=0 and standard deviation=1 at x=1 is 0.24197072451914337\n"
     ]
    }
   ],
   "source": [
    "import scipy.stats as stats\n",
    "\n",
    "mean = 0\n",
    "std = 1\n",
    "x = 1\n",
    "pdf = stats.norm.pdf(x, loc=mean, scale=std)\n",
    "\n",
    "print(f\"The pdf with mean={mean} and standard deviation={std} at x={x} is {pdf}\")"
   ]
  },
  {
   "cell_type": "markdown",
   "id": "f0eff019-96f0-4f05-91c4-f6dc6714f50d",
   "metadata": {},
   "source": [
    "#### Q4. What are the properties of Binomial distribution? Give two examples of events where binomial distribution can be applied."
   ]
  },
  {
   "cell_type": "markdown",
   "id": "a6e396cd-7775-4a65-8758-c853dc17030f",
   "metadata": {},
   "source": [
    "Ans: The properties of Binomial distribution are:\n",
    "1. There are two possible outcomes (true or false, success or failure, yes or no, etc.)\n",
    "2. The number of observations 'n' is fixed.\n",
    "3. Each observation is independent.\n",
    "4. The probability of \"success\" is the same for each outcome.\n",
    "\n",
    "Eg1: Flipping a coin multiple times\n",
    "\n",
    "Eg2: Election outcomes\n"
   ]
  },
  {
   "cell_type": "markdown",
   "id": "413e519d-6752-496c-943d-9a8b6d1f4fad",
   "metadata": {},
   "source": [
    "#### Q5. Generate a random sample of size 1000 from a binomial distribution with probability of success 0.4 and plot a histogram of the results using matplotlib."
   ]
  },
  {
   "cell_type": "code",
   "execution_count": 7,
   "id": "1f16b332-11a0-4c87-9070-b84b669d3a4b",
   "metadata": {},
   "outputs": [
    {
     "data": {
      "image/png": "[encoded data removed]",
      "text/plain": [
       "<Figure size 640x480 with 1 Axes>"
      ]
     },
     "metadata": {},
     "output_type": "display_data"
    }
   ],
   "source": [
    "import numpy as np\n",
    "import matplotlib.pyplot as plt\n",
    "\n",
    "p = 0.4\n",
    "n = 1000\n",
    "sample = np.random.binomial(n, p, size=n)\n",
    "\n",
    "plt.hist(sample, bins=20, density=True, alpha=0.5, color='b')\n",
    "plt.xlabel('Number of Successes')\n",
    "plt.ylabel('Probability Density')\n",
    "plt.title('Histogram of Binomial Distribution')\n",
    "plt.show()"
   ]
  },
  {
   "cell_type": "markdown",
   "id": "6a41c26c-8f24-481a-9d80-9ede2883fecb",
   "metadata": {},
   "source": [
    "#### Q6. Write a Python function to calculate the cumulative distribution function of a Poisson distribution with given mean at a given point."
   ]
  },
  {
   "cell_type": "code",
   "execution_count": 11,
   "id": "45d55be6-9cbc-4213-8fcd-c2424b7e9e0e",
   "metadata": {},
   "outputs": [
    {
     "data": {
      "text/plain": [
       "0.857123460498547"
      ]
     },
     "execution_count": 11,
     "metadata": {},
     "output_type": "execute_result"
    }
   ],
   "source": [
    "import scipy.stats as stats\n",
    "point, mean = 3, 2\n",
    "stats.poisson.cdf(point, mean)"
   ]
  },
  {
   "cell_type": "markdown",
   "id": "ad4dedf6-361e-46d9-9e9f-f8b3b7f7c72c",
   "metadata": {},
   "source": [
    "#### Q7. How Binomial distribution different from Poisson distribution?"
   ]
  },
  {
   "cell_type": "markdown",
   "id": "02878408-ea62-4afd-be86-21a00917cd10",
   "metadata": {},
   "source": [
    "Ans: Binomial distribution describes the distribution of binary data from a finite sample. Thus it gives the probability of getting r events out of n trials. \n",
    "\n",
    "On the Other hand, Poisson distribution describes the distribution of binary data from an infinite sample. Thus it gives the probability of getting r events in a population."
   ]
  },
  {
   "cell_type": "markdown",
   "id": "49abb156-4225-49ba-96b9-158e9e3e408f",
   "metadata": {},
   "source": [
    "#### Q8. Generate a random sample of size 1000 from a Poisson distribution with mean 5 and calculate the sample mean and variance."
   ]
  },
  {
   "cell_type": "code",
   "execution_count": 13,
   "id": "cce35eeb-2054-48fe-85e7-4d2ae968626c",
   "metadata": {},
   "outputs": [
    {
     "name": "stdout",
     "output_type": "stream",
     "text": [
      "Sample mean: 4.986\n",
      "Sample variance: 5.020824824824825\n"
     ]
    }
   ],
   "source": [
    "import numpy as np\n",
    "\n",
    "sample = np.random.poisson(lam=5, size=1000)\n",
    "\n",
    "mean = np.mean(sample)\n",
    "var = np.var(sample, ddof=1)\n",
    "\n",
    "print(\"Sample mean:\", mean)\n",
    "print(\"Sample variance:\", var)"
   ]
  },
  {
   "cell_type": "markdown",
   "id": "d348c69b-b80f-4318-9307-b721686532dd",
   "metadata": {},
   "source": [
    "#### Q9. How mean and variance are related in Binomial distribution and Poisson distribution?"
   ]
  },
  {
   "cell_type": "markdown",
   "id": "ef103229-835e-4c56-ab72-fe3d036ca9ed",
   "metadata": {},
   "source": [
    "Ans: In Binomial Distribution,\n",
    "\n",
    "mean = np\n",
    "\n",
    "Varinace = npq = np(1-p)\n",
    "\n",
    "\n",
    "In Poisson Distribution,\n",
    "\n",
    "Mean = variance"
   ]
  },
  {
   "cell_type": "markdown",
   "id": "8bb5642a-8105-4999-9529-056f4f48b4fa",
   "metadata": {},
   "source": [
    "#### Q10. In normal distribution with respect to mean position, where does the least frequent data appear?"
   ]
  },
  {
   "cell_type": "markdown",
   "id": "9c3d37b9-1ede-4e73-8535-271ccdf0baeb",
   "metadata": {
    "tags": []
   },
   "source": [
    "Ans: In a normal distribution, the least frequent data appears in the tails of the distribution which is loacted at the ends of distribution around its mean."
   ]
  }
 ],
 "metadata": {
  "kernelspec": {
   "display_name": "Python 3 (ipykernel)",
   "language": "python",
   "name": "python3"
  },
  "language_info": {
   "codemirror_mode": {
    "name": "ipython",
    "version": 3
   },
   "file_extension": ".py",
   "mimetype": "text/x-python",
   "name": "python",
   "nbconvert_exporter": "python",
   "pygments_lexer": "ipython3",
   "version": "3.10.8"
  }
 },
 "nbformat": 4,
 "nbformat_minor": 5
}
