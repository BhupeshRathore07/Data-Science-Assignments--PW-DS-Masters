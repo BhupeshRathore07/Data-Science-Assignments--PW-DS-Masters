{
 "cells": [
  {
   "cell_type": "markdown",
   "id": "ea480e00-012c-4e18-b5d1-74b7da453670",
   "metadata": {},
   "source": [
    "#### Q1. What are the three measures of central tendency?"
   ]
  },
  {
   "cell_type": "markdown",
   "id": "4eee0fba-2d6d-442c-b8db-878dcc0d30d6",
   "metadata": {},
   "source": [
    "Ans:\n",
    "1. Mean \n",
    "2. Median \n",
    "3. Mode "
   ]
  },
  {
   "cell_type": "markdown",
   "id": "b51a0260-635a-4b59-84d5-97a9cb15f936",
   "metadata": {},
   "source": [
    "#### Q2. What is the difference between the mean, median, and mode? How are they used to measure the central tendency of a dataset?"
   ]
  },
  {
   "cell_type": "markdown",
   "id": "b7a2c3f0-ae9e-4ce4-b58d-5155296a8900",
   "metadata": {},
   "source": [
    "Ans:\n",
    "1. Mean (average value of the dataset)\n",
    "2. Median (middle value in a dataset)\n",
    "3. Mode (value that occurs most frequently in a dataset)"
   ]
  },
  {
   "cell_type": "markdown",
   "id": "12e76e1e-4044-4579-a1e7-547512a7f1fc",
   "metadata": {},
   "source": [
    "#### Q3. Measure the three measures of central tendency for the given height data:\n",
    "[178,177,176,177,178.2,178,175,179,180,175,178.9,176.2,177,172.5,178,176.5]"
   ]
  },
  {
   "cell_type": "markdown",
   "id": "a0c454ed-d898-4b32-8b15-d5095c051a20",
   "metadata": {},
   "source": [
    "Ans:\n",
    "1. Mean = 177.01875\n",
    "2. Median = 177\n",
    "3. Mode = 178"
   ]
  },
  {
   "cell_type": "markdown",
   "id": "8c3eef23-efc7-4f60-be31-c568ccbb3508",
   "metadata": {},
   "source": [
    "#### Q4. Find the standard deviation for the given data:\n",
    "[178,177,176,177,178.2,178,175,179,180,175,178.9,176.2,177,172.5,178,176.5]"
   ]
  },
  {
   "cell_type": "code",
   "execution_count": 1,
   "id": "1074677a-65e4-4b2f-b814-1a96d696b1b6",
   "metadata": {},
   "outputs": [
    {
     "data": {
      "text/plain": [
       "1.7885814036548633"
      ]
     },
     "execution_count": 1,
     "metadata": {},
     "output_type": "execute_result"
    }
   ],
   "source": [
    "import numpy as np\n",
    "l = [178,177,176,177,178.2,178,175,179,180,175,178.9,176.2,177,172.5,178,176.5]\n",
    "np.std(l)"
   ]
  },
  {
   "cell_type": "markdown",
   "id": "086174da-9e48-4294-8dc7-165bae4e61c0",
   "metadata": {},
   "source": [
    "#### Q5. How are measures of dispersion such as range, variance, and standard deviation used to describe the spread of a dataset? Provide an example."
   ]
  },
  {
   "cell_type": "markdown",
   "id": "cb7faf7d-aa9a-4c6b-a006-b907183da7fc",
   "metadata": {},
   "source": [
    "Ans: Range: Defines the difference between the largest and smallest values in the dataset.\n",
    "eg: [160, 165, 170, 172, 173, 175, 180, 185, 190, 195], the range would be 35 (195 - 160)\n",
    "\n",
    "Variance: This is the average of the squared differences of each value in the dataset from the mean.\n",
    "eg: The variance is 175.3\n",
    "\n",
    "Standard deviation: This is the square root of the variance. It provides a measure of the spread of the dataset that is in the same units as the data.\n",
    "eg: Standard deviation is 13.2, which shows dispersion from normal mean value.\n"
   ]
  },
  {
   "cell_type": "markdown",
   "id": "133ee968-a409-4c3b-aa09-e642ee890a1b",
   "metadata": {},
   "source": [
    "#### Q6. What is a Venn diagram?"
   ]
  },
  {
   "attachments": {
    "8ba56b02-7ea9-49ba-87c8-94554b267630.png": {
     "image/png": "[encoded data removed]"
    }
   },
   "cell_type": "markdown",
   "id": "f99e71e2-0f39-441a-8d2f-a9faa3073441",
   "metadata": {},
   "source": [
    "Ans: Venn Diagram: A graphical representation of sets relationship, consists of one or more circles\n",
    "\n",
    "eg: \n",
    "\n",
    "![image.png](attachment:8ba56b02-7ea9-49ba-87c8-94554b267630.png)"
   ]
  },
  {
   "cell_type": "markdown",
   "id": "ab51a624-dbf2-4556-a516-feb7ee222eba",
   "metadata": {},
   "source": [
    "#### Q7. For the two given sets A = (2,3,4,5,6,7) & B = (0,2,6,8,10). Find:\n",
    "##### (i) A B\n",
    "##### (ii) A ⋃ B"
   ]
  },
  {
   "cell_type": "markdown",
   "id": "b54ee19d-dec9-4859-a88f-8849f4c8ecfd",
   "metadata": {},
   "source": [
    "Ans: \n",
    "1. A B = {2, 6}\n",
    "2. A ⋃ B = {0, 2, 3, 4, 5, 6, 7, 8, 10}"
   ]
  },
  {
   "cell_type": "markdown",
   "id": "08ff4429-c449-4e0d-beeb-360cdcfc2328",
   "metadata": {},
   "source": [
    "#### Q8. What do you understand about skewness in data?"
   ]
  },
  {
   "cell_type": "markdown",
   "id": "361c734a-e05b-4232-ab44-e76db3b04be4",
   "metadata": {},
   "source": [
    "Ans: Skewness in data: It is a measure of the asymmetry of the distribution of data around its mean."
   ]
  },
  {
   "cell_type": "markdown",
   "id": "a1eb4c56-f951-4a58-a760-64618c04fa96",
   "metadata": {},
   "source": [
    "#### Q9. If a data is right skewed then what will be the position of median with respect to mean?"
   ]
  },
  {
   "cell_type": "markdown",
   "id": "c9a3c6b3-cb02-412b-a5ea-a427a8101200",
   "metadata": {},
   "source": [
    "Ans: Median will be less than the Mean."
   ]
  },
  {
   "cell_type": "markdown",
   "id": "821b2821-3e1d-4a3e-96d4-a445771440b9",
   "metadata": {},
   "source": [
    "#### Q10. Explain the difference between covariance and correlation. How are these measures used in statistical analysis?"
   ]
  },
  {
   "cell_type": "markdown",
   "id": "5910b6df-5a17-4059-9026-4b2c85e4879a",
   "metadata": {},
   "source": [
    "Ans: Covariance is an indicator of the extent to which 2 random variables are dependent on each other. A higher number denotes higher dependency.\n",
    "\n",
    "Correlation is a statistical measure that indicates how strongly two variables are related.\n",
    "\n",
    "These measures are used in statistical analysis to identify relationships between variables and to make predictions based on those relationships."
   ]
  },
  {
   "cell_type": "markdown",
   "id": "7100d424-d256-4faa-be63-741556a3ad37",
   "metadata": {},
   "source": [
    "#### Q11. What is the formula for calculating the sample mean? Provide an example calculation for a dataset."
   ]
  },
  {
   "cell_type": "markdown",
   "id": "ba15023a-f755-4d28-92d6-263d303477f7",
   "metadata": {},
   "source": [
    "Ans: Mean = Sum of all values/ Number of values\n",
    "\n",
    "Mathematically, x̄ = (∑xi) / n\n",
    "\n",
    "eg: data = [5, 6, 8, 9, 10]\n",
    "\n",
    "mean = x̄ =(5 + 6 + 8 + 9 + 10) / 5\n",
    "\n",
    "mean = 7.6"
   ]
  },
  {
   "cell_type": "markdown",
   "id": "a8353487-26c5-49f1-bb3b-f139b8894d16",
   "metadata": {},
   "source": [
    "#### Q12. For a normal distribution data what is the relationship between its measure of central tendency?"
   ]
  },
  {
   "cell_type": "markdown",
   "id": "3efd5301-f667-4e5f-ba1f-6be441d87241",
   "metadata": {},
   "source": [
    "Ans: Mean = Median = Mode"
   ]
  },
  {
   "cell_type": "markdown",
   "id": "a824a488-216a-4601-9fa5-59e9c58351e9",
   "metadata": {},
   "source": [
    "#### Q13. How is covariance different from correlation?"
   ]
  },
  {
   "cell_type": "markdown",
   "id": "98bda38e-4433-49e5-a578-f328dea376d4",
   "metadata": {},
   "source": [
    "Ans: Covariance shows you how the two variables differ, whereas correlation shows you how the two variables are related."
   ]
  },
  {
   "cell_type": "markdown",
   "id": "fbba3f71-14bc-4749-90a6-c8b8c0c977c9",
   "metadata": {},
   "source": [
    "#### Q14. How do outliers affect measures of central tendency and dispersion? Provide an example."
   ]
  },
  {
   "cell_type": "markdown",
   "id": "1a570866-d4dc-4a87-8754-3ead1e2348ff",
   "metadata": {},
   "source": [
    "Ans: Outlier can make range change then it should be and can make mean look useless as well.\n",
    "\n",
    "Eg: D1 = 1,2,3,4,5,6,7\n",
    "Mean of D1 = 4\n",
    "Range = 6\n",
    "\n",
    "Now D2 = 1,2,3,4,5,6,7,100\n",
    "Mean of D2 due to oulier(100) = 16\n",
    "Range = 99 # Which is non-sense"
   ]
  }
 ],
 "metadata": {
  "kernelspec": {
   "display_name": "Python 3 (ipykernel)",
   "language": "python",
   "name": "python3"
  },
  "language_info": {
   "codemirror_mode": {
    "name": "ipython",
    "version": 3
   },
   "file_extension": ".py",
   "mimetype": "text/x-python",
   "name": "python",
   "nbconvert_exporter": "python",
   "pygments_lexer": "ipython3",
   "version": "3.10.8"
  }
 },
 "nbformat": 4,
 "nbformat_minor": 5
}
