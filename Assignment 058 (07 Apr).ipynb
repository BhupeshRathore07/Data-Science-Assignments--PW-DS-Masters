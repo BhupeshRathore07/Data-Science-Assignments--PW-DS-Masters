{
 "cells": [
  {
   "cell_type": "markdown",
   "id": "565c0957-ed5c-4055-90a8-904831d30b72",
   "metadata": {},
   "source": [
    "#### Q1. What is the relationship between polynomial functions and kernel functions in machine learning algorithms?"
   ]
  },
  {
   "cell_type": "markdown",
   "id": "9d6087fd-0078-4545-a775-03ed09c403e5",
   "metadata": {},
   "source": [
    "Ans: Polynomial functions and kernel functions are both types of functions used in machine learning algorithms, and they are related in that polynomial functions can be used as kernel functions. \n",
    "\n",
    "Kernel functions are used in Support Vector Machines (SVMs) to transform the input data into a higher dimensional space, where it can be separated more easily. \n",
    "\n",
    "A polynomial kernel function is a type of kernel function that can be used to transform the input data into a higher dimensional space using a polynomial function."
   ]
  },
  {
   "cell_type": "markdown",
   "id": "13057386-c2b2-4d82-9736-b4a2461c42d6",
   "metadata": {},
   "source": [
    "#### Q2. How can we implement an SVM with a polynomial kernel in Python using Scikit-learn?"
   ]
  },
  {
   "attachments": {
    "60b97128-c330-4cbd-a4d5-456000db1671.png": {
     "image/png": "[encoded data removed]"
    }
   },
   "cell_type": "markdown",
   "id": "235affc8-6c70-46fb-9a1a-42f4beb3d11b",
   "metadata": {},
   "source": [
    "To implement an SVM with a polynomial kernel in Python using Scikit-learn, we can use the SVM class with the kernel parameter set to 'poly':\n",
    "\n",
    "![image.png](attachment:60b97128-c330-4cbd-a4d5-456000db1671.png)"
   ]
  },
  {
   "cell_type": "markdown",
   "id": "0364eb54-ac37-4cb8-a3df-9edec2afcb6e",
   "metadata": {},
   "source": [
    "#### Q3. How does increasing the value of epsilon affect the number of support vectors in SVR?"
   ]
  },
  {
   "cell_type": "markdown",
   "id": "7d272d23-cf48-4fee-9544-e6617b4e40ff",
   "metadata": {},
   "source": [
    "Ans:  In Support Vector Regression (SVR), increasing the value of epsilon generally leads to an increase in the number of support vectors. \n",
    "\n",
    "This is because increasing the value of epsilon allows more data points to be included in the margin, which means that more support vectors are needed to define the margin."
   ]
  },
  {
   "cell_type": "markdown",
   "id": "63625f84-e106-448d-8608-04fe28746d5f",
   "metadata": {},
   "source": [
    "#### Q4. How does the choice of kernel function, C parameter, epsilon parameter, and gamma parameter affect the performance of Support Vector Regression (SVR)? Can you explain how each parameter works and provide examples of when you might want to increase or decrease its value?"
   ]
  },
  {
   "cell_type": "markdown",
   "id": "03702d2a-234b-43fc-9b42-7e9212ba06fc",
   "metadata": {},
   "source": [
    "Ans: The performance of Support Vector Regression (SVR) is affected by several parameters: the choice of kernel function, C parameter, epsilon parameter, and gamma parameter.\n",
    "\n",
    "- The kernel function determines the shape of the decision boundary used to separate the data. For example, a linear kernel creates a linear decision boundary, while a polynomial kernel creates a curved boundary. In general, more complex kernel functions can better fit complex data, but they can also be more prone to overfitting.\n",
    "\n",
    "- The C parameter controls the tradeoff between maximizing the margin and minimizing the training error. A larger C value will prioritize minimizing the training error, while a smaller C value will prioritize maximizing the margin. Increasing the value of C can lead to overfitting, while decreasing it can lead to underfitting.\n",
    "\n",
    "- The epsilon parameter controls the width of the margin in SVR. A larger epsilon value allows more data points to be included in the margin, which can lead to more support vectors and a more flexible model. A smaller epsilon value will create a narrower margin and a more conservative model.\n",
    "\n",
    "- The gamma parameter controls the influence of a single training example. A larger gamma value will consider closer points as the main influence, and a smaller gamma value will consider farther points. Increasing the value of gamma can lead to overfitting, while decreasing it can lead to underfitting.\n",
    "\n",
    "As for when to increase or decrease each parameter's value, it depends on the specific problem you are trying to solve and the characteristics of the data. In general, you should use cross-validation to determine the best combination of parameter values for your specific problem."
   ]
  },
  {
   "cell_type": "markdown",
   "id": "d662af46-ae3a-4636-aa79-ae5181a7e030",
   "metadata": {},
   "source": [
    "#### Q5. Assignment:\n",
    "- Import the necessary libraries and load the dataset\n",
    "- Split the dataset into training and testing sets\n",
    "- Preprocess the data using any technique of your choice (e.g. scaling, normalization)\n",
    "- Create an instance of the SVC classifier and train it on the training data\n",
    "- Ue the trained classifier to predict the labels of the testing data\n",
    "- Evaluate the performance of the classifier using any metric of your choice (e.g. accuracy, precision, recall, F1-score)\n",
    "- Tune the hyperparameters of the SVC classifier using GridSearchCV or RandomizdSearchCV to improve its performance\n",
    "- Train the tuned classifier on the entire dataset\n",
    "- Save the trained classifier to a file for future use."
   ]
  },
  {
   "cell_type": "markdown",
   "id": "2472a2ee-289c-431c-b53b-0092edc90f05",
   "metadata": {},
   "source": [
    "#### NOTE: You can use any dataset of your choice for this assignment, but make sure it is suitable for classification and has a sufficient number of features and samples."
   ]
  },
  {
   "cell_type": "code",
   "execution_count": 2,
   "id": "5c4f5376-cbf8-44b1-90f3-6aaea6bd85dd",
   "metadata": {},
   "outputs": [
    {
     "name": "stdout",
     "output_type": "stream",
     "text": [
      "Accuracy score: 0.98\n"
     ]
    }
   ],
   "source": [
    "from sklearn.datasets import load_breast_cancer\n",
    "from sklearn.model_selection import train_test_split\n",
    "from sklearn.svm import SVC\n",
    "from sklearn.preprocessing import StandardScaler\n",
    "from sklearn.metrics import accuracy_score\n",
    "from sklearn.model_selection import GridSearchCV\n",
    "import pickle\n",
    "\n",
    "\n",
    "# Load the dataset\n",
    "data = load_breast_cancer()\n",
    "X = data.data\n",
    "y = data.target\n",
    "\n",
    "X_train, X_test, y_train, y_test = train_test_split(X, y, test_size=0.2, random_state=42)\n",
    "\n",
    "scaler = StandardScaler()\n",
    "X_train = scaler.fit_transform(X_train)\n",
    "X_test = scaler.transform(X_test)\n",
    "\n",
    "svc = SVC(kernel='rbf', random_state=42)\n",
    "svc.fit(X_train, y_train)\n",
    "\n",
    "y_pred = svc.predict(X_test)\n",
    "\n",
    "accuracy = accuracy_score(y_test, y_pred)\n",
    "print(f\"Accuracy score: {accuracy:.2f}\")\n",
    "\n",
    "param_grid = {'C': [0.1, 1, 10], 'gamma': [0.1, 1, 10], 'kernel': ['rbf']}\n",
    "grid_search = GridSearchCV(SVC(), param_grid, cv=5)\n",
    "grid_search.fit(X_train, y_train)\n",
    "\n",
    "tuned_svc = grid_search.best_estimator_\n",
    "tuned_svc.fit(X, y)\n",
    "\n",
    "# Save the trained classifier to a file for future use\n",
    "with open('tuned_svc_model.pkl', 'wb') as f:\n",
    "    pickle.dump(tuned_svc, f)"
   ]
  }
 ],
 "metadata": {
  "kernelspec": {
   "display_name": "Python 3 (ipykernel)",
   "language": "python",
   "name": "python3"
  },
  "language_info": {
   "codemirror_mode": {
    "name": "ipython",
    "version": 3
   },
   "file_extension": ".py",
   "mimetype": "text/x-python",
   "name": "python",
   "nbconvert_exporter": "python",
   "pygments_lexer": "ipython3",
   "version": "3.10.8"
  }
 },
 "nbformat": 4,
 "nbformat_minor": 5
}
