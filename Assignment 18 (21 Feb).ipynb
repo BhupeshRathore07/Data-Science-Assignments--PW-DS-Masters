{
 "cells": [
  {
   "cell_type": "markdown",
   "id": "31ff94f4-2894-42e8-ac6c-658b4dba20f2",
   "metadata": {
    "tags": []
   },
   "source": [
    "#### Q1. What is Web Scraping? Why is it Used? Give three areas where Web Scraping is used to get data."
   ]
  },
  {
   "cell_type": "markdown",
   "id": "6f5ebc23-fe21-4f89-830f-fb63d2ce6c00",
   "metadata": {},
   "source": [
    "Ans: Web scrapping is process of extracting data from webpages automatically using some tools.\n",
    "\n",
    "It is used to gather data which can not be extracted from APIs of that website and to collect data in sheets for futher usecases.\n",
    "\n",
    "Areas of interest are:\n",
    "1. Research\n",
    "2. Business helps\n",
    "3. Marketing strategies\n"
   ]
  },
  {
   "cell_type": "markdown",
   "id": "ed805a04-42e2-4c3f-a1cd-c166b6d3fe91",
   "metadata": {},
   "source": [
    "#### Q2. What are the different methods used for Web Scraping?"
   ]
  },
  {
   "cell_type": "markdown",
   "id": "c9069b56-0974-4802-b275-0ed358874cc9",
   "metadata": {},
   "source": [
    "Ans: Variour methods are:\n",
    "1. Manually (time consuming)\n",
    "2. APIs (Best if all required data is available)\n",
    "3. Tools like beautifulSoup, Selenium, scrapy, etc."
   ]
  },
  {
   "cell_type": "markdown",
   "id": "ea480e00-012c-4e18-b5d1-74b7da453670",
   "metadata": {},
   "source": [
    "#### Q3. What is Beautiful Soup? Why is it used?"
   ]
  },
  {
   "cell_type": "markdown",
   "id": "1a570866-d4dc-4a87-8754-3ead1e2348ff",
   "metadata": {},
   "source": [
    "Ans: Beautiful Soup is python collection used for webscrapping data from HTML or XML pages.\n",
    "\n",
    "BS is used for webscrapping as shown in the below example:"
   ]
  },
  {
   "cell_type": "code",
   "execution_count": 2,
   "id": "7d216e7c-7337-4c99-a5f0-04367d7a40f2",
   "metadata": {},
   "outputs": [
    {
     "name": "stdout",
     "output_type": "stream",
     "text": [
      "Title: APPLE iPhone 11 Pro (Midnight Green, 64 GB)\n",
      "Price: ₹87,099\n",
      "-----------------------\n",
      "Title: APPLE iPhone 11 Pro (Silver, 256 GB)\n",
      "Price: ₹1,00,699\n",
      "-----------------------\n",
      "Title: APPLE iPhone 11 Pro (Space Grey, 256 GB)\n",
      "Price: ₹1,00,699\n",
      "-----------------------\n",
      "Title: APPLE iPhone 11 Pro (Silver, 512 GB)\n",
      "Price: ₹1,17,949\n",
      "-----------------------\n",
      "Title: APPLE iPhone 11 Pro (Space Grey, 512 GB)\n",
      "Price: ₹1,17,949\n",
      "-----------------------\n",
      "Title: APPLE iPhone 11 Pro (Gold, 512 GB)\n",
      "Price: ₹1,17,949\n",
      "-----------------------\n"
     ]
    }
   ],
   "source": [
    "import requests\n",
    "from bs4 import BeautifulSoup\n",
    "\n",
    "url = \"https://www.flipkart.com/search?q=iphone11pro\"\n",
    "response = requests.get(url)\n",
    "soup = BeautifulSoup(response.content, \"html.parser\")\n",
    "\n",
    "product_titles = soup.find_all(\"div\", {\"class\": \"_4rR01T\"})\n",
    "product_prices = soup.find_all(\"div\", {\"class\": \"_30jeq3 _1_WHN1\"})\n",
    "\n",
    "for i in range(6):\n",
    "    print(\"Title:\", product_titles[i].text)\n",
    "    print(\"Price:\", product_prices[i].text)\n",
    "    print(\"-----------------------\")"
   ]
  },
  {
   "cell_type": "markdown",
   "id": "f0eff019-96f0-4f05-91c4-f6dc6714f50d",
   "metadata": {},
   "source": [
    "#### Q4. Why is flask used in this Web Scraping project?"
   ]
  },
  {
   "cell_type": "markdown",
   "id": "9c3d37b9-1ede-4e73-8535-271ccdf0baeb",
   "metadata": {
    "tags": []
   },
   "source": [
    "Ans: Flask is a lightweight and flexible environment for building web applications that can be easily deployed.\n",
    "\n",
    "In a web scraping project, Flask can be useful for creating web interfaces and APIs as well, which is helpful as in all."
   ]
  },
  {
   "cell_type": "markdown",
   "id": "d27dca1a-69d7-4653-9c35-e1e91bf7a8b6",
   "metadata": {},
   "source": [
    "#### Q5. Write the names of AWS services used in this project. Also, explain the use of each service."
   ]
  },
  {
   "cell_type": "markdown",
   "id": "fecf9660-d0ba-4539-abd8-ce0706a0f0f9",
   "metadata": {},
   "source": [
    "Ans: Services used are:\n",
    "\n",
    "1. Codepipeline: It is a continuous delivery service that we can use to model, visualize, and automate the steps required to release any software.\n",
    "\n",
    "2. Beanstalk: it is service by AWS for deploying and scaling web applications and services."
   ]
  }
 ],
 "metadata": {
  "kernelspec": {
   "display_name": "Python 3 (ipykernel)",
   "language": "python",
   "name": "python3"
  },
  "language_info": {
   "codemirror_mode": {
    "name": "ipython",
    "version": 3
   },
   "file_extension": ".py",
   "mimetype": "text/x-python",
   "name": "python",
   "nbconvert_exporter": "python",
   "pygments_lexer": "ipython3",
   "version": "3.10.8"
  }
 },
 "nbformat": 4,
 "nbformat_minor": 5
}
