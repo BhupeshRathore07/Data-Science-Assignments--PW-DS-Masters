{
 "cells": [
  {
   "cell_type": "markdown",
   "id": "4f683c92-a23c-4bf5-971d-5fe63f6e30be",
   "metadata": {},
   "source": [
    "##### Consider the below code to answer further questions:\n",
    "##### import numpy as np\n",
    "##### list_ = [ ‘1’ , ’2’ , ‘3’ , ‘4’ , ‘5’ ]\n",
    "##### array_list = np.array(object = list_)"
   ]
  },
  {
   "cell_type": "code",
   "execution_count": 1,
   "id": "47de1066-6ae5-4801-adf8-322741e55b31",
   "metadata": {},
   "outputs": [],
   "source": [
    "import numpy as np\n",
    "list_ = [ \"1\",\"2\",\"3\",\"4\",\"5\" ]\n",
    "array_list = np.array(object = list_)"
   ]
  },
  {
   "cell_type": "markdown",
   "id": "31ff94f4-2894-42e8-ac6c-658b4dba20f2",
   "metadata": {
    "tags": []
   },
   "source": [
    "#### Q1. Is there any difference in the data type of variables list_ and array_list? If there is then write a code to print the data types of both the variables."
   ]
  },
  {
   "cell_type": "markdown",
   "id": "9aa9393e-9910-4b2c-9002-01940e9466cd",
   "metadata": {},
   "source": [
    "Ans: Yes. \n",
    "\n",
    "\"list_\" is a Python list, which can contain elements of different data types.\n",
    "\n",
    "\"array_list\" is a NumPy array, which can contain elements of only one data type."
   ]
  },
  {
   "cell_type": "code",
   "execution_count": 2,
   "id": "5e83c0fd-0f36-471c-b598-cf5652db2a63",
   "metadata": {},
   "outputs": [
    {
     "name": "stdout",
     "output_type": "stream",
     "text": [
      "<class 'list'>\n",
      "<class 'numpy.ndarray'>\n"
     ]
    }
   ],
   "source": [
    "print(type(list_))\n",
    "print(type(array_list))"
   ]
  },
  {
   "cell_type": "markdown",
   "id": "ed805a04-42e2-4c3f-a1cd-c166b6d3fe91",
   "metadata": {
    "tags": []
   },
   "source": [
    "#### Q2. Write a code to print the data type of each and every element of both the variables list_ and array_list."
   ]
  },
  {
   "cell_type": "code",
   "execution_count": 3,
   "id": "1178b9f1-e739-413f-8d0c-0ddd952d6675",
   "metadata": {},
   "outputs": [
    {
     "name": "stdout",
     "output_type": "stream",
     "text": [
      "<class 'str'>\n",
      "<class 'str'>\n",
      "<class 'str'>\n",
      "<class 'str'>\n",
      "<class 'str'>\n",
      "<class 'numpy.str_'>\n",
      "<class 'numpy.str_'>\n",
      "<class 'numpy.str_'>\n",
      "<class 'numpy.str_'>\n",
      "<class 'numpy.str_'>\n"
     ]
    }
   ],
   "source": [
    "for i in list_:\n",
    "    print(type(i))\n",
    "\n",
    "\n",
    "for j in array_list:\n",
    "    print(type(j))"
   ]
  },
  {
   "cell_type": "markdown",
   "id": "ea480e00-012c-4e18-b5d1-74b7da453670",
   "metadata": {},
   "source": [
    "#### Q3. Considering the following changes in the variable, array_list:\n",
    "##### array_list = np.array(object = list_, dtype = int)\n",
    "##### Will there be any difference in the data type of the elements present in both the variables, list_ and arra_list? If so then print the data types of each and every element present in both the variables, list_ and arra_list."
   ]
  },
  {
   "cell_type": "markdown",
   "id": "b5f71569-6929-405c-83fa-19102a98f94a",
   "metadata": {},
   "source": [
    "Ans: Yes, there is dufference in the data type of the elements present in both the variables, list_ and arra_list, that is the type of data in array_list has changed into \"int\" from \"str\"."
   ]
  },
  {
   "cell_type": "code",
   "execution_count": 6,
   "id": "247d4a89-f638-4e4e-9312-ffea5b89f336",
   "metadata": {},
   "outputs": [
    {
     "name": "stdout",
     "output_type": "stream",
     "text": [
      "<class 'str'>\n",
      "<class 'str'>\n",
      "<class 'str'>\n",
      "<class 'str'>\n",
      "<class 'str'>\n",
      "<class 'numpy.int64'>\n",
      "<class 'numpy.int64'>\n",
      "<class 'numpy.int64'>\n",
      "<class 'numpy.int64'>\n",
      "<class 'numpy.int64'>\n"
     ]
    }
   ],
   "source": [
    "array_list = np.array(object = list_, dtype = int)\n",
    "\n",
    "for i in list_:\n",
    "    print(type(i))\n",
    "\n",
    "for j in array_list:\n",
    "    print(type(j))"
   ]
  },
  {
   "cell_type": "markdown",
   "id": "0f7642c3-6135-42a7-98be-86f3bb8c4a1a",
   "metadata": {},
   "source": [
    "#### Consider the below code to answer further questions:\n",
    "##### import numpy as np\n",
    "##### num_list = [ [ 1 , 2 , 3 ] , [ 4 , 5 , 6 ] ]\n",
    "##### num_array = np.array(object = num_list)"
   ]
  },
  {
   "cell_type": "code",
   "execution_count": 7,
   "id": "9f00e9e5-3d51-4825-95a8-2c85bec852c4",
   "metadata": {},
   "outputs": [],
   "source": [
    "import numpy as np\n",
    "num_list = [ [ 1 , 2 , 3 ] , [ 4 , 5 , 6 ] ]\n",
    "num_array = np.array(object = num_list)"
   ]
  },
  {
   "cell_type": "markdown",
   "id": "f0eff019-96f0-4f05-91c4-f6dc6714f50d",
   "metadata": {},
   "source": [
    "#### Q4. Write a code to find the following characteristics of variable, num_array:\n",
    "(i) shape\n",
    "(ii) size"
   ]
  },
  {
   "cell_type": "code",
   "execution_count": 9,
   "id": "5236819e-66a9-46f7-bc0a-2e073b42511c",
   "metadata": {},
   "outputs": [
    {
     "name": "stdout",
     "output_type": "stream",
     "text": [
      "Shape:  (2, 3)\n",
      "Size:  6\n"
     ]
    }
   ],
   "source": [
    "print(\"Shape: \",num_array.shape)\n",
    "\n",
    "print(\"Size: \",num_array.size)"
   ]
  },
  {
   "cell_type": "markdown",
   "id": "56d9831e-2351-4b73-8731-8dd7f2a580e9",
   "metadata": {},
   "source": [
    "#### Q5. Write a code to create numpy array of 3*3 matrix containing zeros only, using a numpy array creation function.\n",
    "[Hint: The size of the array will be 9 and the shape will be (3,3).]"
   ]
  },
  {
   "cell_type": "code",
   "execution_count": 12,
   "id": "cab518ea-560e-47d3-b7ca-bddd24773153",
   "metadata": {},
   "outputs": [
    {
     "data": {
      "text/plain": [
       "array([[0., 0., 0.],\n",
       "       [0., 0., 0.],\n",
       "       [0., 0., 0.]])"
      ]
     },
     "execution_count": 12,
     "metadata": {},
     "output_type": "execute_result"
    }
   ],
   "source": [
    "zeros_array = np.zeros((3, 3))\n",
    "\n",
    "zeros_array"
   ]
  },
  {
   "cell_type": "markdown",
   "id": "f1d16d28-5814-4e91-addd-4fe5798bd741",
   "metadata": {},
   "source": [
    "#### Q6. Create an identity matrix of shape (5,5) using numpy functions?\n",
    "[Hint: An identity matrix is a matrix containing 1 diagonally and other elements will be 0.]"
   ]
  },
  {
   "cell_type": "code",
   "execution_count": 15,
   "id": "f24c2e85-51fa-497e-aeba-c1651ca4cedd",
   "metadata": {
    "tags": []
   },
   "outputs": [
    {
     "data": {
      "text/plain": [
       "array([[1., 0., 0., 0., 0.],\n",
       "       [0., 1., 0., 0., 0.],\n",
       "       [0., 0., 1., 0., 0.],\n",
       "       [0., 0., 0., 1., 0.],\n",
       "       [0., 0., 0., 0., 1.]])"
      ]
     },
     "execution_count": 15,
     "metadata": {},
     "output_type": "execute_result"
    }
   ],
   "source": [
    "eye_matrix = np.eye(5)\n",
    "\n",
    "eye_matrix"
   ]
  }
 ],
 "metadata": {
  "kernelspec": {
   "display_name": "Python 3 (ipykernel)",
   "language": "python",
   "name": "python3"
  },
  "language_info": {
   "codemirror_mode": {
    "name": "ipython",
    "version": 3
   },
   "file_extension": ".py",
   "mimetype": "text/x-python",
   "name": "python",
   "nbconvert_exporter": "python",
   "pygments_lexer": "ipython3",
   "version": "3.10.8"
  }
 },
 "nbformat": 4,
 "nbformat_minor": 5
}
