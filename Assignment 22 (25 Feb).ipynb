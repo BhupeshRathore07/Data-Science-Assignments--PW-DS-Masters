{
 "cells": [
  {
   "cell_type": "markdown",
   "id": "fe8167ac-f4df-4ebd-bad9-d484b6e62813",
   "metadata": {},
   "source": [
    "##### Consider following code to answer further questions:\n",
    "##### import pandas as pd\n",
    "##### course_name = [‘Data Science’, ‘Machine Learning’, ‘Big Data’, ‘Data Engineer’]\n",
    "##### duration = [2,3,6,4]\n",
    "##### df = pd.DataFrame(data = {‘course_name’ : course_name, ‘duration’ : duration})"
   ]
  },
  {
   "cell_type": "code",
   "execution_count": null,
   "id": "634a1526-eb21-4e70-b57f-d2acd9faf47a",
   "metadata": {},
   "outputs": [],
   "source": [
    "import pandas as pd\n",
    "course_name = [\"Data Science\", \"Machine Learning\", \"Big Data\", \"Data Engineer\"]\n",
    "duration = [2,3,6,4]\n",
    "df = pd.DataFrame(data = {\"course_name\" : course_name, \"duration\" : duration})"
   ]
  },
  {
   "cell_type": "markdown",
   "id": "31ff94f4-2894-42e8-ac6c-658b4dba20f2",
   "metadata": {
    "tags": []
   },
   "source": [
    "#### Q1. Write a code to print the data present in the second row of the dataframe, df."
   ]
  },
  {
   "cell_type": "code",
   "execution_count": null,
   "id": "93ac9b07-cb08-4659-b50d-b7617d7e4928",
   "metadata": {},
   "outputs": [],
   "source": [
    "df.iloc[1]"
   ]
  },
  {
   "cell_type": "markdown",
   "id": "ed805a04-42e2-4c3f-a1cd-c166b6d3fe91",
   "metadata": {},
   "source": [
    "#### Q2. What is the difference between the functions loc and iloc in pandas.DataFrame?"
   ]
  },
  {
   "cell_type": "markdown",
   "id": "c9069b56-0974-4802-b275-0ed358874cc9",
   "metadata": {},
   "source": [
    "Ans: Both loc and iloc are used to access rows and columns in a Pandas DataFrame.\n",
    "\n",
    "But iloc takes the index value while loc takes the data value to show the data."
   ]
  },
  {
   "cell_type": "markdown",
   "id": "ea480e00-012c-4e18-b5d1-74b7da453670",
   "metadata": {},
   "source": [
    "#### Q3. Reindex the given dataframe using a variable, reindex = [3,0,1,2] and store it in the variable, new_df then find the output for both new_df.loc[2] and new_df.iloc[2].\n",
    "\n",
    "##### Did you observe any difference in both the outputs? If so then explain it."
   ]
  },
  {
   "cell_type": "code",
   "execution_count": null,
   "id": "8bcd1107-7253-4862-a785-280ee1886d89",
   "metadata": {},
   "outputs": [],
   "source": [
    "import pandas as pd\n",
    "\n",
    "reindex = [3,0,1,2]\n",
    "\n",
    "new_df = df.reindex(reindex)"
   ]
  },
  {
   "cell_type": "code",
   "execution_count": null,
   "id": "b576bf86-e342-48e5-8efb-6f53b0fa9127",
   "metadata": {},
   "outputs": [],
   "source": [
    "new_df.loc[2]"
   ]
  },
  {
   "cell_type": "code",
   "execution_count": null,
   "id": "016c5b84-98e2-4dd1-87c5-5092c4ea21bd",
   "metadata": {},
   "outputs": [],
   "source": [
    "new_df.iloc[2]"
   ]
  },
  {
   "cell_type": "markdown",
   "id": "f45e971a-47fa-47c4-b757-672b29adb2c7",
   "metadata": {},
   "source": [
    "Ans: difference is due to iloc take index while loc takes the dataframe value."
   ]
  },
  {
   "cell_type": "markdown",
   "id": "c2c6de37-56ca-451a-b609-9d517cfed915",
   "metadata": {},
   "source": [
    "# --------------------------------------"
   ]
  },
  {
   "cell_type": "markdown",
   "id": "1a570866-d4dc-4a87-8754-3ead1e2348ff",
   "metadata": {},
   "source": [
    "##### Consider the below code to answer further questions:\n",
    "##### import pandas as pd\n",
    "##### import numpy as np\n",
    "##### columns = ['column_1', 'column_2', 'column_3', 'column_4', 'column_5', 'column_6']\n",
    "##### indices = [1,2,3,4,5,6]\n",
    "##### #Creating a dataframe:\n",
    "##### df1 = pd.DataFrame(np.random.rand(6,6), columns = columns, index = indices)"
   ]
  },
  {
   "cell_type": "code",
   "execution_count": null,
   "id": "bb148d20-db0f-4909-89fb-42f4050460c6",
   "metadata": {},
   "outputs": [],
   "source": [
    "import pandas as pd\n",
    "import numpy as np\n",
    "columns = ['column_1', 'column_2', 'column_3', 'column_4', 'column_5', 'column_6']\n",
    "indices = [1,2,3,4,5,6]\n",
    "#Creating a dataframe:\n",
    "df1 = pd.DataFrame(np.random.rand(6,6), columns = columns, index = indices)"
   ]
  },
  {
   "cell_type": "markdown",
   "id": "f0eff019-96f0-4f05-91c4-f6dc6714f50d",
   "metadata": {},
   "source": [
    "#### Q4. Write a code to find the following statistical measurements for the above dataframe df1:\n",
    "##### (i) mean of each and every column present in the dataframe.\n",
    "##### (ii) standard deviation of column, ‘column_2’"
   ]
  },
  {
   "cell_type": "code",
   "execution_count": null,
   "id": "49f7fd1e-4e10-4f8c-b439-eb89240c6cd7",
   "metadata": {},
   "outputs": [],
   "source": [
    "means = df1.mean()\n",
    "print(\"Column Means:\\n\", means)"
   ]
  },
  {
   "cell_type": "code",
   "execution_count": null,
   "id": "84ac98bc-39af-44e8-a6f9-5de82e00b742",
   "metadata": {},
   "outputs": [],
   "source": [
    "std = df1['column_2'].std()\n",
    "print(\"Column 2 Standard Deviation:\", std)"
   ]
  },
  {
   "cell_type": "markdown",
   "id": "488068f8-5a35-475b-b2c4-2f3e6a033ccc",
   "metadata": {},
   "source": [
    "#### Q5. Replace the data present in the second row of column, ‘column_2’ by a string variable then find the mean of column, column_2.\n",
    "##### If you are getting errors in executing it then explain why.\n",
    "[Hint: To replace the data use df1.loc[] and equate this to string data of your choice.]"
   ]
  },
  {
   "cell_type": "markdown",
   "id": "dfb2993b-2c33-4c0e-b6d8-dd398cf18a97",
   "metadata": {},
   "source": [
    "Ans: We cannot replace the data present in a numeric column with a string variable."
   ]
  },
  {
   "cell_type": "code",
   "execution_count": null,
   "id": "681d5ad0-c0f7-4190-baf7-a81ee792cef8",
   "metadata": {},
   "outputs": [],
   "source": [
    "df1.loc[2, 'column_2'] = np.random.rand()"
   ]
  },
  {
   "cell_type": "code",
   "execution_count": null,
   "id": "ad49613f-b38c-4105-9d6f-a47a7dd72093",
   "metadata": {},
   "outputs": [],
   "source": [
    "col2_mean = df1['column_2'].mean()\n",
    "col2_mean"
   ]
  },
  {
   "cell_type": "markdown",
   "id": "3c25dda3-44e6-40e4-ae83-86127f89767b",
   "metadata": {},
   "source": [
    "#### Q6. What do you understand about the windows function in pandas and list the types of windows functions?"
   ]
  },
  {
   "cell_type": "markdown",
   "id": "753e7c19-c2a6-4b67-9d13-3f89b9eeb007",
   "metadata": {},
   "source": [
    "Ans: Windows Function:\n",
    "\n",
    "Types:\n",
    "1. \n",
    "2. \n",
    "3. "
   ]
  },
  {
   "cell_type": "markdown",
   "id": "18add7c8-9f62-4ce7-8441-5ba852eba687",
   "metadata": {},
   "source": [
    "#### Q7. Write a code to print only the current month and year at the time of answering this question.\n",
    "[Hint: Use pandas.datetime function]"
   ]
  },
  {
   "cell_type": "code",
   "execution_count": null,
   "id": "e5ae9c41-a8c2-47c2-a121-f9d0b6bd9aa4",
   "metadata": {},
   "outputs": [],
   "source": [
    "import pandas as pd\n",
    "\n",
    "now = pd.datetime.now()\n",
    "\n",
    "current_month = now.month\n",
    "current_year = now.year\n",
    "\n",
    "print(current_month, current_year)"
   ]
  },
  {
   "cell_type": "markdown",
   "id": "5df9f0eb-ffc1-4220-b9be-f768628b1ebb",
   "metadata": {},
   "source": [
    "#### Q8. Write a Python program that takes in two dates as input (in the format YYYY-MM-DD) and calculates the difference between them in days, hours, and minutes using Pandas time delta. The program should prompt the user to enter the dates and display the result."
   ]
  },
  {
   "cell_type": "code",
   "execution_count": null,
   "id": "6de9e988-9a55-4d99-9b78-2d916da5e553",
   "metadata": {
    "tags": []
   },
   "outputs": [],
   "source": [
    "import pandas as pd\n",
    "\n",
    "date1_str = input(\"Enter the Old date (YYYY-MM-DD): \")\n",
    "date2_str = input(\"Enter the New date (YYYY-MM-DD): \")\n",
    "\n",
    "date1 = pd.to_datetime(date1_str)\n",
    "date2 = pd.to_datetime(date2_str)\n",
    "\n",
    "time_diff = date2 - date1\n",
    "\n",
    "diff_days = time_diff.days\n",
    "diff_hours = time_diff.seconds // 3600\n",
    "diff_minutes = (time_diff.seconds // 60) % 60\n",
    "\n",
    "print(f\"The difference between {date1_str} and {date2_str} is {diff_days} days, {diff_hours} hours, and {diff_minutes} minutes.\")\n"
   ]
  },
  {
   "cell_type": "markdown",
   "id": "d27dca1a-69d7-4653-9c35-e1e91bf7a8b6",
   "metadata": {
    "tags": []
   },
   "source": [
    "#### Q9. Given a Pandas DataFrame df with a column 'Values', write a Python function to calculate the mean, median, and standard deviation of the values in the 'Values' column."
   ]
  },
  {
   "cell_type": "code",
   "execution_count": null,
   "id": "e46cfb31-1aa3-4379-b0d4-747320875262",
   "metadata": {},
   "outputs": [],
   "source": [
    "import pandas as pd\n",
    "\n",
    "def calc(df):\n",
    "    mean = df[\"Values\"].mean()\n",
    "    median = df[\"Values\"].median()\n",
    "    stdDev = df[\"Values\"].std()\n",
    "    \n",
    "    return mean, median,stdDev\n",
    "\n",
    "df = pd.DataFrame({\"Values\": [2, 4, 6, 7, 89, 23]})\n",
    "mean, median,stdDev = calc(df)\n",
    "print(f\"mean: {mean}, median: {median}, and standard deviation: {stdDev}\")"
   ]
  },
  {
   "cell_type": "markdown",
   "id": "3ca45b2d-8f65-4b84-a85c-3141834996e5",
   "metadata": {
    "tags": []
   },
   "source": [
    "#### Q10. Write a Python program that reads a CSV file containing sales data for different products and visualizes the data using a stacked bar chart to show the sales of each product category over time. The program should prompt the user to enter the file path and display the chart."
   ]
  },
  {
   "cell_type": "code",
   "execution_count": 4,
   "id": "688906c5-ca31-4530-8d82-d29ff5d47dd7",
   "metadata": {},
   "outputs": [
    {
     "name": "stdin",
     "output_type": "stream",
     "text": [
      "Enter the file path:  https://drive.google.com/file/d/1BFqrdIGrpHbMwP2qVqes_QwIPgvtTvoZ/view?usp=share_link\n"
     ]
    },
    {
     "data": {
      "image/png": "[encoded data removed]",
      "text/plain": [
       "<Figure size 640x480 with 1 Axes>"
      ]
     },
     "metadata": {},
     "output_type": "display_data"
    }
   ],
   "source": [
    "import pandas as pd\n",
    "import matplotlib.pyplot as plt\n",
    "\n",
    "url = input(\"Enter the file path: \") #\"https://drive.google.com/file/d/1BFqrdIGrpHbMwP2qVqes_QwIPgvtTvoZ/view?usp=share_link\"\n",
    "url='https://drive.google.com/uc?id=' + url.split('/')[-2]\n",
    "\n",
    "df = pd.read_csv(url)\n",
    "\n",
    "df.plot(kind='bar', x = \"Product\", y = \"Sales (INR)\")\n",
    "plt.xlabel(\"Product\")\n",
    "plt.ylabel(\"Sales\")\n",
    "plt.show()"
   ]
  },
  {
   "cell_type": "markdown",
   "id": "2ab24d01-475a-41f7-8e8a-35b8f32788d4",
   "metadata": {
    "tags": []
   },
   "source": [
    "#### Q11. You are given a CSV file containing student data that includes the student ID and their test score. Write a Python program that reads the CSV file, calculates the mean, median, and mode of the test scores, and displays the results in a table.\n",
    "\n",
    "##### The program should do the following:\n",
    "* Prompt the user to enter the file path of the CSV file containing the student data\n",
    "* Read the CSV file into a Pandas DataFrame\n",
    "* Calculate the mean, median, and mode of the test scores using Pandas tools\n",
    "* Display the mean, median, and mode in a table.\n",
    "##### Assume the CSV file contains the following columnsM\n",
    "* Student ID: The ID of the student\n",
    "* Test Score: The score of the student's test.\n",
    "\n",
    "##### Example usage of the program:\n",
    "##### Enter the file path of the CSV file containing the student data: student_data.csv\n",
    "\n",
    "##### +-----------+--------+\n",
    "##### | Statistic | Value |\n",
    "##### +-----------+--------+\n",
    "##### | Mean | 79.6 |\n",
    "##### | Median | 82 |\n",
    "##### | Mode | 85, 90 |\n",
    "##### +-----------+--------+\n",
    "\n",
    "##### Assume that the CSV file student_data.csv contains the following data:\n",
    "##### Student ID,Test Score\n",
    "##### 1,85\n",
    "##### 2,90\n",
    "##### 3,80\n",
    "##### 4,75\n",
    "##### 5,85\n",
    "##### 6,82\n",
    "##### 7,78\n",
    "##### 8,85\n",
    "##### 9,90\n",
    "##### 10,85\n",
    "##### The program should calculate the mean, median, and mode of the test scores and display the results in a table."
   ]
  },
  {
   "cell_type": "code",
   "execution_count": 21,
   "id": "e8744ed8-780d-43ef-bc12-add8467bcde8",
   "metadata": {},
   "outputs": [
    {
     "name": "stdin",
     "output_type": "stream",
     "text": [
      "Enter the CSV file:  https://drive.google.com/file/d/1b3InEghmmTJuld-_ONvJnuGHzjx8kGa-/view?usp=sharing\n"
     ]
    },
    {
     "data": {
      "text/html": [
       "<div>\n",
       "<style scoped>\n",
       "    .dataframe tbody tr th:only-of-type {\n",
       "        vertical-align: middle;\n",
       "    }\n",
       "\n",
       "    .dataframe tbody tr th {\n",
       "        vertical-align: top;\n",
       "    }\n",
       "\n",
       "    .dataframe thead th {\n",
       "        text-align: right;\n",
       "    }\n",
       "</style>\n",
       "<table border=\"1\" class=\"dataframe\">\n",
       "  <thead>\n",
       "    <tr style=\"text-align: right;\">\n",
       "      <th></th>\n",
       "      <th>Statistic</th>\n",
       "      <th>Value</th>\n",
       "    </tr>\n",
       "  </thead>\n",
       "  <tbody>\n",
       "    <tr>\n",
       "      <th>0</th>\n",
       "      <td>Mean</td>\n",
       "      <td>83.5</td>\n",
       "    </tr>\n",
       "    <tr>\n",
       "      <th>1</th>\n",
       "      <td>Median</td>\n",
       "      <td>85.0</td>\n",
       "    </tr>\n",
       "    <tr>\n",
       "      <th>2</th>\n",
       "      <td>Mode</td>\n",
       "      <td>0    85\n",
       "Name: Test Scores, dtype: int64</td>\n",
       "    </tr>\n",
       "  </tbody>\n",
       "</table>\n",
       "</div>"
      ],
      "text/plain": [
       "  Statistic                                    Value\n",
       "0      Mean                                     83.5\n",
       "1    Median                                     85.0\n",
       "2      Mode  0    85\n",
       "Name: Test Scores, dtype: int64"
      ]
     },
     "execution_count": 21,
     "metadata": {},
     "output_type": "execute_result"
    }
   ],
   "source": [
    "import pandas as pd\n",
    "\n",
    "url = input(\"Enter the CSV file: \") # \"https://drive.google.com/file/d/1b3InEghmmTJuld-_ONvJnuGHzjx8kGa-/view?usp=sharing\"\n",
    "url='https://drive.google.com/uc?id=' + url.split('/')[-2]\n",
    "\n",
    "data = pd.read_csv(url, )\n",
    "\n",
    "mean = data['Test Scores'].mean()\n",
    "median = data['Test Scores'].median()\n",
    "mode = data['Test Scores'].mode()\n",
    "\n",
    "table = pd.DataFrame({'Statistic': ['Mean', 'Median', 'Mode'], 'Value': [mean, median, mode]})\n",
    "table"
   ]
  }
 ],
 "metadata": {
  "kernelspec": {
   "display_name": "Python 3 (ipykernel)",
   "language": "python",
   "name": "python3"
  },
  "language_info": {
   "codemirror_mode": {
    "name": "ipython",
    "version": 3
   },
   "file_extension": ".py",
   "mimetype": "text/x-python",
   "name": "python",
   "nbconvert_exporter": "python",
   "pygments_lexer": "ipython3",
   "version": "3.10.8"
  }
 },
 "nbformat": 4,
 "nbformat_minor": 5
}
