{
 "cells": [
  {
   "cell_type": "markdown",
   "id": "31ff94f4-2894-42e8-ac6c-658b4dba20f2",
   "metadata": {
    "tags": []
   },
   "source": [
    "#### Q1. What is an Exception in python? Write the difference between Exceptions and syntax errors."
   ]
  },
  {
   "cell_type": "markdown",
   "id": "2cd5a83a-82f7-427b-aa0e-dc9d6f1aa042",
   "metadata": {},
   "source": [
    "Ans: Exception: Runtime error that we are aware of might occur, so we on prehand take care of that error and define a condition to do when it occurs.\n",
    "\n",
    "While 'Syntax Error' is when python parser found error and throws error."
   ]
  },
  {
   "cell_type": "markdown",
   "id": "ed805a04-42e2-4c3f-a1cd-c166b6d3fe91",
   "metadata": {},
   "source": [
    "#### Q2. What happens when an exception is not handled? Explain with an example."
   ]
  },
  {
   "cell_type": "markdown",
   "id": "472907c5-1580-4170-bb36-0f633f774485",
   "metadata": {},
   "source": [
    "Ans: When exception is not handled, the runtime system will abort the program and throws output.\n",
    "\n",
    "Eg.\n",
    "\n",
    "a = 10/0 #Shows error as : ZeroDivisionError\n",
    "\n",
    "On the orher hand if we use\n",
    "\n",
    "try:\n",
    "\n",
    "    a = 10/0\n",
    "\n",
    "except ZeroDivisionError as e:\n",
    "\n",
    "    print(e)   \n",
    "#This will take care of error and the program will not crash."
   ]
  },
  {
   "cell_type": "markdown",
   "id": "ea480e00-012c-4e18-b5d1-74b7da453670",
   "metadata": {},
   "source": [
    "#### Q3. Which python statements are used to catch and handle exceptions? Explain with an example."
   ]
  },
  {
   "cell_type": "markdown",
   "id": "73093623-7c2d-4f0e-91e9-33ed1dc962fc",
   "metadata": {},
   "source": [
    "Ans: 'try' and 'except' used to catch and handle exceptions in python."
   ]
  },
  {
   "cell_type": "code",
   "execution_count": 2,
   "id": "c8e5b006-1f86-42fb-8624-37d8634220f3",
   "metadata": {},
   "outputs": [
    {
     "name": "stdout",
     "output_type": "stream",
     "text": [
      "division by zero\n"
     ]
    }
   ],
   "source": [
    "try:\n",
    "    a = 10/0\n",
    "\n",
    "except ZeroDivisionError as e:\n",
    "    print(e)  "
   ]
  },
  {
   "cell_type": "markdown",
   "id": "f0eff019-96f0-4f05-91c4-f6dc6714f50d",
   "metadata": {},
   "source": [
    "#### Q4. Explain with an example:\n",
    "##### a. try and else\n",
    "##### b. finally\n",
    "##### c. raise"
   ]
  },
  {
   "cell_type": "code",
   "execution_count": 3,
   "id": "53b29ae1-c485-41bb-9f86-9fedbf00e081",
   "metadata": {
    "tags": []
   },
   "outputs": [
    {
     "name": "stdout",
     "output_type": "stream",
     "text": [
      "5.0\n",
      "The Try block also executed\n"
     ]
    }
   ],
   "source": [
    "try:\n",
    "    a = 10/2\n",
    "    print(a)\n",
    "\n",
    "except Exception as e:\n",
    "    print(\"There is an error: \",e)\n",
    "    \n",
    "else: # will executed when 'try' block is executed without error.\n",
    "    print (\"The Try block also executed\")"
   ]
  },
  {
   "cell_type": "code",
   "execution_count": 7,
   "id": "5b00d63c-c45c-455b-9fc7-042afe61588f",
   "metadata": {},
   "outputs": [
    {
     "name": "stdout",
     "output_type": "stream",
     "text": [
      "There is an error:  division by zero\n",
      "The finally block will execute for sure\n",
      "5.0\n",
      "The finally block will execute for sure\n"
     ]
    }
   ],
   "source": [
    "try:\n",
    "    a = 10/0\n",
    "    print(a)\n",
    "\n",
    "except Exception as e:\n",
    "    print(\"There is an error: \",e)\n",
    "    \n",
    "finally: # will executed no matter what error.\n",
    "    print (\"The finally block will execute for sure\")\n",
    "    \n",
    " #--------------------------------------    \n",
    "try:\n",
    "    a = 10/2\n",
    "    print(a)\n",
    "\n",
    "except Exception as e:\n",
    "    print(\"There is an error: \",e)\n",
    "    \n",
    "finally: # will executed no matter what error.\n",
    "    print (\"The finally block will execute for sure\")"
   ]
  },
  {
   "cell_type": "code",
   "execution_count": 11,
   "id": "e49df9db-9dfa-42b2-81a2-9f45c5bee8da",
   "metadata": {},
   "outputs": [
    {
     "ename": "TypeError",
     "evalue": "Only integers are allowed",
     "output_type": "error",
     "traceback": [
      "\u001b[0;31m---------------------------------------------------------------------------\u001b[0m",
      "\u001b[0;31mTypeError\u001b[0m                                 Traceback (most recent call last)",
      "Cell \u001b[0;32mIn[11], line 4\u001b[0m\n\u001b[1;32m      1\u001b[0m x \u001b[38;5;241m=\u001b[39m \u001b[38;5;124m\"\u001b[39m\u001b[38;5;124mhello\u001b[39m\u001b[38;5;124m\"\u001b[39m\n\u001b[1;32m      3\u001b[0m \u001b[38;5;28;01mif\u001b[39;00m \u001b[38;5;129;01mnot\u001b[39;00m \u001b[38;5;28mtype\u001b[39m(x) \u001b[38;5;129;01mis\u001b[39;00m \u001b[38;5;28mint\u001b[39m:\n\u001b[0;32m----> 4\u001b[0m     \u001b[38;5;28;01mraise\u001b[39;00m \u001b[38;5;167;01mTypeError\u001b[39;00m(\u001b[38;5;124m\"\u001b[39m\u001b[38;5;124mOnly integers are allowed\u001b[39m\u001b[38;5;124m\"\u001b[39m) \u001b[38;5;66;03m#The raise keyword is used to raise an custom exception and stops the program\u001b[39;00m\n",
      "\u001b[0;31mTypeError\u001b[0m: Only integers are allowed"
     ]
    }
   ],
   "source": [
    "x = \"hello\"\n",
    "\n",
    "if not type(x) is int:\n",
    "    raise TypeError(\"Only integers are allowed\") #The raise keyword is used to raise an custom exception and stops the program\n"
   ]
  },
  {
   "cell_type": "markdown",
   "id": "d27dca1a-69d7-4653-9c35-e1e91bf7a8b6",
   "metadata": {},
   "source": [
    "#### Q5. What are custom exceptions in python? Why do we need custom exceptions? Explain with an example."
   ]
  },
  {
   "cell_type": "markdown",
   "id": "00627860-6009-49ad-9157-3068ecddd29c",
   "metadata": {},
   "source": [
    "Ans: Custom exceptions are sub class ofnexceptions where we define the exceptions based on our conditions.\n",
    "Eg. We want to input age of person, but someone input -21, then there should be custom error that will show, no negative age."
   ]
  },
  {
   "cell_type": "code",
   "execution_count": 13,
   "id": "57669fcf-e166-44cb-b08c-8372af587ba5",
   "metadata": {},
   "outputs": [
    {
     "name": "stdout",
     "output_type": "stream",
     "text": [
      "This is my custom exception\n"
     ]
    }
   ],
   "source": [
    "class CustomException(Exception):\n",
    "    pass\n",
    "\n",
    "\n",
    "try:\n",
    "    raise CustomException('This is my custom exception')\n",
    "except CustomException as ex:\n",
    "    print(ex)"
   ]
  },
  {
   "cell_type": "markdown",
   "id": "5583fcf5-ee70-4e5c-b1fe-4f171e5badc5",
   "metadata": {},
   "source": [
    "#### Q6. Create a custom exception class. Use this class to handle an exception."
   ]
  },
  {
   "cell_type": "code",
   "execution_count": 15,
   "id": "cc3a3a0c-902a-4713-8eb6-5f2d40dd01f1",
   "metadata": {},
   "outputs": [
    {
     "name": "stdin",
     "output_type": "stream",
     "text": [
      "Enter a temperature in Fahrenheit: 56\n"
     ]
    },
    {
     "name": "stdout",
     "output_type": "stream",
     "text": [
      "56 Fahrenheit =  13.333333333333334 Celsius\n"
     ]
    }
   ],
   "source": [
    "class FahrenheitError(Exception):\n",
    "    min_f = 32\n",
    "    max_f = 212\n",
    "\n",
    "    def __init__(self, f):\n",
    "        self.f = f\n",
    "\n",
    "    def __str__(self):\n",
    "        return f\"The {self.f} is not in a valid range\"\n",
    "\n",
    "\n",
    "def fahrenheit_to_celsius(f):\n",
    "    if f < FahrenheitError.min_f or f > FahrenheitError.max_f:\n",
    "        raise FahrenheitError(f)\n",
    "\n",
    "    return (f - 32) * 5 / 9    \n",
    "\n",
    "\n",
    "if __name__ == '__main__':\n",
    "    f = input('Enter a temperature in Fahrenheit:')\n",
    "    try:\n",
    "        f = int(f)\n",
    "    except ValueError as e:\n",
    "        print(e)\n",
    "    else:\n",
    "        try:\n",
    "            c = fahrenheit_to_celsius(f)\n",
    "        except FahrenheitError as err:\n",
    "            print(err)\n",
    "        else:\n",
    "            print(f,\"Fahrenheit = \", c, \"Celsius\")\n",
    "    "
   ]
  }
 ],
 "metadata": {
  "kernelspec": {
   "display_name": "Python 3 (ipykernel)",
   "language": "python",
   "name": "python3"
  },
  "language_info": {
   "codemirror_mode": {
    "name": "ipython",
    "version": 3
   },
   "file_extension": ".py",
   "mimetype": "text/x-python",
   "name": "python",
   "nbconvert_exporter": "python",
   "pygments_lexer": "ipython3",
   "version": "3.10.8"
  }
 },
 "nbformat": 4,
 "nbformat_minor": 5
}
