{
 "cells": [
  {
   "cell_type": "markdown",
   "id": "565c0957-ed5c-4055-90a8-904831d30b72",
   "metadata": {},
   "source": [
    "#### Q1. In order to predict house price based on several characteristics, such as location, square footage, number of bedrooms, etc., you are developing an SVM regression model. Which regression metric in this situation would be the best to employ? \n",
    "\n",
    "#### Dataset link: https://drive.google.com/file/d/1Z9oLpmt6IDRNw7IeNcHYTGeJRYypRSC0/view?usp=share_link"
   ]
  },
  {
   "cell_type": "markdown",
   "id": "e1f9a476-2a5b-4e29-86cd-c7f7814a47a4",
   "metadata": {},
   "source": [
    "Ans: The regression metric that is best to employ in this situation is the mean squared error (MSE).\n",
    "\n",
    "MSE measures the average of the squared differences between predicted and actual values.\n",
    "\n",
    "Since SVM regression is a type of linear regression, it tries to find a hyperplane that separates the data points in a way that maximizes the margin. The SVM regression model tries to minimize the distance between the predicted values and the actual values, and the MSE is a suitable metric to evaluate this distance. The lower the MSE, the better the model's performance."
   ]
  },
  {
   "cell_type": "markdown",
   "id": "13057386-c2b2-4d82-9736-b4a2461c42d6",
   "metadata": {},
   "source": [
    "#### Q2. You have built an SVM regression model and are trying to decide between using MSE or R-squared as your evaluation metric. Which metric would be more appropriate if your goal is to predict the actual price of a house as accurately as possible?"
   ]
  },
  {
   "cell_type": "markdown",
   "id": "516c43f4-d3f3-471b-8325-f9ed34f5ed7e",
   "metadata": {},
   "source": [
    "Ans: If goal is to predict the actual price of a house as accurately as possible, then Mean Squared Error (MSE) would be a more appropriate evaluation metric to use than R-squared.\n",
    "\n",
    "MSE measures the average of the squared differences between predicted and actual values, and it provides an absolute measure of the quality of the model's predictions. \n",
    "\n",
    "In contrast, R-squared measures the proportion of the variance in the dependent variable (i.e., house price) that is explained by the independent variables (i.e., location, square footage, number of bedrooms, etc.). \n",
    "\n",
    "While R-squared can provide useful information about the goodness-of-fit of the model, it doesn't directly measure the accuracy of the model's predictions.\n",
    "\n",
    "Thus, a lower MSE indicates better predictive performance, as it means that the model's predicted values are closer to the actual values."
   ]
  },
  {
   "cell_type": "markdown",
   "id": "0364eb54-ac37-4cb8-a3df-9edec2afcb6e",
   "metadata": {},
   "source": [
    "#### Q3. You have a dataset with a significant number of outliers and are trying to select an appropriate regression metric to use with your SVM model. Which metric would be the most appropriate in this scenario?"
   ]
  },
  {
   "cell_type": "markdown",
   "id": "a7b2c1b9-3257-4a18-8332-9c0748b86059",
   "metadata": {},
   "source": [
    "Ans: When working with a dataset that has a significant number of outliers, Mean Absolute Error (MAE) would be the most appropriate regression metric to use with your SVM model.\n",
    "\n",
    "MAE measures the average absolute difference between predicted and actual values, rather than the squared differences as in MSE. \n",
    "\n",
    "MAE is less sensitive to outliers compared to MSE, as outliers have a larger impact on the squared differences in MSE. \n",
    "\n",
    "MAE gives equal weight to all errors, regardless of their magnitude, which can make it a more robust metric when dealing with outliers."
   ]
  },
  {
   "cell_type": "markdown",
   "id": "63625f84-e106-448d-8608-04fe28746d5f",
   "metadata": {},
   "source": [
    "#### Q4. You have built an SVM regression model using a polynomial kernel and are trying to select the best metric to evaluate its performance. You have calculated both MSE and RMSE and found that both values are very close. Which metric should you choose to use in this case?"
   ]
  },
  {
   "cell_type": "markdown",
   "id": "24a20a56-10ec-48f2-97f7-2a8436932e6f",
   "metadata": {},
   "source": [
    "Ans: If we have built an SVM regression model using a polynomial kernel and both MSE and RMSE values are very close, then either metric can be used to evaluate the performance of the model.\n",
    "\n",
    "MSE and RMSE are both measures of the error between predicted and actual values, with RMSE being the square root of MSE. RMSE is preferred when you want to penalize larger errors more heavily, and MSE is preferred when we want to give equal weight to all errors.\n",
    "\n",
    "If we want to have a metric that is easier to interpret in the original units of the response variable (i.e., house prices), then we may prefer to use RMSE. \n",
    "\n",
    "If we want a metric that is easier to calculate and compare across different models, then we may prefer to use MSE."
   ]
  },
  {
   "cell_type": "markdown",
   "id": "d662af46-ae3a-4636-aa79-ae5181a7e030",
   "metadata": {},
   "source": [
    "#### Q5. You are comparing the performance of different SVM regression models using different kernels (linear, polynomial, and RBF) and are trying to select the best evaluation metric. Which metric would be most appropriate if your goal is to measure how well the model explains the variance in the target variable?"
   ]
  },
  {
   "cell_type": "markdown",
   "id": "27f1acd0-79c4-4fc3-b936-75369145ef1a",
   "metadata": {},
   "source": [
    "Ans: If our goal is to measure how well the SVM regression model explains the variance in the target variable, then the most appropriate evaluation metric would be the **coefficient of determination or R-squared**.\n",
    "\n",
    "R-squared is a measure of the proportion of the variance in the target variable that is explained by the independent variables. In the context of SVM regression, R-squared can be used to evaluate the goodness of fit of the model and to compare the performance of different models with different kernels.\n",
    "\n",
    "Therefore, if our goal is to measure how well the SVM regression model explains the variance in the target variable, then R-squared would be the most appropriate evaluation metric to use when comparing different models with different kernels."
   ]
  }
 ],
 "metadata": {
  "kernelspec": {
   "display_name": "Python 3 (ipykernel)",
   "language": "python",
   "name": "python3"
  },
  "language_info": {
   "codemirror_mode": {
    "name": "ipython",
    "version": 3
   },
   "file_extension": ".py",
   "mimetype": "text/x-python",
   "name": "python",
   "nbconvert_exporter": "python",
   "pygments_lexer": "ipython3",
   "version": "3.10.8"
  }
 },
 "nbformat": 4,
 "nbformat_minor": 5
}
