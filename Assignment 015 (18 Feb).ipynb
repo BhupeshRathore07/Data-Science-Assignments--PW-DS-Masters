{
 "cells": [
  {
   "cell_type": "markdown",
   "id": "31ff94f4-2894-42e8-ac6c-658b4dba20f2",
   "metadata": {
    "tags": []
   },
   "source": [
    "#### Q1. What is an API? Give an example, where an API is used in real life."
   ]
  },
  {
   "cell_type": "markdown",
   "id": "4c957d4e-b988-4d76-9b14-fe79d16fd9a2",
   "metadata": {},
   "source": [
    "Ans: API -> (Application Programming Interface)\n",
    "\n",
    "It is a set of protocols, tools, and definitions for building software and applications.\n",
    "\n",
    "Example of an API in real life is the Google Maps API. Many apps and websites use this API to display maps and location-based information"
   ]
  },
  {
   "cell_type": "markdown",
   "id": "ed805a04-42e2-4c3f-a1cd-c166b6d3fe91",
   "metadata": {},
   "source": [
    "#### Q2. Give advantages and disadvantages of using API."
   ]
  },
  {
   "cell_type": "markdown",
   "id": "bdf20c40-d866-416f-864d-57ddd5610ce2",
   "metadata": {},
   "source": [
    "Ans: Pros:\n",
    "1. Reusability\n",
    "2. Efficiency\n",
    "3. Scalability\n",
    "4. Integration\n",
    "5. Flexibility\n",
    "\n",
    "Cons:\n",
    "1. Complexity\n",
    "2. Security\n",
    "3. Versioning\n",
    "4. Reliance on third-party services\n",
    "5. Cost"
   ]
  },
  {
   "cell_type": "markdown",
   "id": "ea480e00-012c-4e18-b5d1-74b7da453670",
   "metadata": {},
   "source": [
    "#### Q3. What is a Web API? Differentiate between API and Web API."
   ]
  },
  {
   "cell_type": "markdown",
   "id": "32b5ad8b-3e8c-4836-812c-8c79045c3e37",
   "metadata": {},
   "source": [
    "Ans: A Web API, or Web Application Programming Interface, is a type of API that allows two or more applications to communicate with each other over the internet using standard web protocols like HTTP and REST with formats like JSON or XML.\n",
    "\n",
    "* APIs uses TCP, FTP while Web APIs uses HTTP & REST\n",
    "* APIs can return data in various formats like binary, plain text, or XML, whereas Web APIs typically use JSON or XML formats.\n",
    "* API is a broader term that communicate between different software applications, Web API specifically refers to APIs that enable communication over the internet."
   ]
  },
  {
   "cell_type": "markdown",
   "id": "f0eff019-96f0-4f05-91c4-f6dc6714f50d",
   "metadata": {},
   "source": [
    "#### Q4. Explain REST and SOAP Architecture. Mention shortcomings of SOAP."
   ]
  },
  {
   "cell_type": "markdown",
   "id": "e7609b3e-8935-41db-b3af-976b12085c45",
   "metadata": {
    "tags": []
   },
   "source": [
    "Ans: REST (Representational State Transfer) is an architectural style that is simple, lightweight communication between client and server over HTTP.\n",
    "\n",
    "SOAP (Simple Object Access Protocol) is an architectural style that relies on XML-based messages for communication between client and server over various protocols such as HTTP, SMTP, or TCP.\n",
    "\n",
    "Shortcomings of SOAP: Complexity, Performance, Scalability, Interoperability."
   ]
  },
  {
   "cell_type": "markdown",
   "id": "d27dca1a-69d7-4653-9c35-e1e91bf7a8b6",
   "metadata": {},
   "source": [
    "#### Q5. Differentiate between REST and SOAP."
   ]
  },
  {
   "cell_type": "markdown",
   "id": "7eb2e5b4-b713-4eec-9888-d1ede1a22d28",
   "metadata": {},
   "source": [
    "Ans: \n",
    "1. Communication protocol: REST APIs use HTTP , while SOAP APIs can use any protocol like HTTP, SMTP or TCP.\n",
    "2. Message format: REST APIs typically use JSON or XML format, while SOAP APIs exclusively use XML format.\n",
    "3. State management: REST APIs are stateless, while SOAP APIs can be stateful.\n",
    "4. Caching: REST APIs can leverage HTTP caching mechanisms to improve performance, while SOAP APIs do not have.\n",
    "5. Scalability: REST APIs are designed to be highly scalable, SOAP APIs are less scalable.\n",
    "7. Ease of use: REST APIs are generally easier to use and understand than SOAP APIs."
   ]
  }
 ],
 "metadata": {
  "kernelspec": {
   "display_name": "Python 3 (ipykernel)",
   "language": "python",
   "name": "python3"
  },
  "language_info": {
   "codemirror_mode": {
    "name": "ipython",
    "version": 3
   },
   "file_extension": ".py",
   "mimetype": "text/x-python",
   "name": "python",
   "nbconvert_exporter": "python",
   "pygments_lexer": "ipython3",
   "version": "3.10.8"
  }
 },
 "nbformat": 4,
 "nbformat_minor": 5
}
