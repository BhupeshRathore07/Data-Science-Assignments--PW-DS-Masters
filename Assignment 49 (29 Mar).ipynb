{
 "cells": [
  {
   "cell_type": "markdown",
   "id": "8c7f2701-2f38-4eaa-8883-abd88c414138",
   "metadata": {},
   "source": [
    "#### Q1. What is Lasso Regression, and how does it differ from other regression techniques?"
   ]
  },
  {
   "cell_type": "markdown",
   "id": "67b8dc60-547b-427a-a2d5-427ce161df7f",
   "metadata": {},
   "source": [
    "Ans: Lasso Regression is a linear regression technique that performs L1 regularization to prevent overfitting by shrinking the less important coefficients to zero. It differs from other regression techniques in that it can effectively perform feature selection."
   ]
  },
  {
   "cell_type": "markdown",
   "id": "4490b529-60ae-4318-b96a-3346c4a63362",
   "metadata": {},
   "source": [
    "#### Q2. What is the main advantage of using Lasso Regression in feature selection?"
   ]
  },
  {
   "cell_type": "markdown",
   "id": "d3c315f6-5f14-4e78-9a67-3e0c44def168",
   "metadata": {},
   "source": [
    "Ans: The main advantage of using Lasso Regression in feature selection is that it can automatically eliminate irrelevant or redundant features by shrinking their coefficients to zero, thereby simplifying the model and improving its interpretability."
   ]
  },
  {
   "cell_type": "markdown",
   "id": "f99a6691-732d-4130-900c-693d7e32a5fc",
   "metadata": {},
   "source": [
    "#### Q3. How do you interpret the coefficients of a Lasso Regression model?"
   ]
  },
  {
   "cell_type": "markdown",
   "id": "e0f732b8-66dd-4f37-a743-3dea4b9d1cb4",
   "metadata": {},
   "source": [
    "Ans: The coefficients of a Lasso Regression model can be interpreted as the strength and direction of the linear relationship between each input feature and the output variable. The sign of the coefficient indicates the direction of the relationship (positive or negative), and the magnitude of the coefficient indicates the strength of the relationship."
   ]
  },
  {
   "cell_type": "markdown",
   "id": "fb63f3f1-402e-4fcb-896b-a8d501118d41",
   "metadata": {},
   "source": [
    "#### Q4. What are the tuning parameters that can be adjusted in Lasso Regression, and how do they affect the model's performance?"
   ]
  },
  {
   "cell_type": "markdown",
   "id": "224018b7-a698-4ea8-9bc2-54c0cb9fc145",
   "metadata": {},
   "source": [
    "Ans: The tuning parameter in Lasso Regression is lambda, which controls the strength of the L1 penalty. Increasing lambda leads to more aggressive shrinkage of the coefficients and a simpler model, but may also increase bias and reduce the model's predictive performance. Finding the optimal value of lambda typically involves cross-validation."
   ]
  },
  {
   "cell_type": "markdown",
   "id": "0850e4cc-8277-4481-9fae-c87965b7bd2f",
   "metadata": {},
   "source": [
    "#### Q5. Can Lasso Regression be used for non-linear regression problems? If yes, how?"
   ]
  },
  {
   "cell_type": "markdown",
   "id": "c80263e9-5f1b-4321-9a59-b73dc2689e57",
   "metadata": {},
   "source": [
    "Ans: Yes, Lasso Regression can be used for non-linear regression problems by transforming the input features using non-linear functions such as polynomials or basis functions."
   ]
  },
  {
   "cell_type": "markdown",
   "id": "0f53df40-06db-4ba5-bd5e-661ca7717e12",
   "metadata": {},
   "source": [
    "#### Q6. What is the difference between Ridge Regression and Lasso Regression?\n"
   ]
  },
  {
   "cell_type": "markdown",
   "id": "666ceef2-4e8f-4226-a84a-228e634d0016",
   "metadata": {},
   "source": [
    "Ans: The main difference between Ridge Regression and Lasso Regression is the type of regularization used. Ridge Regression uses L2 regularization to prevent overfitting by shrinking the coefficients towards zero, while Lasso Regression uses L1 regularization to shrink less important coefficients to zero, effectively performing feature selection."
   ]
  },
  {
   "cell_type": "markdown",
   "id": "7afd656b-2451-420f-83a2-19768bfd552e",
   "metadata": {},
   "source": [
    "#### Q7. Can Lasso Regression handle multicollinearity in the input features? If yes, how?"
   ]
  },
  {
   "cell_type": "markdown",
   "id": "50101a14-1b1b-4cd0-9931-088dcf4bb22f",
   "metadata": {},
   "source": [
    "Ans: Yes, Lasso Regression can handle multicollinearity in the input features by selecting one of the correlated features and shrinking the coefficients of the others to zero."
   ]
  },
  {
   "cell_type": "markdown",
   "id": "3c1997dc-b4ba-4c7d-a724-63951ee34d9e",
   "metadata": {},
   "source": [
    "#### Q8. How do you choose the optimal value of the regularization parameter (lambda) in Lasso Regression?"
   ]
  },
  {
   "cell_type": "markdown",
   "id": "1ce9896e-8c34-49cc-9956-bb31287a9ec0",
   "metadata": {},
   "source": [
    "Ans: The optimal value of the regularization parameter (lambda) in Lasso Regression can be chosen using cross-validation techniques such as k-fold cross-validation or leave-one-out cross-validation. The value of lambda that minimizes the mean squared error or other performance metric on the validation set is typically chosen."
   ]
  }
 ],
 "metadata": {
  "kernelspec": {
   "display_name": "Python 3 (ipykernel)",
   "language": "python",
   "name": "python3"
  },
  "language_info": {
   "codemirror_mode": {
    "name": "ipython",
    "version": 3
   },
   "file_extension": ".py",
   "mimetype": "text/x-python",
   "name": "python",
   "nbconvert_exporter": "python",
   "pygments_lexer": "ipython3",
   "version": "3.10.8"
  }
 },
 "nbformat": 4,
 "nbformat_minor": 5
}
