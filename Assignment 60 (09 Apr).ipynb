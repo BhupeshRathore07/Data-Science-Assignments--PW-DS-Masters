{
 "cells": [
  {
   "cell_type": "markdown",
   "id": "565c0957-ed5c-4055-90a8-904831d30b72",
   "metadata": {},
   "source": [
    "#### Q1. What is Bayes' theorem?"
   ]
  },
  {
   "cell_type": "markdown",
   "id": "e305fff5-e5e2-4129-b35d-08a3d374d3ed",
   "metadata": {},
   "source": [
    "Ans: **Bayes' theorem** is a mathematical formula that describes the probability of an event occurring based on prior knowledge of related conditions or events.\n",
    "\n",
    "Named after Reverend Thomas Bayes"
   ]
  },
  {
   "cell_type": "markdown",
   "id": "13057386-c2b2-4d82-9736-b4a2461c42d6",
   "metadata": {},
   "source": [
    "#### Q2. What is the formula for Bayes' theorem?"
   ]
  },
  {
   "attachments": {
    "ef66c477-8f7d-42e0-b3f9-5d068abe0c91.png": {
     "image/png": "[encoded data removed]"
    }
   },
   "cell_type": "markdown",
   "id": "256f7be9-1d9b-4315-844f-90d099966c0f",
   "metadata": {},
   "source": [
    "Ans: The formula for Bayes' theorem is:\n",
    "\n",
    "![image.png](attachment:ef66c477-8f7d-42e0-b3f9-5d068abe0c91.png)\n",
    "\n",
    "**P(A|B) = P(B|A) * P(A) / P(B)**\n",
    "\n",
    "where:\n",
    "\n",
    "P(A|B) represents the probability of event A occurring given that event B has occurred.\n",
    "\n",
    "P(B|A) represents the probability of event B occurring given that event A has occurred.\n",
    "\n",
    "P(A) represents the prior probability of event A occurring.\n",
    "\n",
    "P(B) represents the prior probability of event B occurring."
   ]
  },
  {
   "cell_type": "markdown",
   "id": "0364eb54-ac37-4cb8-a3df-9edec2afcb6e",
   "metadata": {},
   "source": [
    "#### Q3. How is Bayes' theorem used in practice?"
   ]
  },
  {
   "cell_type": "markdown",
   "id": "aa85c60d-ebc2-4e17-ad64-503413f2f5f9",
   "metadata": {},
   "source": [
    "Ans: Bayes' theorem is used in many fields, including statistics, machine learning, and artificial intelligence, to make predictions or to make decisions based on available data. \n",
    "\n",
    "It can be used for a wide range of applications, such as spam filtering, medical diagnosis, image recognition, and language processing."
   ]
  },
  {
   "cell_type": "markdown",
   "id": "63625f84-e106-448d-8608-04fe28746d5f",
   "metadata": {},
   "source": [
    "#### Q4. What is the relationship between Bayes' theorem and conditional probability?"
   ]
  },
  {
   "cell_type": "markdown",
   "id": "b84bd814-1b9f-4bf1-8462-e64d16da6556",
   "metadata": {},
   "source": [
    "Ans: \n",
    "- Bayes' theorem is related to conditional probability, as it provides a way to calculate the probability of an event given that another event has occurred. \n",
    "\n",
    "- Conditional probability is the probability of an event happening given that another event has already occurred. \n",
    "\n",
    "- Bayes' theorem provides a way to update the prior probability of an event based on new information."
   ]
  },
  {
   "cell_type": "markdown",
   "id": "d662af46-ae3a-4636-aa79-ae5181a7e030",
   "metadata": {},
   "source": [
    "#### Q5. How do you choose which type of Naive Bayes classifier to use for any given problem?"
   ]
  },
  {
   "cell_type": "markdown",
   "id": "3b0fabad-3303-4744-9800-7e75344e6875",
   "metadata": {},
   "source": [
    "Ans:\n",
    "- The choice of which type of Naive Bayes classifier to use for a given problem depends on the nature of the data and the assumptions that can be made about the data. \n",
    "- There are three main types of Naive Bayes classifiers: \"Gaussian Naive Bayes\", \"Multinomial Naive Bayes\", and \"Bernoulli Naive Bayes\".\n",
    "\n",
    "- Gaussian Naive Bayes is used for continuous data that can be modeled using a Gaussian distribution.\n",
    "- Multinomial Naive Bayes is used for discrete data that follows a multinomial distribution, such as word counts in text classification problems.\n",
    "- Bernoulli Naive Bayes is used for binary data, where each feature is either present or absent. "
   ]
  },
  {
   "cell_type": "markdown",
   "id": "2472a2ee-289c-431c-b53b-0092edc90f05",
   "metadata": {},
   "source": [
    "#### Q6. Assignment:\n",
    "#### You have a dataset with two features, X1 and X2, and two possible classes, A and B. You want to use Naive Bayes to classify a new instance with features X1 = 3 and X2 = 4. The following table shows the frequency of each feature value for each class:\n",
    "\n",
    "#### Class X1=1 X1=2 X1=3 X2=1 X2=2 X2=3 X2=4\n",
    "#### A      3    3    4    4    3    3    3\n",
    "#### B      2    2    1    2    2    2    3\n",
    "#### Assuming equal prior probabilities for each class, which class would Naive Bayes predict the new instance to belong to?"
   ]
  },
  {
   "cell_type": "markdown",
   "id": "b8e5d862-c32b-4228-8bf2-e6a71b0cba7f",
   "metadata": {},
   "source": [
    "Ans:\n",
    "**P(A|X1=3, X2=4) = P(X1=3, X2=4|A) * P(A) / P(X1=3, X2=4)**\n",
    "\n",
    "**P(B|X1=3, X2=4) = P(X1=3, X2=4|B) * P(B) / P(X1=3, X2=4)**\n",
    "\n",
    "\n",
    "We know that,\n",
    "\n",
    "P(A) = P(B) = 0.5\n",
    "\n",
    "Now,\n",
    "\n",
    "P(X1=3, X2=4|A) = P(X1=3|A) * P(X2=4|A) = 4/10 * 3/10 = 0.12\n",
    "\n",
    "P(X1=3, X2=4|B) = P(X1=3|B) * P(X2=4|B) = 1/7 * 3/7 = 0.06\n",
    "\n",
    "Now;\n",
    "\n",
    "P(X1=3, X2=4) = P(X1=3, X2=4|A) * P(A) + P(X1=3, X2=4|B) * P(B)\n",
    "\n",
    "= 0.12 * 0.5 + 0.06 * 0.5\n",
    "\n",
    "= 0.09\n",
    "\n",
    "Thus in last,\n",
    "\n",
    "**P(A|X1=3, X2=4) = 0.12 * 0.5 / 0.09 = 0.67**\n",
    "\n",
    "**P(B|X1=3, X2=4) = 0.06 * 0.5 / 0.09 = 0.33**\n",
    "\n",
    "\n",
    "Therefore, Naive Bayes would predict that the new instance belongs to class A"
   ]
  }
 ],
 "metadata": {
  "kernelspec": {
   "display_name": "Python 3 (ipykernel)",
   "language": "python",
   "name": "python3"
  },
  "language_info": {
   "codemirror_mode": {
    "name": "ipython",
    "version": 3
   },
   "file_extension": ".py",
   "mimetype": "text/x-python",
   "name": "python",
   "nbconvert_exporter": "python",
   "pygments_lexer": "ipython3",
   "version": "3.10.8"
  }
 },
 "nbformat": 4,
 "nbformat_minor": 5
}
