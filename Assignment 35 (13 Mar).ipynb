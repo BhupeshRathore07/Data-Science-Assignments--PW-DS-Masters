{
 "cells": [
  {
   "cell_type": "markdown",
   "id": "31ff94f4-2894-42e8-ac6c-658b4dba20f2",
   "metadata": {
    "tags": []
   },
   "source": [
    "#### Q1. Explain the assumptions required to use ANOVA and provide examples of violations that could impact the validity of the results."
   ]
  },
  {
   "cell_type": "markdown",
   "id": "6f5ebc23-fe21-4f89-830f-fb63d2ce6c00",
   "metadata": {},
   "source": [
    "Ans: There are three primary assumptions in ANOVA:\n",
    "1. The responses for each factor level have a normal population distribution.\n",
    "2. These distributions have the same variance.\n",
    "3. The data are independent.\n",
    "\n",
    "Examples of violations that could impact validity:\n",
    "1. If the data is skewed(Non-normality), the mean may not be a good measure of central tendency and ANOVA assumes normality.\n",
    "2. If one group has much larger variance than the others, it may dominate the analysis and lead to erroneous conclusions.\n",
    "3. If the observations within each group are not independent ANOVA may not be appropriate."
   ]
  },
  {
   "cell_type": "markdown",
   "id": "ed805a04-42e2-4c3f-a1cd-c166b6d3fe91",
   "metadata": {},
   "source": [
    "#### Q2. What are the three types of ANOVA, and in what situations would each be used?"
   ]
  },
  {
   "cell_type": "markdown",
   "id": "c9069b56-0974-4802-b275-0ed358874cc9",
   "metadata": {},
   "source": [
    "Ans: \n",
    "1. One-Way ANOVA:\n",
    "A one-way ANOVA has just one independent variable. Eg: Difference in IQ can be assessed by Country, and County can have 2, 20, or more different categories to compare.\n",
    "\n",
    "2. Two-Way ANOVA:\n",
    "A two-way ANOVA refers to an ANOVA using two independent variables. Taking above example: A 2-way ANOVA can examine differences in IQ scores by Country and Gender.\n",
    "\n",
    "3. N-Way ANOVA:\n",
    "A researcher can also use more than two independent variables, and this is an n-way ANOVA (with n being the number of independent variables you have). Eg: potential differences in IQ scores can be examined by Country, Gender, Age group, Ethnicity, etc, simultaneously."
   ]
  },
  {
   "cell_type": "markdown",
   "id": "ea480e00-012c-4e18-b5d1-74b7da453670",
   "metadata": {},
   "source": [
    "#### Q3. What is the partitioning of variance in ANOVA, and why is it important to understand this concept?"
   ]
  },
  {
   "cell_type": "markdown",
   "id": "2900d1ac-84a7-45f8-95d7-88def4d54d22",
   "metadata": {},
   "source": [
    "Ans: Partitioning of variance in ANOVA: The process of decomposing the total variation in the response variable into different sources of variation, such as variation due to the treatments, variation due to random error, and so on.\n",
    "\n",
    "Understanding the partitioning of variance is also important because it allows us to calculate various statistics that are useful for testing hypotheses and making inferences about the population. "
   ]
  },
  {
   "cell_type": "markdown",
   "id": "e628a079-3f8f-4426-94aa-036c45fe52ee",
   "metadata": {},
   "source": [
    "#### Q4. How would you calculate the total sum of squares (SST), explained sum of squares (SSE), and residual sum of squares (SSR) in a one-way ANOVA using Python?"
   ]
  },
  {
   "cell_type": "code",
   "execution_count": 1,
   "id": "49ea31b9-abe1-447e-b01c-722e7c5676df",
   "metadata": {},
   "outputs": [
    {
     "name": "stdout",
     "output_type": "stream",
     "text": [
      "SST: 0               NaN\n",
      "1               NaN\n",
      "2               NaN\n",
      "3               NaN\n",
      "4               NaN\n",
      "5               NaN\n",
      "6               NaN\n",
      "7               NaN\n",
      "8               NaN\n",
      "value    150.888889\n",
      "dtype: float64\n",
      "SSE: 0               NaN\n",
      "1               NaN\n",
      "2               NaN\n",
      "3               NaN\n",
      "4               NaN\n",
      "5               NaN\n",
      "6               NaN\n",
      "7               NaN\n",
      "8               NaN\n",
      "value    150.888889\n",
      "dtype: float64\n",
      "SSR: 0        NaN\n",
      "1        NaN\n",
      "2        NaN\n",
      "3        NaN\n",
      "4        NaN\n",
      "5        NaN\n",
      "6        NaN\n",
      "7        NaN\n",
      "8        NaN\n",
      "value    0.0\n",
      "dtype: float64\n"
     ]
    }
   ],
   "source": [
    "import numpy as np\n",
    "import pandas as pd\n",
    "import scipy.stats as stats\n",
    "\n",
    "# create sample data as a pandas dataframe\n",
    "data = pd.DataFrame({\n",
    "    'group': ['A', 'A', 'A', 'B', 'B', 'B', 'C', 'C', 'C'],\n",
    "    'value': [10, 12, 14, 15, 16, 18, 20, 22, 24]\n",
    "})\n",
    "\n",
    "overall_mean = np.mean(data['value'])\n",
    "ssg = np.sum(data.groupby('group').count() * (data.groupby('group').mean() - overall_mean)**2)\n",
    "ssw = np.sum((data['value'] - data.groupby('group').mean())**2)\n",
    "\n",
    "sst = ssg + ssw\n",
    "sse = sst - ssw\n",
    "ssr = sse - ssg\n",
    "\n",
    "print(\"SST:\", sst)\n",
    "print(\"SSE:\", sse)\n",
    "print(\"SSR:\", ssr)"
   ]
  },
  {
   "cell_type": "markdown",
   "id": "7f3d0fc9-5b47-4620-a4d1-560a56cc898c",
   "metadata": {},
   "source": [
    "#### Q5. In a two-way ANOVA, how would you calculate the main effects and interaction effects using Python?"
   ]
  },
  {
   "cell_type": "code",
   "execution_count": 13,
   "id": "e3680bae-c3ae-4bd9-a1fb-749671676783",
   "metadata": {},
   "outputs": [
    {
     "name": "stdout",
     "output_type": "stream",
     "text": [
      "                                  sum_sq     df         F    PR(>F)\n",
      "C(Store)                      105.069864    2.0  0.590967  0.554462\n",
      "C(Time)                        48.194673    1.0  0.542143  0.462145\n",
      "C(Gender)                     145.867553    1.0  1.640868  0.201237\n",
      "C(Store):C(Time)              419.623246    2.0  2.360176  0.096227\n",
      "C(Store):C(Gender)              4.887141    2.0  0.027488  0.972889\n",
      "C(Time):C(Gender)               1.090264    1.0  0.012264  0.911896\n",
      "C(Store):C(Time):C(Gender)    398.248576    2.0  2.239954  0.108315\n",
      "Residual                    25602.221131  288.0       NaN       NaN\n"
     ]
    }
   ],
   "source": [
    "import pandas as pd\n",
    "import numpy as np\n",
    "import statsmodels.api as sm\n",
    "from statsmodels.formula.api import ols\n",
    "\n",
    "# Generate dummy data\n",
    "np.random.seed(1)\n",
    "n = 50\n",
    "df = pd.DataFrame({\n",
    "    'Sales': np.random.normal(loc=50, scale=10, size=n*6),\n",
    "    'Store': np.repeat(['A', 'B', 'C'], n*2),\n",
    "    'Time': np.tile(['Before', 'After'], n*3),\n",
    "    'Gender': np.tile(np.repeat(['Male', 'Female'], n), 3)\n",
    "})\n",
    "\n",
    "model = ols('Sales ~ C(Store) + C(Time) + C(Store):C(Time) + C(Gender) + C(Store):C(Gender) + C(Time):C(Gender) + C(Store):C(Time):C(Gender)', data=df).fit()\n",
    "anova_table = sm.stats.anova_lm(model, typ=2)\n",
    "\n",
    "\n",
    "print(anova_table)"
   ]
  },
  {
   "cell_type": "markdown",
   "id": "e821b328-30c5-4309-8adb-9180dbb9ce63",
   "metadata": {},
   "source": [
    "#### Q6. Suppose you conducted a one-way ANOVA and obtained an F-statistic of 5.23 and a p-value of 0.02. What can you conclude about the differences between the groups, and how would you interpret these results?"
   ]
  },
  {
   "cell_type": "markdown",
   "id": "fa1ffc8f-481b-4c8d-a6d6-1a12d2c76673",
   "metadata": {},
   "source": [
    "Ans: We can say that there is evidence of a statistically significant difference between the groups. The F-statistic of 5.23 indicates that there is more variation between the group means. \n",
    "\n",
    "The p-value of 0.02 suggests that the probability of obtaining an F-statistic as large as 5.23, assuming there is no true difference between the groups, is only 2%. \n",
    "\n",
    "Therefore, we reject the null hypothesis and conclude that there is a significant difference between the groups. "
   ]
  },
  {
   "cell_type": "markdown",
   "id": "c4234311-657e-4e4a-87a1-485b008f68a2",
   "metadata": {},
   "source": [
    "#### Q7. In a repeated measures ANOVA, how would you handle missing data, and what are the potential consequences of using different methods to handle missing data?"
   ]
  },
  {
   "cell_type": "markdown",
   "id": "53c7eb77-d850-4206-bed3-d5404add2a4d",
   "metadata": {},
   "source": [
    "Ans:\n",
    "1. Listwise deletion: This method involves deleting any participant from the analysis who has any missing data. This is a simple and commonly used approach, but it can reduce power and bias the results if the data are missing not at random (MNAR).\n",
    "\n",
    "2. Pairwise deletion: This method involves using all available data for each comparison, even if some data are missing. This approach can be more powerful than listwise deletion, but it can also lead to biased estimates if the data are not MCAR.\n",
    "\n",
    "3. Imputation: This method involves replacing missing data with estimates based on other available data. There are several methods of imputation, including mean imputation, regression imputation, and multiple imputation."
   ]
  },
  {
   "cell_type": "markdown",
   "id": "d4695823-43ee-4e3e-b3d7-50883b19c592",
   "metadata": {},
   "source": [
    "#### Q8. What are some common post-hoc tests used after ANOVA, and when would you use each one? Provide an example of a situation where a post-hoc test might be necessary."
   ]
  },
  {
   "cell_type": "markdown",
   "id": "9d44c171-4abb-4666-bfdd-c892e8ab4d89",
   "metadata": {},
   "source": [
    "Ans:\n",
    "1. Tukey's HSD test is a commonly used post-hoc test that compares all possible pairs of means to determine which pairs are significantly different from each other. This test is appropriate when the sample sizes are equal and the variances are homogenous.\n",
    "\n",
    "2. Bonferroni correction is another post-hoc test that adjusts the significance level for multiple comparisons. It is a conservative approach that reduces the chance of making a type I error (false positive).\n",
    "\n",
    "3. Scheffe's method is a more conservative post-hoc test that can be used when sample sizes are unequal or the variances are heterogenous.\n",
    "\n",
    "Eg: Suppose a researcher is interested in comparing the mean test scores of three different teaching methods (A, B, and C) in a study. The researcher conducts an ANOVA and finds a significant difference between the groups. A post-hoc test, such as Tukey's HSD, can be used to determine which groups have significantly different means from each other. If the test reveals that Method A has a significantly higher mean than Methods B and C, while Methods B and C do not differ significantly from each other, the researcher can conclude that Method A is the most effective teaching method."
   ]
  },
  {
   "cell_type": "markdown",
   "id": "59b2a83c-e7b2-45a3-a8ba-c712d7326757",
   "metadata": {},
   "source": [
    "#### Q9. A researcher wants to compare the mean weight loss of three diets: A, B, and C. They collect data from 50 participants who were randomly assigned to one of the diets. Conduct a one-way ANOVA using Python to determine if there are any significant differences between the mean weight loss of the three diets. Report the F-statistic and p-value, and interpret the results."
   ]
  },
  {
   "cell_type": "code",
   "execution_count": 2,
   "id": "c23442ab-426d-4c4e-af35-4574fabc59c1",
   "metadata": {},
   "outputs": [
    {
     "name": "stdout",
     "output_type": "stream",
     "text": [
      "F-Statistic: 9.090825688073394\n",
      "P-Value: 0.0003017972362803229\n"
     ]
    }
   ],
   "source": [
    "import pandas as pd\n",
    "import scipy.stats as stats\n",
    "\n",
    "# Create a dictionary of the data\n",
    "data = {'diet_A': [2, 5, 1, 3, 6, 7, 2, 4, 3, 5, 1, 2, 3, 4, 1, 5, 6, 3, 2, 4,\n",
    "                   1, 3, 5, 7, 8],\n",
    "        'diet_B': [3, 6, 7, 8, 2, 1, 3, 5, 2, 1, 4, 6, 7, 8, 2, 1, 3, 6, 7, 8,\n",
    "                   4, 5, 6, 7, 8],\n",
    "        'diet_C': [5, 4, 6, 8, 9, 10, 4, 3, 5, 4, 6, 7, 9, 10, 5, 4, 6, 7, 8,\n",
    "                   5, 4, 6, 7, 9, 8]}\n",
    "df = pd.DataFrame(data)\n",
    "\n",
    "\n",
    "f_statistic, p_value = stats.f_oneway(df['diet_A'], df['diet_B'], df['diet_C'])\n",
    "\n",
    "print('F-Statistic:', f_statistic)\n",
    "print('P-Value:', p_value)"
   ]
  },
  {
   "cell_type": "markdown",
   "id": "cc64178b-aa07-4404-8dcf-fabd88f7b3fc",
   "metadata": {},
   "source": [
    "#### Q10. A company wants to know if there are any significant differences in the average time it takes to complete a task using three different software programs: Program A, Program B, and Program C. They randomly assign 30 employees to one of the programs and record the time it takes each employee to complete the task. Conduct a two-way ANOVA using Python to determine if there are any main effects or interaction effects between the software programs and employee experience level (novice vs. experienced). Report the F-statistics and p-values, and interpret the results."
   ]
  },
  {
   "cell_type": "code",
   "execution_count": 4,
   "id": "5713e702-e567-4e6b-b45f-c207e0a92973",
   "metadata": {},
   "outputs": [
    {
     "name": "stdout",
     "output_type": "stream",
     "text": [
      "                             sum_sq    df         F    PR(>F)\n",
      "C(program)                11.585359   2.0  1.873805  0.174473\n",
      "C(experience)              9.618560   1.0  3.111393  0.089965\n",
      "C(program):C(experience)   5.662162   2.0  0.915793  0.413210\n",
      "Residual                  77.285000  25.0       NaN       NaN\n"
     ]
    }
   ],
   "source": [
    "import pandas as pd\n",
    "import statsmodels.api as sm\n",
    "from statsmodels.formula.api import ols\n",
    "\n",
    "# create a dataframe with the data\n",
    "data = {'time': [13.2, 14.1, 15.2, 11.9, 12.5, 13.8, 16.1, 14.9, 15.5, 17.2, 12.3, 13.1, 14.3, 10.9, 11.5, 13.8, 15.1, 16.5, 18.2, 13.9, 15.5, 16.8, 14.5, 15.1, 16.3, 11.9, 12.5, 13.8, 15.1, 16.5, 17.2],\n",
    "        'program': ['A', 'A', 'A', 'A', 'A', 'A', 'B', 'B', 'B', 'B', 'B', 'B', 'C', 'C', 'C', 'C', 'C', 'C', 'A', 'A', 'A', 'B', 'B', 'B', 'C', 'C', 'C', 'A', 'A', 'A', 'B'],\n",
    "        'experience': ['novice', 'novice', 'novice', 'novice', 'novice', 'novice', 'novice', 'novice', 'novice', 'novice', 'novice', 'novice', 'novice', 'novice', 'novice', 'novice', 'novice', 'novice', 'experienced', 'experienced', 'experienced', 'experienced', 'experienced', 'experienced', 'experienced', 'experienced', 'experienced', 'experienced', 'experienced', 'experienced', 'experienced']\n",
    "       }\n",
    "df = pd.DataFrame(data)\n",
    "\n",
    "model = ols('time ~ C(program) + C(experience) + C(program):C(experience)', data=df).fit()\n",
    "anova_table = sm.stats.anova_lm(model, typ=2)\n",
    "\n",
    "print(anova_table)"
   ]
  },
  {
   "cell_type": "markdown",
   "id": "4bdf2957-8744-46fc-8a30-c9082ead1bfc",
   "metadata": {},
   "source": [
    "#### Q11. An educational researcher is interested in whether a new teaching method improves student test scores. They randomly assign 100 students to either the control group (traditional teaching method) or the experimental group (new teaching method) and administer a test at the end of the semester. Conduct a two-sample t-test using Python to determine if there are any significant differences in test scores between the two groups. If the results are significant, follow up with a post-hoc test to determine which group(s) differ significantly from each other."
   ]
  },
  {
   "cell_type": "code",
   "execution_count": 5,
   "id": "01e3a199-b026-4236-afae-b02d4040e3ae",
   "metadata": {},
   "outputs": [
    {
     "name": "stdout",
     "output_type": "stream",
     "text": [
      "Two-Sample t-test Results:\n",
      "t-value: -1.53\n",
      "p-value: 0.1438\n",
      "The results are not statistically significant at the 5% level.\n",
      "\n",
      "Post-hoc Test (Tukey HSD):\n",
      "  Multiple Comparison of Means - Tukey HSD, FWER=0.05   \n",
      "========================================================\n",
      " group1    group2    meandiff p-adj  lower  upper reject\n",
      "--------------------------------------------------------\n",
      "control experimental      4.2 0.1438 -1.574 9.974  False\n",
      "--------------------------------------------------------\n"
     ]
    }
   ],
   "source": [
    "import pandas as pd\n",
    "import scipy.stats as stats\n",
    "from statsmodels.stats.multicomp import pairwise_tukeyhsd\n",
    "\n",
    "control = [75, 80, 85, 70, 90, 82, 78, 88, 72, 79]\n",
    "experimental = [80, 85, 90, 77, 92, 86, 81, 91, 76, 83]\n",
    "\n",
    "t_stat, p_val = stats.ttest_ind(control, experimental)\n",
    "\n",
    "print(\"Two-Sample t-test Results:\")\n",
    "print(\"t-value: {:.2f}\".format(t_stat))\n",
    "print(\"p-value: {:.4f}\".format(p_val))\n",
    "if p_val < 0.05:\n",
    "    print(\"The results are statistically significant at the 5% level.\")\n",
    "else:\n",
    "    print(\"The results are not statistically significant at the 5% level.\")\n",
    "\n",
    "data = pd.DataFrame({'score': control + experimental, 'group': ['control'] * 10 + ['experimental'] * 10})\n",
    "tukey_results = pairwise_tukeyhsd(data['score'], data['group'], alpha=0.05)\n",
    "\n",
    "print(\"\\nPost-hoc Test (Tukey HSD):\")\n",
    "print(tukey_results)"
   ]
  },
  {
   "cell_type": "markdown",
   "id": "030effce-0ceb-475a-8a4b-a77b229ae42e",
   "metadata": {},
   "source": [
    "#### Q12. A researcher wants to know if there are any significant differences in the average daily sales of three retail stores: Store A, Store B, and Store C. They randomly select 30 days and record the sales for each store on those days. Conduct a repeated measures ANOVA using Python to determine if there are any significant differences in sales between the three stores. If the results are significant, follow up with a post-hoc test to determine which store(s) differ significantly from each other."
   ]
  },
  {
   "cell_type": "code",
   "execution_count": 6,
   "id": "9a42a275-6f7e-4c81-b319-613c83d1f88f",
   "metadata": {},
   "outputs": [],
   "source": [
    "import pandas as pd\n",
    "\n",
    "\n",
    "df = pd.DataFrame({\n",
    "    'Day': range(1, 31),\n",
    "    'Store A': [10, 15, 12, 9, 8, 11, 13, 10, 16, 11, 14, 13, 12, 9, 11, 10, 14, 12, 11, 13, 12, 10, 11, 13, 12, 9, 11, 10, 12, 13],\n",
    "    'Store B': [8, 9, 10, 11, 7, 8, 12, 10, 9, 11, 8, 12, 7, 10, 9, 8, 11, 12, 10, 11, 9, 8, 10, 9, 11, 12, 8, 10, 11, 9],\n",
    "    'Store C': [5, 7, 6, 8, 9, 6, 5, 7, 8, 6, 5, 7, 9, 6, 8, 7, 5, 6, 8, 7, 5, 6, 7, 9, 8, 7, 6, 8, 5, 6]\n",
    "})\n",
    "\n",
    "df_long = pd.melt(df, id_vars=['Day'], value_vars=['Store A', 'Store B', 'Store C'], var_name='Store', value_name='Sales')"
   ]
  },
  {
   "cell_type": "code",
   "execution_count": 7,
   "id": "35ab80ce-6b1d-45f5-aa54-78f05448c52a",
   "metadata": {},
   "outputs": [
    {
     "data": {
      "text/html": [
       "<div>\n",
       "<style scoped>\n",
       "    .dataframe tbody tr th:only-of-type {\n",
       "        vertical-align: middle;\n",
       "    }\n",
       "\n",
       "    .dataframe tbody tr th {\n",
       "        vertical-align: top;\n",
       "    }\n",
       "\n",
       "    .dataframe thead th {\n",
       "        text-align: right;\n",
       "    }\n",
       "</style>\n",
       "<table border=\"1\" class=\"dataframe\">\n",
       "  <thead>\n",
       "    <tr style=\"text-align: right;\">\n",
       "      <th></th>\n",
       "      <th>sum_sq</th>\n",
       "      <th>df</th>\n",
       "      <th>F</th>\n",
       "      <th>PR(&gt;F)</th>\n",
       "    </tr>\n",
       "  </thead>\n",
       "  <tbody>\n",
       "    <tr>\n",
       "      <th>Store</th>\n",
       "      <td>355.755556</td>\n",
       "      <td>2.0</td>\n",
       "      <td>69.832944</td>\n",
       "      <td>1.369431e-18</td>\n",
       "    </tr>\n",
       "    <tr>\n",
       "      <th>Day</th>\n",
       "      <td>0.560957</td>\n",
       "      <td>1.0</td>\n",
       "      <td>0.220226</td>\n",
       "      <td>6.400838e-01</td>\n",
       "    </tr>\n",
       "    <tr>\n",
       "      <th>Store:Day</th>\n",
       "      <td>1.375083</td>\n",
       "      <td>2.0</td>\n",
       "      <td>0.269922</td>\n",
       "      <td>7.640989e-01</td>\n",
       "    </tr>\n",
       "    <tr>\n",
       "      <th>Residual</th>\n",
       "      <td>213.963960</td>\n",
       "      <td>84.0</td>\n",
       "      <td>NaN</td>\n",
       "      <td>NaN</td>\n",
       "    </tr>\n",
       "  </tbody>\n",
       "</table>\n",
       "</div>"
      ],
      "text/plain": [
       "               sum_sq    df          F        PR(>F)\n",
       "Store      355.755556   2.0  69.832944  1.369431e-18\n",
       "Day          0.560957   1.0   0.220226  6.400838e-01\n",
       "Store:Day    1.375083   2.0   0.269922  7.640989e-01\n",
       "Residual   213.963960  84.0        NaN           NaN"
      ]
     },
     "execution_count": 7,
     "metadata": {},
     "output_type": "execute_result"
    }
   ],
   "source": [
    "import statsmodels.api as sm\n",
    "from statsmodels.formula.api import ols\n",
    "\n",
    "model = ols('Sales ~ Store + Day + Store:Day', data=df_long).fit()\n",
    "\n",
    "sm.stats.anova_lm(model, typ=2)"
   ]
  },
  {
   "cell_type": "code",
   "execution_count": 8,
   "id": "5bacfdc3-af8d-466e-85c5-53dbe217543d",
   "metadata": {},
   "outputs": [
    {
     "name": "stdout",
     "output_type": "stream",
     "text": [
      " Multiple Comparison of Means - Tukey HSD, FWER=0.05 \n",
      "=====================================================\n",
      " group1  group2 meandiff p-adj  lower   upper  reject\n",
      "-----------------------------------------------------\n",
      "Store A Store B     -1.9   0.0 -2.8699 -0.9301   True\n",
      "Store A Store C  -4.8333   0.0 -5.8032 -3.8635   True\n",
      "Store B Store C  -2.9333   0.0 -3.9032 -1.9635   True\n",
      "-----------------------------------------------------\n"
     ]
    }
   ],
   "source": [
    "from statsmodels.stats.multicomp import pairwise_tukeyhsd\n",
    "\n",
    "posthoc = pairwise_tukeyhsd(df_long['Sales'], df_long['Store'])\n",
    "\n",
    "print(posthoc.summary())"
   ]
  }
 ],
 "metadata": {
  "kernelspec": {
   "display_name": "Python 3 (ipykernel)",
   "language": "python",
   "name": "python3"
  },
  "language_info": {
   "codemirror_mode": {
    "name": "ipython",
    "version": 3
   },
   "file_extension": ".py",
   "mimetype": "text/x-python",
   "name": "python",
   "nbconvert_exporter": "python",
   "pygments_lexer": "ipython3",
   "version": "3.10.8"
  }
 },
 "nbformat": 4,
 "nbformat_minor": 5
}
