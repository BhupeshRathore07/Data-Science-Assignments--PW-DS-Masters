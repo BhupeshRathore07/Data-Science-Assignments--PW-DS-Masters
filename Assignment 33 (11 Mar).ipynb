{
 "cells": [
  {
   "cell_type": "markdown",
   "id": "31ff94f4-2894-42e8-ac6c-658b4dba20f2",
   "metadata": {
    "tags": []
   },
   "source": [
    "#### Q1: What is the difference between a t-test and a z-test? Provide an example scenario where you would use each type of test."
   ]
  },
  {
   "cell_type": "markdown",
   "id": "6f5ebc23-fe21-4f89-830f-fb63d2ce6c00",
   "metadata": {},
   "source": [
    "Ans: The main difference between a t-test and a z-test is the population standard deviation. A z-test is used when the population standard deviation is known, whereas a t-test is used when the population standard deviation is unknown.\n",
    "\n",
    "1. Z-Test: Suppose a shoe company wants to determine whether the mean shoe size of their customers is equal to the industry standard shoe size of 9. To test this hypothesis, the company can collect a sample of 100 customers and calculate the sample mean and standard deviation of shoe size. Since the industry standard shoe size is well-known to be 9 with a standard deviation of 1, the population standard deviation is known. Therefore, the company can use a z-test to determine whether the sample mean is significantly different from the population mean of 9.\n",
    "\n",
    "2. T-Test: Suppose a researcher wants to determine whether a new drug has a significant effect on blood pressure. To test this hypothesis, the researcher can conduct a randomized controlled trial with a treatment group and a control group. After the trial, the researcher can calculate the sample means and standard deviations of blood pressure in both groups. Since the population standard deviation is unknown, the researcher can use a t-test to determine whether the difference in sample means is statistically significant."
   ]
  },
  {
   "cell_type": "markdown",
   "id": "ed805a04-42e2-4c3f-a1cd-c166b6d3fe91",
   "metadata": {},
   "source": [
    "#### Q2: Differentiate between one-tailed and two-tailed tests."
   ]
  },
  {
   "cell_type": "markdown",
   "id": "c9069b56-0974-4802-b275-0ed358874cc9",
   "metadata": {},
   "source": [
    "Ans: In a one-tailed test, the null hypothesis is rejected if the test statistic falls either in the upper or lower tail of the distribution, but not both. One-tailed tests are used when the researcher has a specific directional hypothesis about the relationship between variables.\n",
    "\n",
    "On the other hand, a two-tailed test, also known as a non-directional test, is a statistical test in which the critical region of a distribution is two-sided. In a two-tailed test, the null hypothesis is rejected if the test statistic falls in either tail of the distribution. Two-tailed tests are used when the researcher has no specific directional hypothesis about the relationship between variables."
   ]
  },
  {
   "cell_type": "markdown",
   "id": "ea480e00-012c-4e18-b5d1-74b7da453670",
   "metadata": {},
   "source": [
    "#### Q3: Explain the concept of Type 1 and Type 2 errors in hypothesis testing. Provide an example scenario for each type of error."
   ]
  },
  {
   "cell_type": "markdown",
   "id": "7f1ad770-3cbf-4d55-8c45-d0709f5e75b7",
   "metadata": {},
   "source": [
    "Ans: In hypothesis testing, a Type I error occurs when the null hypothesis is rejected when it is actually true. This is also known as a false positive. The probability of making a Type I error is denoted by alpha, which is typically set at 0.05 or 0.01. An example scenario of Type I error is a medical test that gives a positive result for a disease when the patient is actually healthy.\n",
    "\n",
    "On the other hand, a Type II error occurs when the null hypothesis is not rejected when it is actually false. This is also known as a false negative. The probability of making a Type II error is denoted by beta. An example scenario of Type II error is a medical test that gives a negative result for a disease when the patient is actually sick.\n",
    "\n",
    "It is important to balance the risks of Type I and Type II errors when conducting hypothesis testing. In some scenarios, such as medical testing, the consequences of a Type I or Type II error can be significant, and the level of significance and power of the test should be carefully chosen to minimize the risk of error."
   ]
  },
  {
   "cell_type": "markdown",
   "id": "e628a079-3f8f-4426-94aa-036c45fe52ee",
   "metadata": {},
   "source": [
    "#### Q4: Explain Bayes's theorem with an example."
   ]
  },
  {
   "cell_type": "markdown",
   "id": "5d34a3f0-426f-4c06-a181-23ce24d25349",
   "metadata": {},
   "source": [
    "Ans: Bayes's theorem states that the probability of an event A given event B has occurred is equal to the probability of event B given that event A has occurred, times the probability of event A, divided by the probability of event B.\n",
    "\n",
    "Mathematically, Bayes's theorem can be written as:\n",
    "\n",
    "P(A|B) = P(B|A) * P(A) / P(B)\n",
    "\n",
    "where P(A|B) is the probability of event A given that event B has occurred, P(B|A) is the probability of event B given that event A has occurred, P(A) is the prior probability of event A, and P(B) is the prior probability of event B.\n",
    "\n",
    "Eg: Let's say a medical test has a 95% accuracy rate in detecting a certain disease. If we know that 1% of the population has the disease, and a person tests positive for the disease, what is the probability that they actually have the disease?\n",
    "\n",
    "P(Disease|Positive) = P(Positive|Disease) * P(Disease) / P(Positive)\n",
    "P(Disease|Positive) = 0.95 * 0.01 / (0.95 * 0.01 + 0.05 * 0.99) = 0.16\n",
    "\n",
    "16%"
   ]
  },
  {
   "cell_type": "markdown",
   "id": "7f3d0fc9-5b47-4620-a4d1-560a56cc898c",
   "metadata": {},
   "source": [
    "#### Q5: What is a confidence interval? How to calculate the confidence interval, explain with an example."
   ]
  },
  {
   "cell_type": "markdown",
   "id": "16bc6ee5-8b9b-4c33-aa26-6c0b0c1ce1c4",
   "metadata": {},
   "source": [
    "Ans: A confidence interval is a range of values that is likely to contain the true population parameter with a certain level of confidence. It is a statistical measure that is used to estimate the range of values in which the population parameter is expected to lie.\n",
    "\n",
    "Confidence Interval = X̄ ± Zα/2 × (σ/√n)\n",
    "\n",
    "For example, suppose we want to calculate a 95% confidence interval for the population mean weight of a certain type of fruit. We take a random sample of 100 fruits and find the sample mean weight to be 200 grams with a standard deviation of 20 grams. The critical value for a 95% confidence interval is 1.96. Using the formula above, we can calculate the confidence interval as:\n",
    "\n",
    "Confidence Interval = 200 ± 1.96 × (20/√100) = 200 ± 3.92\n",
    "\n",
    "Therefore, we can say with 95% confidence that the true population mean weight of the fruit lies between 196.08 grams and 203.92 grams."
   ]
  },
  {
   "cell_type": "markdown",
   "id": "e821b328-30c5-4309-8adb-9180dbb9ce63",
   "metadata": {},
   "source": [
    "#### Q6. Use Bayes' Theorem to calculate the probability of an event occurring given prior knowledge of the event's probability and new evidence. Provide a sample problem and solution."
   ]
  },
  {
   "cell_type": "markdown",
   "id": "dec28d00-5bbc-410e-81b4-b1ed691cbdb4",
   "metadata": {},
   "source": [
    "Ans:  Problem: A factory produces two types of products, A and B. The probability that a product is type A is 0.6, and the probability that it is type B is 0.4. The probability that a type A product is defective is 0.1, and the probability that a type B product is defective is 0.05. If a randomly selected product is defective, what is the probability that it is type A?\n",
    "\n",
    "Solution:\n",
    "\n",
    "Let's use Bayes' Theorem to solve this problem.\n",
    "\n",
    "First, we need to define the events and probabilities:\n",
    "\n",
    "Let A be the event that the product is type A\n",
    "\n",
    "Let B be the event that the product is type B\n",
    "\n",
    "Let D be the event that the product is defective\n",
    "\n",
    "P(A) = 0.6 (probability of a type A product)\n",
    "\n",
    "P(B) = 0.4 (probability of a type B product)\n",
    "\n",
    "P(D|A) = 0.1 (probability of a defective product given that it is type A)\n",
    "\n",
    "P(D|B) = 0.05 (probability of a defective product given that it is type B)\n",
    "\n",
    "We want to find the probability that the product is type A given that it is defective, P(A|D).\n",
    "\n",
    "Using Bayes' Theorem:\n",
    "\n",
    "P(A|D) = P(D|A) * P(A) / P(D)\n",
    "\n",
    "To find P(D), we can use the law of total probability:\n",
    "\n",
    "P(D) = P(D|A) * P(A) + P(D|B) * P(B)\n",
    "\n",
    "Substituting the values:\n",
    "\n",
    "P(D) = (0.1 * 0.6) + (0.05 * 0.4) = 0.07\n",
    "\n",
    "Now we can calculate P(A|D):\n",
    "\n",
    "P(A|D) = P(D|A) * P(A) / P(D)\n",
    "\n",
    "P(A|D) = (0.1 * 0.6) / 0.07 ≈ 0.86\n",
    "\n",
    "Therefore, the probability that a defective product is type A is approximately 0.86 or 86%."
   ]
  },
  {
   "cell_type": "markdown",
   "id": "c4234311-657e-4e4a-87a1-485b008f68a2",
   "metadata": {},
   "source": [
    "#### Q7. Calculate the 95% confidence interval for a sample of data with a mean of 50 and a standard deviation of 5. Interpret the results."
   ]
  },
  {
   "cell_type": "markdown",
   "id": "f8b87086-d0cd-4ccc-87b5-7a71641db4dd",
   "metadata": {},
   "source": [
    "Ans: CI = x̄ ± z*(σ/sqrt(n))\n",
    "\n",
    "For a 95% confidence level, the critical value of z is 1.96.\n",
    "\n",
    "Plugging in the given values, we get:\n",
    "\n",
    "CI = 50 ± 1.96*(5/sqrt(n))\n",
    "\n",
    "Since the sample size is not provided, we cannot calculate the exact confidence interval. However, we can interpret the results for a range of sample sizes. For example, for a sample size of 25, we get:\n",
    "\n",
    "CI = 50 ± 1.96*(5/sqrt(25)) = 50 ± 1\n",
    "\n",
    "Sample means to fall within the interval (49, 51)."
   ]
  },
  {
   "cell_type": "markdown",
   "id": "d4695823-43ee-4e3e-b3d7-50883b19c592",
   "metadata": {},
   "source": [
    "#### Q8. What is the margin of error in a confidence interval? How does sample size affect the margin of error? Provide an example of a scenario where a larger sample size would result in a smaller margin of error."
   ]
  },
  {
   "cell_type": "markdown",
   "id": "bcfb5d0e-fc6c-4cf5-92af-b936e879ae85",
   "metadata": {},
   "source": [
    "Ans: The margin of error in a confidence interval is the maximum likely difference between the point estimate and the true population parameter.\n",
    "\n",
    "Sample size affects the margin of error as it is inversely proportional to the square root of the sample size.\n",
    "\n",
    "Eg: Suppose a political pollster wants to estimate the proportion of voters who will vote for a particular candidate in an upcoming election. They take a sample of 500 voters and find that 45% of them intend to vote for the candidate. The pollster wants to calculate a 95% confidence interval for the true proportion of voters who will vote for the candidate.\n",
    "\n",
    "Margin of error = 1.96 * (sqrt(0.45*(1-0.45))/500) = 0.047 or 4.7%\n",
    "\n",
    "Suppose the pollster increases the sample size to 1000 voters, keeping all other factors the same. The margin of error can be calculated as:\n",
    "\n",
    "Margin of error = 1.96 * (sqrt(0.45*(1-0.45))/1000) = 0.033 or 3.3%\n",
    "\n",
    "Thus, increasing the sample size from 500 to 1000 voters has resulted in a smaller margin of error, and the estimate of the true proportion of voters who will vote for the candidate is more precise."
   ]
  },
  {
   "cell_type": "markdown",
   "id": "59b2a83c-e7b2-45a3-a8ba-c712d7326757",
   "metadata": {},
   "source": [
    "#### Q9. Calculate the z-score for a data point with a value of 75, a population mean of 70, and a population standard deviation of 5. Interpret the results."
   ]
  },
  {
   "cell_type": "markdown",
   "id": "4e99f142-0777-43ae-9fbc-de1281aa9be5",
   "metadata": {},
   "source": [
    "Ans: z = (x - μ) / σ\n",
    "\n",
    "z = (75 - 70) / 5 = 1\n",
    "\n",
    "The z-score of the data point 75 is 1."
   ]
  },
  {
   "cell_type": "markdown",
   "id": "cc64178b-aa07-4404-8dcf-fabd88f7b3fc",
   "metadata": {},
   "source": [
    "#### Q10. In a study of the effectiveness of a new weight loss drug, a sample of 50 participants lost an average of 6 pounds with a standard deviation of 2.5 pounds. Conduct a hypothesis test to determine if the drug is significantly effective at a 95% confidence level using a t-test."
   ]
  },
  {
   "cell_type": "markdown",
   "id": "86ea9c38-e803-43af-8639-0be9aef674db",
   "metadata": {},
   "source": [
    "Ans: Null Hypothesis: The new weight loss drug is not significantly effective, and the mean weight loss of the population is equal to 0 pounds.\n",
    "\n",
    "Alternative Hypothesis: The new weight loss drug is significantly effective, and the mean weight loss of the population is less than 0 pounds.\n",
    "\n",
    "t = (6 - 0) / (2.5 / sqrt(50))\n",
    "t = 15.2\n",
    "\n",
    "Since the calculated t-statistic (15.2) is greater than the critical t-value (-1.677), we reject the null hypothesis and conclude that the new weight loss drug is significantly effective at a 95% confidence level."
   ]
  },
  {
   "cell_type": "markdown",
   "id": "4bdf2957-8744-46fc-8a30-c9082ead1bfc",
   "metadata": {},
   "source": [
    "#### Q11. In a survey of 500 people, 65% reported being satisfied with their current job. Calculate the 95% confidence interval for the true proportion of people who are satisfied with their job."
   ]
  },
  {
   "cell_type": "markdown",
   "id": "0967f4d7-e4b7-4f45-b8b1-868396542302",
   "metadata": {},
   "source": [
    "Ans: CI = p ± zsqrt(p(1-p)/n)\n",
    "\n",
    "CI = 0.65 ± 1.96sqrt(0.65(1-0.65)/500)\n",
    "\n",
    "CI = 0.65 ± 0.045\n",
    "\n",
    "This means we can be 95% confident that the true proportion of people who are satisfied with their job falls between 60.5% and 69.5%."
   ]
  },
  {
   "cell_type": "markdown",
   "id": "030effce-0ceb-475a-8a4b-a77b229ae42e",
   "metadata": {},
   "source": [
    "#### Q12. A researcher is testing the effectiveness of two different teaching methods on student performance. Sample A has a mean score of 85 with a standard deviation of 6, while sample B has a mean score of 82 with a standard deviation of 5. Conduct a hypothesis test to determine if the two teaching methods have a significant difference in student performance using a t-test with a significance level of 0.01."
   ]
  },
  {
   "cell_type": "markdown",
   "id": "df446a40-36e8-4bce-966b-ac42333c09c1",
   "metadata": {},
   "source": [
    "Ans: H0: μA = μB\n",
    "\n",
    "Ha: μA ≠ μB\n",
    "\n",
    "t = (x̄A - x̄B) / (s_p * sqrt(1/nA + 1/nB))\n",
    "\n",
    "The pooled standard deviation can be calculated as:\n",
    "\n",
    "s_p = sqrt(((nA-1) * sA^2 + (nB-1) * sB^2) / (nA+nB-2))\n",
    "\n",
    "With a significance level of 0.01 and degrees of freedom of (nA + nB - 2) = (sample size of A + sample size of B - 2) = (nA + nB - 2) = (10 + 12 - 2) = 20, the critical t-value is ±2.845.\n",
    "\n",
    "t = (85 - 82) / (sqrt(((9 * 6^2) + (11 * 5^2)) / 20) * sqrt((1/10) + (1/12)))\n",
    "t = 2.013\n",
    "\n",
    "The calculated t-value (2.013) is less than the critical t-value (±2.845), so we \"fail to reject the null hypothesis.\""
   ]
  },
  {
   "cell_type": "markdown",
   "id": "ceeb2675-4d14-4098-9278-9cd2844bc98e",
   "metadata": {},
   "source": [
    "#### Q13. A population has a mean of 60 and a standard deviation of 8. A sample of 50 observations has a mean of 65. Calculate the 90% confidence interval for the true population mean."
   ]
  },
  {
   "cell_type": "code",
   "execution_count": 3,
   "id": "50d3f595-d9b9-4e8d-be53-f12b2bdbabd9",
   "metadata": {},
   "outputs": [
    {
     "name": "stdout",
     "output_type": "stream",
     "text": [
      "90% confidence interval: (63.10319919251691, 66.89680080748309)\n"
     ]
    }
   ],
   "source": [
    "import scipy.stats as stat\n",
    "\n",
    "mu = 60\n",
    "sigma = 8\n",
    "\n",
    "n = 50\n",
    "x_bar = 65\n",
    "se = sigma / (n ** 0.5)\n",
    "\n",
    "ci = stat.t.interval(0.9, n - 1, loc=x_bar, scale=se)\n",
    "\n",
    "print(f\"90% confidence interval: {ci}\")"
   ]
  },
  {
   "cell_type": "markdown",
   "id": "0d4f315d-1b2d-48d5-9f3d-b70b6aa7c98e",
   "metadata": {},
   "source": [
    "#### Q14. In a study of the effects of caffeine on reaction time, a sample of 30 participants had an average reaction time of 0.25 seconds with a standard deviation of 0.05 seconds. Conduct a hypothesis test to determine if the caffeine has a significant effect on reaction time at a 90% confidence level using a t-test."
   ]
  },
  {
   "cell_type": "markdown",
   "id": "5732f041-2083-43d9-b0ed-2605182e6605",
   "metadata": {},
   "source": [
    "Ans: Null hypothesis (H0): The population mean reaction time is not significantly different from the sample mean reaction time (μ = 0.25).\n",
    "\n",
    "Alternative hypothesis (Ha): The population mean reaction time is significantly different from the sample mean reaction time (μ ≠ 0.25).\n",
    "\n",
    "t = (x̄ - μ) / (s / √n)\n",
    "\n",
    "t = (0.25 - 0.25) / (0.05 / √30) = 0 / 0.00914 = 0\n",
    "\n",
    "The calculated t-value (0) is not greater than the critical t-value (±1.699), so we \"fail to reject the null hypothesis.\""
   ]
  }
 ],
 "metadata": {
  "kernelspec": {
   "display_name": "Python 3 (ipykernel)",
   "language": "python",
   "name": "python3"
  },
  "language_info": {
   "codemirror_mode": {
    "name": "ipython",
    "version": 3
   },
   "file_extension": ".py",
   "mimetype": "text/x-python",
   "name": "python",
   "nbconvert_exporter": "python",
   "pygments_lexer": "ipython3",
   "version": "3.10.8"
  }
 },
 "nbformat": 4,
 "nbformat_minor": 5
}
