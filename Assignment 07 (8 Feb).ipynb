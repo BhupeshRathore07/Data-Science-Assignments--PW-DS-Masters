{
 "cells": [
  {
   "cell_type": "markdown",
   "id": "31ff94f4-2894-42e8-ac6c-658b4dba20f2",
   "metadata": {
    "tags": []
   },
   "source": [
    "#### Q1. What is Abstraction in OOPs? Explain with an example."
   ]
  },
  {
   "cell_type": "code",
   "execution_count": 12,
   "id": "924a1288-90a1-482f-b845-4685c87ef307",
   "metadata": {},
   "outputs": [
    {
     "name": "stdout",
     "output_type": "stream",
     "text": [
      "Ans: Abstraction is the process of hiding the internal details of an application from the outer world.\n",
      "Tesla Mileage: 30kmph\n",
      "Suzuki Mileage: 25kmph \n"
     ]
    }
   ],
   "source": [
    "print(\"Ans: Abstraction is the process of hiding the internal details of an application from the outer world.\")\n",
    "\n",
    "from abc import ABC  \n",
    "class Car(ABC):   \n",
    "    def mileage(self):   \n",
    "        pass  \n",
    "\n",
    "class Tesla(Car):   \n",
    "    def mileage(self):   \n",
    "        print(\"Tesla Mileage: 30kmph\")   \n",
    "        \n",
    "class Suzuki(Car):   \n",
    "    def mileage(self):   \n",
    "        print(\"Suzuki Mileage: 25kmph \")   \n",
    "        \n",
    "t= Tesla ()   \n",
    "t.mileage() \n",
    "s = Suzuki()   \n",
    "s.mileage()   "
   ]
  },
  {
   "cell_type": "markdown",
   "id": "ed805a04-42e2-4c3f-a1cd-c166b6d3fe91",
   "metadata": {},
   "source": [
    "#### Q2. Differentiate between Abstraction and Encapsulation. Explain with an example."
   ]
  },
  {
   "cell_type": "code",
   "execution_count": 24,
   "id": "0ffcc9b0-f3da-4129-b263-ad40dbef4bf9",
   "metadata": {},
   "outputs": [
    {
     "name": "stdout",
     "output_type": "stream",
     "text": [
      "'Abstraction': It is the process of hiding the internal details of an application from the outer world.\n",
      "\n",
      "'Encapsulation': Encapsulation is a mechanism of wrapping the variables and methods together as a single unit.\n",
      "\n",
      "32 2004\n"
     ]
    }
   ],
   "source": [
    "print(\"'Abstraction': It is the process of hiding the internal details of an application from the outer world.\\n\")\n",
    "from abc import ABC  \n",
    "class Car(ABC):   \n",
    "    def mileage(self):   \n",
    "        pass  \n",
    "\n",
    "class Tesla(Car):   \n",
    "    def mileage(self):   \n",
    "        print(\"Mileage: 30kmph\")   \n",
    "        \n",
    "class Suzuki(Car):   \n",
    "    def mileage(self):   \n",
    "        print(\"Mileage: 25kmph \")  \n",
    "\n",
    "\n",
    "\n",
    "print(\"'Encapsulation': Encapsulation is a mechanism of wrapping the variables and methods together as a single unit.\\n\")\n",
    "class A:\n",
    "    \n",
    "    def __init__(self, number, year):\n",
    "        self.number = number\n",
    "        self._year = year\n",
    "    \n",
    "    def test(self):\n",
    "        print (self.number, self._year)\n",
    "        \n",
    "ob = A(32, 2004)\n",
    "ob.test()\n",
    "# ob.year // 'A' object has no attribute 'year' \n"
   ]
  },
  {
   "cell_type": "markdown",
   "id": "ea480e00-012c-4e18-b5d1-74b7da453670",
   "metadata": {},
   "source": [
    "#### Q3. What is abc module in python? Why is it used?"
   ]
  },
  {
   "cell_type": "code",
   "execution_count": 20,
   "id": "50995768-78b4-4013-ac14-73135e8e83c3",
   "metadata": {},
   "outputs": [
    {
     "name": "stdout",
     "output_type": "stream",
     "text": [
      "'abc module': Abstract Base Classes, provides the infrastructure for defining custom abstract base classes. \n",
      "\n"
     ]
    }
   ],
   "source": [
    "print(\"'abc module': Abstract Base Classes, provides the infrastructure for defining custom abstract base classes. \\n\")\n",
    "\n",
    "import abc\n",
    "\n",
    "@abc.abstractmethod\n",
    "def method():\n",
    "    pass\n"
   ]
  },
  {
   "cell_type": "markdown",
   "id": "f0eff019-96f0-4f05-91c4-f6dc6714f50d",
   "metadata": {},
   "source": [
    "#### Q4. How can we achieve data abstraction?"
   ]
  },
  {
   "cell_type": "code",
   "execution_count": 16,
   "id": "53b29ae1-c485-41bb-9f86-9fedbf00e081",
   "metadata": {
    "tags": []
   },
   "outputs": [
    {
     "name": "stdout",
     "output_type": "stream",
     "text": [
      "Data abstraction is achieved by using the abstract keyword for classes and interfaces \n",
      "\n"
     ]
    }
   ],
   "source": [
    "print(\"Data abstraction is achieved by using the abstract keyword for classes and interfaces \\n\")"
   ]
  },
  {
   "cell_type": "markdown",
   "id": "d27dca1a-69d7-4653-9c35-e1e91bf7a8b6",
   "metadata": {},
   "source": [
    "#### Q5. Can we create an instance of an abstract class? Explain your answer."
   ]
  },
  {
   "cell_type": "code",
   "execution_count": 23,
   "id": "57669fcf-e166-44cb-b08c-8372af587ba5",
   "metadata": {},
   "outputs": [
    {
     "name": "stdout",
     "output_type": "stream",
     "text": [
      "Ans: No we cannot create an instance of an abstract class directly. Attempting to instantiate an abstract class will result in a TypeError.\n"
     ]
    }
   ],
   "source": [
    "print (\"Ans: No we cannot create an instance of an abstract class directly. Attempting to instantiate an abstract class will result in a TypeError.\")"
   ]
  }
 ],
 "metadata": {
  "kernelspec": {
   "display_name": "Python 3 (ipykernel)",
   "language": "python",
   "name": "python3"
  },
  "language_info": {
   "codemirror_mode": {
    "name": "ipython",
    "version": 3
   },
   "file_extension": ".py",
   "mimetype": "text/x-python",
   "name": "python",
   "nbconvert_exporter": "python",
   "pygments_lexer": "ipython3",
   "version": "3.10.8"
  }
 },
 "nbformat": 4,
 "nbformat_minor": 5
}
