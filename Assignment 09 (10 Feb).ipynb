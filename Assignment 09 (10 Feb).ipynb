{
 "cells": [
  {
   "cell_type": "markdown",
   "id": "31ff94f4-2894-42e8-ac6c-658b4dba20f2",
   "metadata": {
    "tags": []
   },
   "source": [
    "#### Q1. Which function is used to open a file? What are the different modes of opening a file? Explain each mode of file opening."
   ]
  },
  {
   "cell_type": "markdown",
   "id": "bd8a7bc9-c193-44a8-ba41-666ce5cc8c24",
   "metadata": {},
   "source": [
    "Ans. Open function is used to open file.\n",
    "Different modes of openong files are:\n",
    "1. 'r' read\n",
    "2. 'w' write\n",
    "3. 'a' append\n",
    "4. 'b' binary\n",
    "5. 't' text mode\n",
    "6. '+' open a disk file for updating (reading and writing)\n",
    "7. 'x' create a new file and open it for writing\n",
    "8. 'U' universal newline mode (deprecated)"
   ]
  },
  {
   "cell_type": "markdown",
   "id": "ed805a04-42e2-4c3f-a1cd-c166b6d3fe91",
   "metadata": {},
   "source": [
    "#### Q2. Why close() function is used? Why is it important to close a file?"
   ]
  },
  {
   "cell_type": "markdown",
   "id": "2ad66905-3668-4c88-b3ea-a5574f4df840",
   "metadata": {},
   "source": [
    "Ans. Close function acts as saving the file, so without this, no added saves will be shown in newly created file."
   ]
  },
  {
   "cell_type": "markdown",
   "id": "ea480e00-012c-4e18-b5d1-74b7da453670",
   "metadata": {},
   "source": [
    "#### Q3. Write a python program to create a text file. Write ‘I want to become a Data Scientist’ in that file. Then close the file. Open this file and read the content of the file."
   ]
  },
  {
   "cell_type": "code",
   "execution_count": 3,
   "id": "50995768-78b4-4013-ac14-73135e8e83c3",
   "metadata": {},
   "outputs": [
    {
     "data": {
      "text/plain": [
       "'I want to become a Data Scientist'"
      ]
     },
     "execution_count": 3,
     "metadata": {},
     "output_type": "execute_result"
    }
   ],
   "source": [
    "f = open(\"new.txt\", \"w\")\n",
    "f.write(\"I want to become a Data Scientist\")\n",
    "\n",
    "f.close()\n",
    "\n",
    "f = open(\"new.txt\", \"r\")\n",
    "f.read()"
   ]
  },
  {
   "cell_type": "markdown",
   "id": "f0eff019-96f0-4f05-91c4-f6dc6714f50d",
   "metadata": {},
   "source": [
    "#### Q4. Explain the following with python code: read(), readline() and readlines()."
   ]
  },
  {
   "cell_type": "code",
   "execution_count": 9,
   "id": "53b29ae1-c485-41bb-9f86-9fedbf00e081",
   "metadata": {
    "tags": []
   },
   "outputs": [
    {
     "data": {
      "text/plain": [
       "'I want to become a Data Scientist. \\nTo become I need to understand python. \\nI will be data scientist.'"
      ]
     },
     "execution_count": 9,
     "metadata": {},
     "output_type": "execute_result"
    }
   ],
   "source": [
    "f = open(\"new2.txt\", \"w\")\n",
    "f.write(\"I want to become a Data Scientist. \\nTo become I need to understand python. \\nI will be data scientist.\")\n",
    "\n",
    "f.close()\n",
    "f = open(\"new2.txt\", +\"r\")\n",
    "f.seek(0)\n",
    "f.read()"
   ]
  },
  {
   "cell_type": "code",
   "execution_count": 10,
   "id": "9277179c-a330-4ccf-9529-01ca6161e1a2",
   "metadata": {},
   "outputs": [
    {
     "data": {
      "text/plain": [
       "'I want to become a Data Scientist. \\n'"
      ]
     },
     "execution_count": 10,
     "metadata": {},
     "output_type": "execute_result"
    }
   ],
   "source": [
    "f.seek(0)\n",
    "f.readline()"
   ]
  },
  {
   "cell_type": "code",
   "execution_count": 11,
   "id": "2194d227-e90c-4641-979a-366b62959b58",
   "metadata": {},
   "outputs": [
    {
     "data": {
      "text/plain": [
       "['I want to become a Data Scientist. \\n',\n",
       " 'To become I need to understand python. \\n',\n",
       " 'I will be data scientist.']"
      ]
     },
     "execution_count": 11,
     "metadata": {},
     "output_type": "execute_result"
    }
   ],
   "source": [
    "f.seek(0)\n",
    "f.readlines()"
   ]
  },
  {
   "cell_type": "markdown",
   "id": "d27dca1a-69d7-4653-9c35-e1e91bf7a8b6",
   "metadata": {},
   "source": [
    "#### Q5. Explain why with statement is used with open(). What is the advantage of using with statement and open() together?"
   ]
  },
  {
   "cell_type": "markdown",
   "id": "ca5d9d90-86c1-4eb5-897f-c836224bcb78",
   "metadata": {},
   "source": [
    "Ans. 'with' statement is used to open file and the biggest advantage of this is we do not need to close file to save the changes, unlike the open(). It closes the file for us without telling us and open it to do the specified mode."
   ]
  },
  {
   "cell_type": "markdown",
   "id": "5583fcf5-ee70-4e5c-b1fe-4f171e5badc5",
   "metadata": {},
   "source": [
    "#### Q6. Explain the write() and writelines() functions. Give a suitable example."
   ]
  },
  {
   "cell_type": "markdown",
   "id": "951ad69a-d91b-4d58-9eeb-dfef194f055f",
   "metadata": {},
   "source": [
    "Ans: write() just write the lines and writelines() can takes the list to write in the file."
   ]
  },
  {
   "cell_type": "code",
   "execution_count": 29,
   "id": "cc3a3a0c-902a-4713-8eb6-5f2d40dd01f1",
   "metadata": {},
   "outputs": [
    {
     "name": "stdout",
     "output_type": "stream",
     "text": [
      "I want to become a Data Scientist\n",
      "To become I need to understand python.\n"
     ]
    }
   ],
   "source": [
    "f = open(\"new2.txt\", \"w\")\n",
    "f.write(\"I want to become a Data Scientist\")\n",
    "f.write(\"\\nTo become I need to understand python.\")\n",
    "\n",
    "f.close()\n",
    "f = open(\"new2.txt\", \"r\")\n",
    "f.seek(0)\n",
    "print(f.read())"
   ]
  },
  {
   "cell_type": "code",
   "execution_count": 28,
   "id": "b2950230-0f2d-428a-a986-734cd46bde81",
   "metadata": {},
   "outputs": [
    {
     "name": "stdout",
     "output_type": "stream",
     "text": [
      "I want to become a Data Scientist\n",
      "To become I need to understand python.\n"
     ]
    }
   ],
   "source": [
    "f = open(\"new3.txt\", \"w\")\n",
    "f.writelines([\"I want to become a Data Scientist\\n\", \"To become I need to understand python.\"])\n",
    "\n",
    "f.close()\n",
    "f = open(\"new3.txt\", \"r\")\n",
    "f.seek(0)\n",
    "print(f.read())"
   ]
  }
 ],
 "metadata": {
  "kernelspec": {
   "display_name": "Python 3 (ipykernel)",
   "language": "python",
   "name": "python3"
  },
  "language_info": {
   "codemirror_mode": {
    "name": "ipython",
    "version": 3
   },
   "file_extension": ".py",
   "mimetype": "text/x-python",
   "name": "python",
   "nbconvert_exporter": "python",
   "pygments_lexer": "ipython3",
   "version": "3.10.8"
  }
 },
 "nbformat": 4,
 "nbformat_minor": 5
}
