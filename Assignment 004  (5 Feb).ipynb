{
 "cells": [
  {
   "cell_type": "markdown",
   "id": "31ff94f4-2894-42e8-ac6c-658b4dba20f2",
   "metadata": {
    "tags": []
   },
   "source": [
    "#### Q1. Explain Class and Object with respect to Object-Oriented Programming. Give a suitable example."
   ]
  },
  {
   "cell_type": "code",
   "execution_count": 6,
   "id": "924a1288-90a1-482f-b845-4685c87ef307",
   "metadata": {},
   "outputs": [
    {
     "name": "stdout",
     "output_type": "stream",
     "text": [
      "Ans: Class is a like blueprint for certaing group of function or similar objects\n",
      "Object is an instance of any class, which can be multiple for even one class \n",
      "\n",
      "Here, 'test' is class and 'obj' is object\n"
     ]
    }
   ],
   "source": [
    "print (\"Ans: Class is a like blueprint for certaing group of function or similar objects\")\n",
    "print (\"Object is an instance of any class, which can be multiple for even one class \\n\")\n",
    "\n",
    "class test:\n",
    "    pass\n",
    "\n",
    "obj = test()\n",
    "\n",
    "print(\"Here, 'test' is class and 'obj' is object\")"
   ]
  },
  {
   "cell_type": "markdown",
   "id": "ed805a04-42e2-4c3f-a1cd-c166b6d3fe91",
   "metadata": {},
   "source": [
    "#### Q2. Name the four pillars of OOPs."
   ]
  },
  {
   "cell_type": "code",
   "execution_count": 7,
   "id": "0ffcc9b0-f3da-4129-b263-ad40dbef4bf9",
   "metadata": {},
   "outputs": [
    {
     "name": "stdout",
     "output_type": "stream",
     "text": [
      " 1. Abstraction\n",
      " 2. Encapsulation\n",
      " 3. Inheritance\n",
      " 4. Polymorphism\n"
     ]
    }
   ],
   "source": [
    "print (\" 1. Abstraction\")\n",
    "print (\" 2. Encapsulation\")\n",
    "print (\" 3. Inheritance\")\n",
    "print (\" 4. Polymorphism\")"
   ]
  },
  {
   "cell_type": "markdown",
   "id": "ea480e00-012c-4e18-b5d1-74b7da453670",
   "metadata": {},
   "source": [
    "#### Q3. Explain why the __init__() function is used. Give a suitable example."
   ]
  },
  {
   "cell_type": "code",
   "execution_count": 8,
   "id": "50995768-78b4-4013-ac14-73135e8e83c3",
   "metadata": {},
   "outputs": [
    {
     "name": "stdout",
     "output_type": "stream",
     "text": [
      "In simple words, any class can not have any arguments input directly, but they can be passed as it might be needed, so _init_ function in an essence acts as input for arguments/parameters of a class.\n"
     ]
    }
   ],
   "source": [
    "print(\"In simple words, any class can not have any arguments input directly, but they can be passed as it might be needed, so _init_ function in an essence acts as input for arguments/parameters of a class.\")"
   ]
  },
  {
   "cell_type": "markdown",
   "id": "f0eff019-96f0-4f05-91c4-f6dc6714f50d",
   "metadata": {},
   "source": [
    "#### Q4. Why self is used in OOPs?"
   ]
  },
  {
   "cell_type": "code",
   "execution_count": 9,
   "id": "53b29ae1-c485-41bb-9f86-9fedbf00e081",
   "metadata": {
    "tags": []
   },
   "outputs": [
    {
     "name": "stdout",
     "output_type": "stream",
     "text": [
      "In classes, the function and variable that are defined needed to be aware of fact that they belong to that specific class, so self is used to define the relation with the class.\n"
     ]
    }
   ],
   "source": [
    "print(\"In classes, the function and variable that are defined needed to be aware of fact that they belong to that specific class, so self is used to define the relation with the class.\")"
   ]
  },
  {
   "cell_type": "markdown",
   "id": "d27dca1a-69d7-4653-9c35-e1e91bf7a8b6",
   "metadata": {},
   "source": [
    "#### Q5. What is inheritance? Give an example for each type of inheritance."
   ]
  },
  {
   "cell_type": "code",
   "execution_count": 11,
   "id": "57669fcf-e166-44cb-b08c-8372af587ba5",
   "metadata": {},
   "outputs": [
    {
     "name": "stdout",
     "output_type": "stream",
     "text": [
      "Inheritance is a mechanism in which one class acquires the property of another class. \n",
      "\n",
      "Single Inheritance\n",
      "\n",
      "Multilevel Inheritance \n",
      "\n",
      "Multiple Inheritance \n",
      "\n",
      "Hierarchical Inheritance \n",
      "\n"
     ]
    }
   ],
   "source": [
    "print(\"Inheritance is a mechanism in which one class acquires the property of another class. \\n\")\n",
    "\n",
    "print (\"Single Inheritance\\n\")\n",
    "class A:\n",
    "    pass\n",
    "class B (A):\n",
    "    pass\n",
    "\n",
    "print (\"Multilevel Inheritance \\n\")\n",
    "class A:\n",
    "    pass\n",
    "class B (A):\n",
    "    pass\n",
    "class C(B):\n",
    "    pass\n",
    "\n",
    "print (\"Multiple Inheritance \\n\")\n",
    "class A:\n",
    "    pass\n",
    "class B:\n",
    "    pass\n",
    "class C(A,B):\n",
    "    pass\n",
    "\n",
    "print (\"Hierarchical Inheritance \\n\")\n",
    "class A:\n",
    "    pass\n",
    "class B(A):\n",
    "    pass\n",
    "class C(A):\n",
    "    pass\n"
   ]
  }
 ],
 "metadata": {
  "kernelspec": {
   "display_name": "Python 3 (ipykernel)",
   "language": "python",
   "name": "python3"
  },
  "language_info": {
   "codemirror_mode": {
    "name": "ipython",
    "version": 3
   },
   "file_extension": ".py",
   "mimetype": "text/x-python",
   "name": "python",
   "nbconvert_exporter": "python",
   "pygments_lexer": "ipython3",
   "version": "3.10.8"
  }
 },
 "nbformat": 4,
 "nbformat_minor": 5
}
