{
 "cells": [
  {
   "cell_type": "markdown",
   "id": "73e03f4b-079f-4c1d-8aa4-ad78659c9a0b",
   "metadata": {},
   "source": [
    "#### Q1: Explain the following with an example:\n",
    "#### 1. Artificial Intelligence\n",
    "#### 2. Machine Learning\n",
    "#### 3. Deep Learning"
   ]
  },
  {
   "cell_type": "markdown",
   "id": "9d529c19-b72f-470f-bb6f-6b1ddc4f993e",
   "metadata": {},
   "source": [
    "Ans: \n",
    "1. Artificial Intelligence: AI is self-reliant machines that can think and act like humans. Eg: Amazon Echo, Hey Google\n",
    "\n",
    "2. Machine Learning: ML is based on algorithms that can learn from data without relying on hard-code programming. Eg: Credit Card Fraud Detector\n",
    "\n",
    "3. Deep Learning: DL is a subset of machine learning that deals with algorithms inspired by the structure and function of the human brain. Eg: Object Detections, Image coloring, etc."
   ]
  },
  {
   "cell_type": "markdown",
   "id": "1e0d4802-3f02-4af6-9afd-f12b62de2bc4",
   "metadata": {},
   "source": [
    "#### Q2: What is supervised learning? List some examples of supervised learning."
   ]
  },
  {
   "cell_type": "markdown",
   "id": "ea8253f5-8e81-491d-9a75-ec95c94bcc26",
   "metadata": {},
   "source": [
    "Ans: Supervised Learning is defined by its use of labeled datasets to train algorithms that to classify data or predict outcomes accurately. \n",
    "\n",
    "Eg: Fraud Detection, Image Classification, Risk Assesment, Predictions, etc."
   ]
  },
  {
   "cell_type": "markdown",
   "id": "3b733204-1ca0-4c07-b34c-e473f5d9099e",
   "metadata": {},
   "source": [
    "#### Q3: What is unsupervised learning? List some examples of unsupervised learning."
   ]
  },
  {
   "cell_type": "markdown",
   "id": "17146a72-5378-4f19-8661-fe3f40e05e7a",
   "metadata": {},
   "source": [
    "Ans: Unsupervised Learninig is defined as, the machine uses unlabeled data and learns on itself without any supervision.\n",
    "\n",
    "Eg: Market-Based analysis, Semantic Clustering, Delivery Store Optimization, etc."
   ]
  },
  {
   "cell_type": "markdown",
   "id": "e2fa85c6-51d5-4ec5-9db7-edd56bb108af",
   "metadata": {},
   "source": [
    "#### Q4: What is the difference between AI, ML, DL, and DS?"
   ]
  },
  {
   "cell_type": "markdown",
   "id": "993c3004-3127-46ca-aaca-088c31b4cb05",
   "metadata": {},
   "source": [
    "Ans: \n",
    "1. AI (Artificial Intelligence): AI is self-reliant machines that can think and act like humans.\n",
    "\n",
    "2. ML (Machine Learning): ML is based on algorithms that can learn from data without relying on hard-code programming.\n",
    "\n",
    "3. DL (Deep Learning): DL is a subset of machine learning that deals with algorithms inspired by the structure and function of the human brain.\n",
    "\n",
    "4. DS (Data Science): DS is basically drawing insights from structured and unstructured data either by using ML or DL or without these techniques. We can even use different visualization tools, statistics, and probability to gain these insights."
   ]
  },
  {
   "cell_type": "markdown",
   "id": "5493829f-7c2b-41ce-88ef-3c357d582bed",
   "metadata": {},
   "source": [
    "#### Q5: What are the main difference between supervised, unsupervised and semi-supervised learning?"
   ]
  },
  {
   "cell_type": "markdown",
   "id": "4d233d41-1262-4f30-ae1b-793bb23b1e57",
   "metadata": {},
   "source": [
    "Ans: \n",
    "1. Supervised Learning: Supervised Learning is defined by its use of labeled datasets to train algorithms that to classify data or predict outcomes accurately. Eg: Fraud Detection, Image Classification, Risk Assesment, Predictions, etc.\n",
    "\n",
    "2. Unsupervised Learning: Unsupervised Learninig is defined as, the machine uses unlabeled data and learns on itself without any supervision. Eg: Market-Based analysis, Semantic Clustering, Delivery Store Optimization, etc.\n",
    "\n",
    "3. Semi-supervised Learning: Semi-supervised Learning is sort of combination of both supervised and unsupervised learning. Eg: Text document classifier, Labeling and indexing each webpage, etc."
   ]
  },
  {
   "cell_type": "markdown",
   "id": "0c169e3a-b184-48a5-97d2-0a49be0270de",
   "metadata": {},
   "source": [
    "#### Q7: How can unsupervised learning be used in anomaly detection?"
   ]
  },
  {
   "cell_type": "markdown",
   "id": "08b3335f-024e-4be8-80ff-cf4050c9db36",
   "metadata": {},
   "source": [
    "Ans: This is an unsupervised ML algorithm based on the principle of density. DBSCAN is able to uncover clusters in large spatial datasets by looking at the local density of the data points and generally shows good results when used for anomaly detection. The points that do not belong to any cluster get their own class: -1 so they are easy to identify. This algorithm handles outliers well when the data is represented by non-discrete data points."
   ]
  },
  {
   "cell_type": "markdown",
   "id": "8c40e3cd-e3c7-4715-9744-77f379265305",
   "metadata": {},
   "source": [
    "#### Q8: List down some commonly used supervised learning algorithms and unsupervised learning algorithms."
   ]
  },
  {
   "cell_type": "markdown",
   "id": "bbf81390-fb8e-42c1-b8df-0dc7142956ec",
   "metadata": {},
   "source": [
    "Ans: \n",
    "1. SUPERVISED LEARNING ALGORITHMS:\n",
    "    1. Naiive Bayes\n",
    "    2. Support Vector Machines\n",
    "    3. Random Decision Forest\n",
    "    4. Decision Tree\n",
    "    5. Logistic Regression\n",
    "\n",
    "2. UNSUPERVISED LEARNING ALGORITHMS:\n",
    "    1. K-means clustering\n",
    "    2. KNN (k-nearest neighbors)\n",
    "    3. Hierarchal clustering\n",
    "    4. Anomaly detection\n",
    "    5. Apriori algorithm"
   ]
  }
 ],
 "metadata": {
  "kernelspec": {
   "display_name": "Python 3 (ipykernel)",
   "language": "python",
   "name": "python3"
  },
  "language_info": {
   "codemirror_mode": {
    "name": "ipython",
    "version": 3
   },
   "file_extension": ".py",
   "mimetype": "text/x-python",
   "name": "python",
   "nbconvert_exporter": "python",
   "pygments_lexer": "ipython3",
   "version": "3.10.8"
  }
 },
 "nbformat": 4,
 "nbformat_minor": 5
}
