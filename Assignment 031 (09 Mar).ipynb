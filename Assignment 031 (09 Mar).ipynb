{
 "cells": [
  {
   "cell_type": "markdown",
   "id": "31ff94f4-2894-42e8-ac6c-658b4dba20f2",
   "metadata": {
    "tags": []
   },
   "source": [
    "#### Q1: What are the Probability Mass Function (PMF) and Probability Density Function (PDF)? Explain with an example."
   ]
  },
  {
   "cell_type": "markdown",
   "id": "6f5ebc23-fe21-4f89-830f-fb63d2ce6c00",
   "metadata": {},
   "source": [
    "Ans: PMF is used for discrete random variables, where the function gives the probability of each possible value that the variable can take.\n",
    "\n",
    "Eg: If we roll a fair six-sided die, the PMF would give the probability of getting each value of 1, 2, 3, 4, 5, or 6. The PMF is often represented as a histogram or bar plot.\n",
    "\n",
    "\n",
    "\n",
    "On the other hand, PDF is used for continuous random variables, where the function gives the probability density of each possible value that the variable can take.\n",
    "\n",
    "Eg: PDF of a normal distribution with mean μ and standard deviation σ gives the probability density of getting each possible value of x. The PDF is often represented as a curve."
   ]
  },
  {
   "cell_type": "markdown",
   "id": "ed805a04-42e2-4c3f-a1cd-c166b6d3fe91",
   "metadata": {},
   "source": [
    "#### Q2: What is Cumulative Density Function (CDF)? Explain with an example. Why CDF is used?"
   ]
  },
  {
   "cell_type": "markdown",
   "id": "c9069b56-0974-4802-b275-0ed358874cc9",
   "metadata": {},
   "source": [
    "Ans: Cumulative Density Function (CDF) gives the probability that a random variable X is less than or equal to a certain value x, that is, P(X ≤ x).\n",
    "\n",
    "Eg: If we have a normal distribution with a mean of 50 and a standard deviation of 10, the CDF at x=60 would give us the probability that a randomly selected observation would be less than or equal to 60. \n",
    "\n",
    "It is used to determine probabilities associated with a specific value or a range of values for X. "
   ]
  },
  {
   "cell_type": "markdown",
   "id": "ea480e00-012c-4e18-b5d1-74b7da453670",
   "metadata": {},
   "source": [
    "#### Q3: What are some examples of situations where the normal distribution might be used as a model? Explain how the parameters of the normal distribution relate to the shape of the distribution."
   ]
  },
  {
   "cell_type": "markdown",
   "id": "1a570866-d4dc-4a87-8754-3ead1e2348ff",
   "metadata": {},
   "source": [
    "Ans:\n",
    "1. Height of a population:It can be used to model the distribution of heights in a population, with the mean and standard deviation representing the average height and the spread of heights, respectively.\n",
    "\n",
    "2. Exam scores:It can be used to model the distribution of exam scores, with the mean and standard deviation representing the average score and the variation in scores, respectively.\n",
    "\n",
    "\n",
    "The parameters of the normal distribution, the mean and standard deviation, determine the shape of the distribution. "
   ]
  },
  {
   "cell_type": "markdown",
   "id": "f0eff019-96f0-4f05-91c4-f6dc6714f50d",
   "metadata": {},
   "source": [
    "#### Q4: Explain the importance of Normal Distribution. Give a few real-life examples of Normal Distribution."
   ]
  },
  {
   "cell_type": "markdown",
   "id": "6575a95e-2bab-46f5-984a-2d360eece485",
   "metadata": {},
   "source": [
    "Ans: Importance of Normal Distribution:\n",
    "1. It provides a mathematical model for a wide variety of measurements of physical characteristics (height, weight, etc.), test scores, and economic data.\n",
    "2. The whole theory of sample tests t, f and chi-square test is based on the normal distribution.\n",
    "3.  It has one of the important properties called central limit theorem.\n",
    "\n",
    "\n",
    "Examples:\n",
    "1. The heights of individuals in a population tend to follow a normal distribution.\n",
    "2. Rolling a dice tend to follow a normal distribution.\n",
    "3. IQ tend to follow a normal distribution.\n",
    "4. Blood pressure tend to follow a normal distribution.\n",
    "5. Shoe sizes tend to follow a normal distribution."
   ]
  },
  {
   "cell_type": "markdown",
   "id": "acc9c1de-8ea5-4f9f-a240-2172734aff42",
   "metadata": {},
   "source": [
    "#### Q5: What is Bernaulli Distribution? Give an Example. What is the difference between Bernoulli Distribution and Binomial Distribution?"
   ]
  },
  {
   "cell_type": "markdown",
   "id": "1ee47f89-78d8-436d-87ef-c1b87013e0d2",
   "metadata": {},
   "source": [
    "Ans: Bernoulli distribution: It is a discrete probability distribution that describes the outcomes of a single experiment with two possible outcomes: success or failure.\n",
    "\n",
    "An example of binomial distribution is the number of heads obtained in 10 coin flips, where each flip is a Bernoulli trial with probability of success p.\n",
    "\n",
    "The difference between Bernoulli Distribution and Binomial Distribution can be said, binomial is combination of multiple bernoulli. The main difference between Bernoulli distribution and binomial distribution is that the former models a single experiment with two outcomes, while the latter models the number of successes in a fixed number of independent and identical Bernoulli trials."
   ]
  },
  {
   "cell_type": "markdown",
   "id": "6c72b475-b175-4edf-8c80-9c459999e39d",
   "metadata": {},
   "source": [
    "#### Q6. Consider a dataset with a mean of 50 and a standard deviation of 10. If we assume that the dataset is normally distributed, what is the probability that a randomly selected observation will be greater than 60? Use the appropriate formula and show your calculations."
   ]
  },
  {
   "cell_type": "markdown",
   "id": "8c9554b9-92d6-42f3-8464-f8026ce00b68",
   "metadata": {},
   "source": [
    "Ans: mean = x̄ = 50 \n",
    "\n",
    "std = 10\n",
    "\n",
    "Let's find the Z - score,\n",
    "\n",
    "z = (x - x̄) / std = (60-50)/10 = 1\n",
    "\n",
    "The area to the right of z=1 is 0.1587 using table.\n",
    "\n",
    "Thus, probability that a randomly selected observation will be greater than 60 is approx 15.87%"
   ]
  },
  {
   "cell_type": "markdown",
   "id": "ba39b375-1b59-4f09-83c9-c4be06e4cba0",
   "metadata": {},
   "source": [
    "#### Q7: Explain uniform Distribution with an example."
   ]
  },
  {
   "cell_type": "markdown",
   "id": "81f901c2-e711-4358-ac32-08f74038366c",
   "metadata": {},
   "source": [
    "Ans: Uniform distribution is a probability distribution where all possible outcomes or values are equally likely to occur within a given range. This means that the probability density function is constant over the range of possible values, and zero elsewhere.\n",
    "\n",
    "Eg: If we roll a fair six-sided die, each outcome of 1, 2, 3, 4, 5, or 6 has an equal chance of occurring, and the probability density function of each outcome is 1/6."
   ]
  },
  {
   "cell_type": "markdown",
   "id": "638cf7ae-39d3-4754-84ea-3502250beb64",
   "metadata": {
    "tags": []
   },
   "source": [
    "#### Q8: What is the z score? State the importance of the z score."
   ]
  },
  {
   "cell_type": "markdown",
   "id": "b5af697a-2d05-4477-a698-fd60bc985351",
   "metadata": {
    "tags": []
   },
   "source": [
    "Ans: Z Score: It is a measure of how many standard deviations an observation or data point is away from the mean of its distribution.\n",
    "\n",
    "The importance of the z-score is that it provides a standardized way to compare values from different distributions, and z-score is also used in hypothesis testing and statistical inference."
   ]
  },
  {
   "cell_type": "markdown",
   "id": "ffede3a7-5571-4afa-af6b-a950a78a48a6",
   "metadata": {
    "tags": []
   },
   "source": [
    "#### Q9: What is Central Limit Theorem? State the significance of the Central Limit Theorem."
   ]
  },
  {
   "cell_type": "markdown",
   "id": "87a4e9a9-3938-4594-bc37-e9602b7c1313",
   "metadata": {},
   "source": [
    "Ans: Central Limit Theorem: The sampling distribution of the mean will always be normally distributed, as long as the sample size is large enough i.e. in many cases say more than 30.\n",
    "\n",
    "The significance of the CLT is that it allows us to use normal distribution-based methods, even when the underlying distribution of the data is unknown or non-normal, as long as certain assumptions are met. This makes it a powerful tool for statistical inference and hypothesis testing."
   ]
  },
  {
   "cell_type": "markdown",
   "id": "8c487551-c77e-4b0b-aff1-af509c0e14c6",
   "metadata": {},
   "source": [
    "#### Q10: State the assumptions of the Central Limit Theorem."
   ]
  },
  {
   "cell_type": "markdown",
   "id": "9c3d37b9-1ede-4e73-8535-271ccdf0baeb",
   "metadata": {
    "tags": []
   },
   "source": [
    "Ans: \"It needs to be sampled at random. The samples should be unrelated to one another. One sample should not impact the others. When taking samples without replacement, the sample size should not exceed 10% of the population.\""
   ]
  }
 ],
 "metadata": {
  "kernelspec": {
   "display_name": "Python 3 (ipykernel)",
   "language": "python",
   "name": "python3"
  },
  "language_info": {
   "codemirror_mode": {
    "name": "ipython",
    "version": 3
   },
   "file_extension": ".py",
   "mimetype": "text/x-python",
   "name": "python",
   "nbconvert_exporter": "python",
   "pygments_lexer": "ipython3",
   "version": "3.10.8"
  }
 },
 "nbformat": 4,
 "nbformat_minor": 5
}
