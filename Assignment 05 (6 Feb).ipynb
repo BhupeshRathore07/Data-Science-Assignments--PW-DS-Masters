{
 "cells": [
  {
   "cell_type": "markdown",
   "id": "31ff94f4-2894-42e8-ac6c-658b4dba20f2",
   "metadata": {
    "tags": []
   },
   "source": [
    "#### Q1. Create a function which will take a list as an argument and return the product of all the numbers after creating a flat list.\n",
    "##### Use the below-given list as an argument for your function.\n",
    "##### list1 = [1,2,3,4, [44,55,66, True], False, (34,56,78,89,34), {1,2,3,3,2,1}, {1:34, \"key2\": [55, 67, 78, 89], 4: (45, 22, 61, 34)}, [56, 'data science'], 'Machine Learning']\n",
    "##### Note: you must extract numeric keys and values of the dictionary also."
   ]
  },
  {
   "cell_type": "code",
   "execution_count": 26,
   "id": "924a1288-90a1-482f-b845-4685c87ef307",
   "metadata": {},
   "outputs": [
    {
     "name": "stdout",
     "output_type": "stream",
     "text": [
      "78718933113238978560\n"
     ]
    }
   ],
   "source": [
    "def product_of_numbers(l):\n",
    "    flat_lst = []\n",
    "    for item in l:\n",
    "        if type(item) in (int, float):\n",
    "            flat_lst.append(item)\n",
    "        elif type(item) == list or type(item) == tuple or type(item) == set:\n",
    "            for element in item:\n",
    "                if type(element) in (int, float):\n",
    "                    flat_lst.append(element)\n",
    "        elif type(item) == dict:\n",
    "            for k, v in item.items():\n",
    "                if type(k) in (int, float):\n",
    "                    flat_lst.append(k)\n",
    "                if type(v) in (int, float):\n",
    "                    flat_lst.append(v)\n",
    "    product = 1\n",
    "    for num in flat_lst:\n",
    "        product *= num\n",
    "    return product\n",
    "\n",
    "l = [1,2,3,4, [44,55,66, True], False, (34,56,78,89,34), {1,2,3,3,2,1}, {1:34, \"key2\": [55, 67, 78, 89], 4: (45, 22, 61, 34)}, [56, 'data science'], 'Machine Learning']\n",
    "print(product_of_numbers(l))"
   ]
  },
  {
   "cell_type": "markdown",
   "id": "ed805a04-42e2-4c3f-a1cd-c166b6d3fe91",
   "metadata": {},
   "source": [
    "#### Q2. Write a python program for encrypting a message sent to you by your friend. The logic of encryption should be such that, for a the output should be z. For b, the output should be y. For c, the output should be x respectively. Also, the whitespace should be replaced with a dollar sign. Keep the punctuation marks unchanged.\n",
    "##### Input Sentence: I want to become a Data Scientist.\n",
    "##### Encrypt the above input sentence using the program you just created.\n",
    "##### Note: Convert the given input sentence into lowercase before encrypting. The final output should be lowercase."
   ]
  },
  {
   "cell_type": "code",
   "execution_count": 45,
   "id": "0ffcc9b0-f3da-4129-b263-ad40dbef4bf9",
   "metadata": {},
   "outputs": [
    {
     "name": "stdout",
     "output_type": "stream",
     "text": [
      "r$dzmg$gl$yvxlnv$z$wzgz$hxrvmgrhg.\n"
     ]
    }
   ],
   "source": [
    "def secret_code(msg):\n",
    "    enc_msg = \"\"\n",
    "    msg = msg.lower()\n",
    "    \n",
    "    for char in msg:\n",
    "        if char.isalpha():\n",
    "            enc_msg += chr(ord(\"a\") + ord(\"z\") - ord(char))\n",
    "            \n",
    "        elif char.isspace():\n",
    "            enc_msg += \"$\"\n",
    "            \n",
    "        else:\n",
    "            enc_msg += char\n",
    "            \n",
    "    return enc_msg\n",
    "\n",
    "msg = \"I want to become a Data Scientist.\"\n",
    "print(secret_code(msg))         "
   ]
  }
 ],
 "metadata": {
  "kernelspec": {
   "display_name": "Python 3 (ipykernel)",
   "language": "python",
   "name": "python3"
  },
  "language_info": {
   "codemirror_mode": {
    "name": "ipython",
    "version": 3
   },
   "file_extension": ".py",
   "mimetype": "text/x-python",
   "name": "python",
   "nbconvert_exporter": "python",
   "pygments_lexer": "ipython3",
   "version": "3.10.8"
  }
 },
 "nbformat": 4,
 "nbformat_minor": 5
}
