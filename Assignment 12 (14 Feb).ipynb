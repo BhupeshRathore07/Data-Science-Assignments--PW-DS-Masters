{
 "cells": [
  {
   "cell_type": "markdown",
   "id": "31ff94f4-2894-42e8-ac6c-658b4dba20f2",
   "metadata": {
    "tags": []
   },
   "source": [
    "#### Q1. What is multithreading in python? Why is it used? Name the module used to handle threads in python."
   ]
  },
  {
   "cell_type": "markdown",
   "id": "cc485b23-80a1-4ac7-b515-74ac8345cba0",
   "metadata": {},
   "source": [
    "Ans: Running multiple threads simultaneously in CPU often reffered as Context Switching. It is used as it utillizes resources effeciently. \"threading module\" is used to handle threads in python."
   ]
  },
  {
   "cell_type": "markdown",
   "id": "ed805a04-42e2-4c3f-a1cd-c166b6d3fe91",
   "metadata": {},
   "source": [
    "#### Q2. Why threading module used? Write the use of the following functions:\n",
    "1. active_Count()\n",
    "2. current_Thread()\n",
    "3. enumerate()"
   ]
  },
  {
   "cell_type": "markdown",
   "id": "0735d99b-daee-4951-afb4-74c615e3df15",
   "metadata": {},
   "source": [
    "1. active_Count() is used to count the currently active or running threads.\n",
    "2. current_Thread() returns the current thread object active at the moment.\n",
    "3. enumerate() is interating tool alike for loop, where iterable is given along with start(default = 0) as parameters."
   ]
  },
  {
   "cell_type": "markdown",
   "id": "ea480e00-012c-4e18-b5d1-74b7da453670",
   "metadata": {},
   "source": [
    "#### Q3. Explain the following functions:\n",
    "1. run()\n",
    "2. start()\n",
    "3. join()\n",
    "4. isAlive()"
   ]
  },
  {
   "cell_type": "markdown",
   "id": "84094f46-93a2-4e78-bca4-793712b47372",
   "metadata": {},
   "source": [
    "1. run(): Invokes the callable object, with passed args.\n",
    "2. start(): Start the thread’s activity.\n",
    "3. join(): It blocks the calling thread till the time the thread whose join() method is called terminates\n",
    "4. isAlive(): Return whether the thread is alive."
   ]
  },
  {
   "cell_type": "markdown",
   "id": "f0eff019-96f0-4f05-91c4-f6dc6714f50d",
   "metadata": {},
   "source": [
    "#### Q4. Write a python program to create two threads. Thread one must print the list of squares and thread two must print the list of cubes."
   ]
  },
  {
   "cell_type": "code",
   "execution_count": 17,
   "id": "53b29ae1-c485-41bb-9f86-9fedbf00e081",
   "metadata": {
    "tags": []
   },
   "outputs": [
    {
     "name": "stdout",
     "output_type": "stream",
     "text": [
      "[1, 4, 9, 16, 25, 36, 49, 64, 81, 100]\n",
      "[1, 8, 27, 64, 125, 216, 343, 512, 729, 1000]\n"
     ]
    }
   ],
   "source": [
    "import threading\n",
    "\n",
    "def thread_1():\n",
    "    res1 = [i**2 for i in range(1,11)]\n",
    "    print(res1)\n",
    "\n",
    "def thread_2():\n",
    "    res2 = [i**3 for i in range(1,11)]\n",
    "    print(res2)\n",
    "\n",
    "\n",
    "thread1 = threading.Thread(target=thread_1)\n",
    "thread2 = threading.Thread(target=thread_2)\n",
    "\n",
    "thread1.start()\n",
    "thread2.start()\n",
    "thread1.join()\n",
    "thread2.join()"
   ]
  },
  {
   "cell_type": "markdown",
   "id": "d27dca1a-69d7-4653-9c35-e1e91bf7a8b6",
   "metadata": {},
   "source": [
    "#### Q5. State advantages and disadvantages of multithreading."
   ]
  },
  {
   "cell_type": "markdown",
   "id": "ea7d4e61-c1fb-4b52-ad7a-99576cf7faed",
   "metadata": {},
   "source": [
    "Ans: Pros:\n",
    "1. Enables efficient utilization of the resources.\n",
    "2. Allows the concurrent and parallel occurrence of various tasks.\n",
    "3. Reducen time consumption or response time, thus increasing the performance.\n",
    "\n",
    "Cons:\n",
    "1. Difficulty to write code.\n",
    "2. Difficulty in debugging, testing, managing concurrency."
   ]
  },
  {
   "cell_type": "markdown",
   "id": "5583fcf5-ee70-4e5c-b1fe-4f171e5badc5",
   "metadata": {},
   "source": [
    "#### Q6. Explain deadlocks and race conditions."
   ]
  },
  {
   "cell_type": "markdown",
   "id": "40e1bec5-680f-4fdf-9248-7e4650ca26ce",
   "metadata": {},
   "source": [
    "Ans: Deadlock exists when two threads seek one lock simultaneously.\n",
    "\n",
    "A race condition occurs when two threads use the same variable at a given time."
   ]
  }
 ],
 "metadata": {
  "kernelspec": {
   "display_name": "Python 3 (ipykernel)",
   "language": "python",
   "name": "python3"
  },
  "language_info": {
   "codemirror_mode": {
    "name": "ipython",
    "version": 3
   },
   "file_extension": ".py",
   "mimetype": "text/x-python",
   "name": "python",
   "nbconvert_exporter": "python",
   "pygments_lexer": "ipython3",
   "version": "3.10.8"
  }
 },
 "nbformat": 4,
 "nbformat_minor": 5
}
