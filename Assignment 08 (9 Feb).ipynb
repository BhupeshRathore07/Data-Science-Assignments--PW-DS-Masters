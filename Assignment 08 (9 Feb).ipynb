{
 "cells": [
  {
   "cell_type": "markdown",
   "id": "31ff94f4-2894-42e8-ac6c-658b4dba20f2",
   "metadata": {
    "tags": []
   },
   "source": [
    "#### Q1, Create a vehicle class with an init method having instance variables as name_of_vehicle, max_speed and average_of_vehicle."
   ]
  },
  {
   "cell_type": "code",
   "execution_count": 2,
   "id": "924a1288-90a1-482f-b845-4685c87ef307",
   "metadata": {},
   "outputs": [
    {
     "name": "stdout",
     "output_type": "stream",
     "text": [
      "Tesla 220 KMPH 25\n",
      "Suzuki 240 KMPH 22\n"
     ]
    }
   ],
   "source": [
    "class vehicle:\n",
    "    \n",
    "    def __init__(self, name_of_vehicle, max_speed, average_of_vehicle):\n",
    "        self.name_of_vehicle = name_of_vehicle\n",
    "        self.max_speed = max_speed\n",
    "        self.average_of_vehicle = average_of_vehicle\n",
    "        \n",
    "    def vehicle_details(self):\n",
    "        print (self.name_of_vehicle, self.max_speed, self.average_of_vehicle)\n",
    "        \n",
    "veh1 = vehicle(\"Tesla\", \"220 KMPH\", 25)\n",
    "veh2 = vehicle(\"Suzuki\", \"240 KMPH\", 22)\n",
    "\n",
    "veh1.vehicle_details()\n",
    "veh2.vehicle_details()"
   ]
  },
  {
   "cell_type": "markdown",
   "id": "ed805a04-42e2-4c3f-a1cd-c166b6d3fe91",
   "metadata": {},
   "source": [
    "#### Q2. Create a child class car from the vehicle class created in Que 1, which will inherit the vehicle class. Create a method named seating_capacity which takes capacity as an argument and returns the name of the vehicle and its seating capacity."
   ]
  },
  {
   "cell_type": "code",
   "execution_count": 8,
   "id": "0ffcc9b0-f3da-4129-b263-ad40dbef4bf9",
   "metadata": {},
   "outputs": [
    {
     "name": "stdout",
     "output_type": "stream",
     "text": [
      "Suzuki\n",
      "5 Seater\n"
     ]
    }
   ],
   "source": [
    "class car(vehicle):\n",
    "    \n",
    "    def seating_capacity(self, capacity):\n",
    "        print(self.name_of_vehicle)\n",
    "        print(capacity, \"Seater\")\n",
    "        \n",
    "car1 = car(\"Suzuki\", \"240 KMPH\", 22)\n",
    "car1.seating_capacity(5)"
   ]
  },
  {
   "cell_type": "markdown",
   "id": "ea480e00-012c-4e18-b5d1-74b7da453670",
   "metadata": {},
   "source": [
    "#### Q3. What is multiple inheritance? Write a python code to demonstrate multiple inheritance."
   ]
  },
  {
   "cell_type": "code",
   "execution_count": 13,
   "id": "50995768-78b4-4013-ac14-73135e8e83c3",
   "metadata": {},
   "outputs": [
    {
     "name": "stdout",
     "output_type": "stream",
     "text": [
      "Ans: When any child class inherit properties from multiple classes in single child class is multilple inheritance.\n",
      "\n",
      "This is class A\n",
      "This is class B\n",
      "This is class C\n"
     ]
    }
   ],
   "source": [
    "print(\"Ans: When any child class inherit properties from multiple classes in single child class is multilple inheritance.\\n\")\n",
    "\n",
    "class A:    \n",
    "    def A1(self):\n",
    "        print (\"This is class A\")\n",
    "\n",
    "class B:\n",
    "    def B1(self):\n",
    "        print (\"This is class B\")\n",
    "        \n",
    "class C(A,B):\n",
    "    \n",
    "    def C1(self):\n",
    "        print(\"This is class C\")\n",
    "        \n",
    "\n",
    "obj = C() # object for class C\n",
    "obj.A1() # class C object can access class A method\n",
    "obj.B1() # class C object can access class B method\n",
    "obj.C1() # class C object accessing its own method\n",
    "\n",
    "        "
   ]
  },
  {
   "cell_type": "markdown",
   "id": "f0eff019-96f0-4f05-91c4-f6dc6714f50d",
   "metadata": {},
   "source": [
    "#### Q4. What are getter and setter in python? Create a class and create a getter and a setter method in this class."
   ]
  },
  {
   "cell_type": "code",
   "execution_count": 17,
   "id": "53b29ae1-c485-41bb-9f86-9fedbf00e081",
   "metadata": {
    "tags": []
   },
   "outputs": [
    {
     "name": "stdout",
     "output_type": "stream",
     "text": [
      "Ans: Getter and setter are methods used in OOP to retrieve and set the values of private class attributes. We can define these methods using the property decorator.\n",
      "\n",
      "bhupesh\n",
      "Rathore\n",
      "21\n",
      "23\n"
     ]
    }
   ],
   "source": [
    "print(\"Ans: Getter and setter are methods used in OOP to retrieve and set the values of private class attributes. We can define these methods using the property decorator.\\n\")\n",
    "\n",
    "class Person:\n",
    "    def __init__(self, name, age):\n",
    "        self._name = name\n",
    "        self._age = age\n",
    "\n",
    "    @property\n",
    "    def name(self):\n",
    "        return self._name\n",
    "\n",
    "    @name.setter\n",
    "    def name(self, value):\n",
    "        self._name = value\n",
    "\n",
    "    @property\n",
    "    def age(self):\n",
    "        return self._age\n",
    "\n",
    "    @age.setter\n",
    "    def age(self, value):\n",
    "        self._age = value\n",
    "        \n",
    "        \n",
    "person = Person(\"bhupesh\", 21)\n",
    "print(person.name)\n",
    "person.name = \"Rathore\"\n",
    "print(person.name)\n",
    "\n",
    "print(person.age)\n",
    "person.age = 23\n",
    "print(person.age)"
   ]
  },
  {
   "cell_type": "markdown",
   "id": "d27dca1a-69d7-4653-9c35-e1e91bf7a8b6",
   "metadata": {},
   "source": [
    "#### Q5.What is method overriding in python? Write a python code to demonstrate method overriding."
   ]
  },
  {
   "cell_type": "code",
   "execution_count": 19,
   "id": "57669fcf-e166-44cb-b08c-8372af587ba5",
   "metadata": {},
   "outputs": [
    {
     "name": "stdout",
     "output_type": "stream",
     "text": [
      "Ans: Method Overriding is feature of OOP, where child class can define its own characteristics which can different from superclass.\n",
      "\n",
      "Generic animal sound\n",
      "Bark bark!\n",
      "Meow meow!\n"
     ]
    }
   ],
   "source": [
    "print(\"Ans: Method Overriding is feature of OOP, where child class can define its own characteristics which can different from superclass.\\n\")\n",
    "\n",
    "class Animal:\n",
    "    def make_sound(self):\n",
    "        print(\"Generic animal sound\")\n",
    "\n",
    "class Dog(Animal):\n",
    "    def make_sound(self):\n",
    "        print(\"Bark bark!\")\n",
    "\n",
    "class Cat(Animal):\n",
    "    def make_sound(self):\n",
    "        print(\"Meow meow!\")\n",
    "        \n",
    "animal = Animal()\n",
    "dog = Dog()\n",
    "cat = Cat()   \n",
    "\n",
    "\n",
    "animal.make_sound()  # this methdod shows Generic...\n",
    "dog.make_sound()  # this same method, but bark....\n",
    "cat.make_sound() # same method, but meow...."
   ]
  }
 ],
 "metadata": {
  "kernelspec": {
   "display_name": "Python 3 (ipykernel)",
   "language": "python",
   "name": "python3"
  },
  "language_info": {
   "codemirror_mode": {
    "name": "ipython",
    "version": 3
   },
   "file_extension": ".py",
   "mimetype": "text/x-python",
   "name": "python",
   "nbconvert_exporter": "python",
   "pygments_lexer": "ipython3",
   "version": "3.10.8"
  }
 },
 "nbformat": 4,
 "nbformat_minor": 5
}
