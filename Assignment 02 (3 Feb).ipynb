{
 "cells": [
  {
   "cell_type": "markdown",
   "id": "31ff94f4-2894-42e8-ac6c-658b4dba20f2",
   "metadata": {
    "tags": []
   },
   "source": [
    "#### Q1. Which keyword is used to create a function? Create a function to return a list of odd numbers in the range of 1 to 25."
   ]
  },
  {
   "cell_type": "code",
   "execution_count": 3,
   "id": "924a1288-90a1-482f-b845-4685c87ef307",
   "metadata": {},
   "outputs": [
    {
     "name": "stdout",
     "output_type": "stream",
     "text": [
      "Ans: 'def' is used to create a function in python.\n"
     ]
    },
    {
     "data": {
      "text/plain": [
       "[1, 3, 5, 7, 9, 11, 13, 15, 17, 19, 21, 23, 25]"
      ]
     },
     "execution_count": 3,
     "metadata": {},
     "output_type": "execute_result"
    }
   ],
   "source": [
    "print(\"Ans: 'def' is used to create a function in python.\")\n",
    "\n",
    "def odd_nums():\n",
    "    l = [i for i in range(1,26) if i%2 != 0]\n",
    "    return l\n",
    "\n",
    "odd_nums()"
   ]
  },
  {
   "cell_type": "markdown",
   "id": "ed805a04-42e2-4c3f-a1cd-c166b6d3fe91",
   "metadata": {},
   "source": [
    "#### Q2. Why *args and **kwargs is used in some functions? Create a function each for *args and **kwargs to demonstrate their use."
   ]
  },
  {
   "cell_type": "code",
   "execution_count": 20,
   "id": "0ffcc9b0-f3da-4129-b263-ad40dbef4bf9",
   "metadata": {},
   "outputs": [
    {
     "name": "stdout",
     "output_type": "stream",
     "text": [
      "*ARGS: '*args' is used to create multiple arguments that can be used in function with undefined numbers of parameters. \n",
      "\n",
      "*KWARGS: '**kwargs' is used to create multiple key value pair arguments (dictionary) arguments that can be used in function with undefined numbers of parameters. \n",
      "\n",
      "(32, 45.6, 'Bhupesh') \n",
      "\n",
      "({'Key1': 32, 'Key2': 45.6, 'Key3': 'Bhupesh'},)\n"
     ]
    }
   ],
   "source": [
    "print(\"*ARGS: '*args' is used to create multiple arguments that can be used in function with undefined numbers of parameters. \\n\")\n",
    "print(\"*KWARGS: '**kwargs' is used to create multiple key value pair arguments (dictionary) arguments that can be used in function with undefined numbers of parameters. \\n\")\n",
    "def func_args(*args):\n",
    "    return args\n",
    "\n",
    "def func_kwargs(*kwargs):\n",
    "    return kwargs\n",
    "\n",
    "print(func_args(32, 45.6, \"Bhupesh\"), \"\\n\")\n",
    "print(func_kwargs({'Key1': 32, 'Key2': 45.6, 'Key3': \"Bhupesh\"}))"
   ]
  },
  {
   "cell_type": "markdown",
   "id": "ea480e00-012c-4e18-b5d1-74b7da453670",
   "metadata": {},
   "source": [
    "#### Q3. What is an iterator in python? Name the method used to initialise the iterator object and the method used for iteration. Use these methods to print the first five elements of the given list [2, 4, 6, 8, 10, 12, 14, 16, 18, 20]."
   ]
  },
  {
   "cell_type": "code",
   "execution_count": 26,
   "id": "50995768-78b4-4013-ac14-73135e8e83c3",
   "metadata": {},
   "outputs": [
    {
     "name": "stdout",
     "output_type": "stream",
     "text": [
      "Iterator: Those types that can be iterates (means that can be counted) are reffered as Iterator.\n",
      "\n",
      "'iter' is used to initialise the iterator and 'next' is used for iteration.\n",
      "\n",
      "2\n",
      "4\n",
      "6\n",
      "8\n",
      "10\n"
     ]
    }
   ],
   "source": [
    "print(\"Iterator: Those types that can be iterates (means that can be counted) are reffered as Iterator.\\n\")\n",
    "print(\"'iter' is used to initialise the iterator and 'next' is used for iteration.\\n\")\n",
    "\n",
    "l1 = [2, 4, 6, 8, 10, 12, 14, 16, 18, 20]\n",
    "\n",
    "l2 = iter(l1)\n",
    "\n",
    "print(next(l2))\n",
    "print(next(l2))\n",
    "print(next(l2))\n",
    "print(next(l2))\n",
    "print(next(l2))"
   ]
  },
  {
   "cell_type": "markdown",
   "id": "f0eff019-96f0-4f05-91c4-f6dc6714f50d",
   "metadata": {},
   "source": [
    "#### Q4. What is a generator function in python? Why yield keyword is used? Give an example of a generator function."
   ]
  },
  {
   "cell_type": "code",
   "execution_count": 28,
   "id": "53b29ae1-c485-41bb-9f86-9fedbf00e081",
   "metadata": {
    "tags": []
   },
   "outputs": [
    {
     "name": "stdout",
     "output_type": "stream",
     "text": [
      "Generator Function: This is simlar to function, but only use is to save the memory as they use 'Yield' instead of return thus saving space in memory.\n",
      "\n",
      "'Yield' is used as it produces the output when they are called not as whole so saving memory.\n",
      "\n",
      "0\n",
      "1\n",
      "2\n",
      "3\n",
      "4\n"
     ]
    }
   ],
   "source": [
    "print(\"Generator Function: This is simlar to function, but only use is to save the memory as they use 'Yield' instead of return thus saving space in memory.\\n\")\n",
    "print(\"'Yield' is used as it produces the output when they are called not as whole so saving memory.\\n\")\n",
    "\n",
    "def func_generator(n):\n",
    "    i = 0\n",
    "    while i < n:\n",
    "        yield i\n",
    "        i += 1\n",
    "\n",
    "\n",
    "for value in func_generator(5):\n",
    "    print(value)"
   ]
  },
  {
   "cell_type": "markdown",
   "id": "d27dca1a-69d7-4653-9c35-e1e91bf7a8b6",
   "metadata": {},
   "source": [
    "#### Q5. Create a generator function for prime numbers less than 1000. Use the next() method to print the first 20 prime numbers."
   ]
  },
  {
   "cell_type": "code",
   "execution_count": 42,
   "id": "57669fcf-e166-44cb-b08c-8372af587ba5",
   "metadata": {},
   "outputs": [
    {
     "name": "stdout",
     "output_type": "stream",
     "text": [
      "2\n",
      "3\n",
      "5\n",
      "7\n",
      "11\n",
      "13\n",
      "17\n",
      "19\n",
      "23\n",
      "29\n",
      "31\n",
      "37\n",
      "41\n",
      "43\n",
      "47\n",
      "53\n",
      "59\n",
      "61\n",
      "67\n",
      "71\n"
     ]
    }
   ],
   "source": [
    "def prime_num():\n",
    "    num = 2\n",
    "    while num < 1000:\n",
    "        if all(num % i != 0 for i in range(2, int(num ** 0.5) + 1)):\n",
    "            yield num\n",
    "        num += 1\n",
    "obj_prime_num = prime_num()\n",
    "for i in range(20):\n",
    "    print(next(obj_prime_num))"
   ]
  },
  {
   "cell_type": "markdown",
   "id": "9d11baf7-dd4a-42d8-b5e5-2ac754943bb8",
   "metadata": {},
   "source": [
    "#### Q6. Write a python program to print the first 10 Fibonacci numbers using a while loop."
   ]
  },
  {
   "cell_type": "code",
   "execution_count": 4,
   "id": "11b1d9bc-f60c-4a56-b08b-fd5bb0c4a4dc",
   "metadata": {},
   "outputs": [
    {
     "name": "stdout",
     "output_type": "stream",
     "text": [
      "0\n",
      "1\n",
      "1\n",
      "2\n",
      "3\n",
      "5\n",
      "8\n",
      "13\n",
      "21\n",
      "34\n",
      "55\n"
     ]
    }
   ],
   "source": [
    "a = 0\n",
    "b = 1\n",
    "\n",
    "i = 0\n",
    "\n",
    "while i <= 10:\n",
    "    print (a)\n",
    "    a, b = b, a+b\n",
    "    i += 1"
   ]
  },
  {
   "cell_type": "markdown",
   "id": "e95a6b7a-e187-46fa-b8ea-4b3923f45326",
   "metadata": {},
   "source": [
    "#### Q7. Write a List Comprehension to iterate through the given string: ‘pwskills’.\n",
    "##### Expected output: ['p', 'w', 's', 'k', 'i', 'l', 'l', 's']"
   ]
  },
  {
   "cell_type": "code",
   "execution_count": 3,
   "id": "b3a6b4d2-1b52-4aba-8483-44b3bd4e1f89",
   "metadata": {},
   "outputs": [
    {
     "data": {
      "text/plain": [
       "['p', 'w', 's', 'k', 'i', 'l', 'l', 's']"
      ]
     },
     "execution_count": 3,
     "metadata": {},
     "output_type": "execute_result"
    }
   ],
   "source": [
    "s = \"pwskills\"\n",
    "l = []\n",
    "for words in s:\n",
    "    l.append(words)\n",
    "\n",
    "l"
   ]
  },
  {
   "cell_type": "markdown",
   "id": "4e20faf5-7093-4665-b702-54de10b98463",
   "metadata": {},
   "source": [
    "#### Q8. Write a python program to check whether a given number is Palindrome or not using a while loop."
   ]
  },
  {
   "cell_type": "code",
   "execution_count": 9,
   "id": "eed125d5-fad2-4d67-96a6-5ac360d271d6",
   "metadata": {},
   "outputs": [
    {
     "name": "stdin",
     "output_type": "stream",
     "text": [
      "Enter number for palindrom check:  323\n"
     ]
    },
    {
     "name": "stdout",
     "output_type": "stream",
     "text": [
      "The number is palindrome!\n"
     ]
    }
   ],
   "source": [
    "num = int(input(\"Enter number for palindrom check: \"))\n",
    "temp = num\n",
    "rev = 0\n",
    "while num > 0:\n",
    "    a = num % 10\n",
    "    rev = rev * 10 + a\n",
    "    num = num // 10\n",
    "\n",
    "if(temp==rev):\n",
    "    print(\"The number is palindrome!\")\n",
    "else:\n",
    "    print(\"Not a palindrome!\")\n",
    "    "
   ]
  },
  {
   "cell_type": "markdown",
   "id": "020e1647-3fcc-4b26-b270-8269ce48eff5",
   "metadata": {
    "tags": []
   },
   "source": [
    "#### Q9. Write a code to print odd numbers from 1 to 100 using list comprehension.\n",
    "##### Note: Use a list comprehension to create a list from 1 to 100 and use another List comprehension to filter out odd numbers."
   ]
  },
  {
   "cell_type": "code",
   "execution_count": 20,
   "id": "3c6b4404-9a3f-4357-9c36-78ec557d75cd",
   "metadata": {},
   "outputs": [
    {
     "name": "stdout",
     "output_type": "stream",
     "text": [
      "[1, 3, 5, 7, 9, 11, 13, 15, 17, 19, 21, 23, 25, 27, 29, 31, 33, 35, 37, 39, 41, 43, 45, 47, 49, 51, 53, 55, 57, 59, 61, 63, 65, 67, 69, 71, 73, 75, 77, 79, 81, 83, 85, 87, 89, 91, 93, 95, 97, 99]\n"
     ]
    }
   ],
   "source": [
    "odd_nums = [i for i in range(1,101) if i % 2 == 1]\n",
    "print(odd_nums)"
   ]
  }
 ],
 "metadata": {
  "kernelspec": {
   "display_name": "Python 3 (ipykernel)",
   "language": "python",
   "name": "python3"
  },
  "language_info": {
   "codemirror_mode": {
    "name": "ipython",
    "version": 3
   },
   "file_extension": ".py",
   "mimetype": "text/x-python",
   "name": "python",
   "nbconvert_exporter": "python",
   "pygments_lexer": "ipython3",
   "version": "3.10.8"
  }
 },
 "nbformat": 4,
 "nbformat_minor": 5
}
