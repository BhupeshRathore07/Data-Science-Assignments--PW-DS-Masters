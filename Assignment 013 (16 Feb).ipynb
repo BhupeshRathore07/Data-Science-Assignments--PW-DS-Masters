{
 "cells": [
  {
   "cell_type": "markdown",
   "id": "31ff94f4-2894-42e8-ac6c-658b4dba20f2",
   "metadata": {
    "tags": []
   },
   "source": [
    "#### Q1. What is a database? Differentiate between SQL and NoSQL databases."
   ]
  },
  {
   "cell_type": "markdown",
   "id": "92af4a17-52d8-4d14-95ee-cbcd29765f97",
   "metadata": {},
   "source": [
    "Ans: Database: Colllection of data in organised manner.\n",
    "\n",
    "SQL: (Structured Query Language)\n",
    "1. Based on RDBMS.\n",
    "2. Tabular form of data\n",
    "3. predefined schema\n",
    "4. vertically scalable\n",
    "\n",
    "\n",
    "NoSQL: (Not only SQL)\n",
    "1. Non-relational DB\n",
    "2. key value pair (json) form of data\n",
    "3. no predefined schema\n",
    "4. horizontally scalable"
   ]
  },
  {
   "cell_type": "markdown",
   "id": "ed805a04-42e2-4c3f-a1cd-c166b6d3fe91",
   "metadata": {},
   "source": [
    "#### Q2. What is DDL? Explain why CREATE, DROP, ALTER, and TRUNCATE are used with an example."
   ]
  },
  {
   "cell_type": "markdown",
   "id": "3fbc9e85-9c1a-4efb-bc81-5d30f74e3ccc",
   "metadata": {},
   "source": [
    "Ans: DDL – Data Definition Language -> SQL commands that can be used to define the database schema.\n",
    "\n",
    "1. CREATE: This command is used to create the database or its objects (like table, index,etc.)\n",
    "2. DROP: This command is used to delete objects from the database.\n",
    "3. ALTER: This is used to alter the structure of the database.\n",
    "4. TRUNCATE: This is used to remove all records from a table, including all spaces allocated for the records are removed."
   ]
  },
  {
   "cell_type": "raw",
   "id": "d3ea9327-ca02-4667-9e40-b237ba2ce144",
   "metadata": {},
   "source": [
    "1. CREATE TABLE Persons (\n",
    "    PersonID int,\n",
    "    LastName varchar(255),\n",
    "    FirstName varchar(255),\n",
    "    Address varchar(255),\n",
    "    City varchar(255));\n",
    "    \n",
    "2. DROP TABLE Persons;\n",
    "\n",
    "3. ALTER TABLE Persons\n",
    "ADD Email varchar(255);\n",
    "\n",
    "4. TRUNCATE TABLE Persons;"
   ]
  },
  {
   "cell_type": "markdown",
   "id": "ea480e00-012c-4e18-b5d1-74b7da453670",
   "metadata": {},
   "source": [
    "#### Q3. What is DML? Explain INSERT, UPDATE, and DELETE with an example."
   ]
  },
  {
   "cell_type": "markdown",
   "id": "36e31030-c82a-419d-92e8-42fba00a624d",
   "metadata": {},
   "source": [
    "Ans: DML – Data Manipulation Language -> SQL commands that deals with the manipulation of data present in the database.\n",
    "\n",
    "1. INSERT : It is used to insert data into a table.\n",
    "2. UPDATE: It is used to update existing data within a table.\n",
    "3. DELETE : It is used to delete records from a database table."
   ]
  },
  {
   "cell_type": "raw",
   "id": "adb42b3d-cadf-4c3f-8ef0-d18bbf3e47d3",
   "metadata": {},
   "source": [
    "1. INSERT INTO Customers (CustomerName, ContactName, Address, City, PostalCode, Country)\n",
    "VALUES ('Bhupesh', 'Ritik', '221B Bakers Street', 'London', '465315', 'UK');\n",
    "\n",
    "2. UPDATE Customers\n",
    "SET ContactName = 'Suman', City= 'Jodhpur'\n",
    "WHERE CustomerID = 1;\n",
    "\n",
    "3. DELETE FROM Customers WHERE CustomerName='Bhupesh';"
   ]
  },
  {
   "cell_type": "markdown",
   "id": "f0eff019-96f0-4f05-91c4-f6dc6714f50d",
   "metadata": {},
   "source": [
    "#### Q4. What is DQL? Explain SELECT with an example."
   ]
  },
  {
   "cell_type": "markdown",
   "id": "814debe5-5801-4a3f-bb21-802a5a529709",
   "metadata": {
    "tags": []
   },
   "source": [
    "Ans: DQL – Data Query Language -> SQL commands that used for performing queries on the data within schema.\n",
    "\n",
    "SELECT: It is used to retrieve data from the database.\n",
    "\n",
    "eg: SELECT CustomerName, City FROM Customers;\n"
   ]
  },
  {
   "cell_type": "markdown",
   "id": "d27dca1a-69d7-4653-9c35-e1e91bf7a8b6",
   "metadata": {},
   "source": [
    "#### Q5. Explain Primary Key and Foreign Key."
   ]
  },
  {
   "cell_type": "markdown",
   "id": "5f2db652-e4bd-48fa-9758-4393b350a987",
   "metadata": {},
   "source": [
    "Ans: Primary key is used to uniquely identify a row.\n",
    "\n",
    "Foreign key is used to connect two tables or maintain the relationship between them."
   ]
  },
  {
   "cell_type": "markdown",
   "id": "5583fcf5-ee70-4e5c-b1fe-4f171e5badc5",
   "metadata": {},
   "source": [
    "#### Q6. Write a python code to connect MySQL to python. Explain the cursor() and execute() method."
   ]
  },
  {
   "cell_type": "code",
   "execution_count": null,
   "id": "cc3a3a0c-902a-4713-8eb6-5f2d40dd01f1",
   "metadata": {},
   "outputs": [],
   "source": [
    "import mysql.connector\n",
    "\n",
    "mydb = mysql.connector.connect(\n",
    "  host=\"localhost\",\n",
    "  user=\"bsinghrathore32@gmail.com\",\n",
    "  password=\"bsinghrathore932\"\n",
    ")\n",
    "print(mydb)\n",
    "cursor = mydb.cursor()"
   ]
  },
  {
   "cell_type": "markdown",
   "id": "47c8413d-e721-4886-ba4b-35e41f2b63d4",
   "metadata": {},
   "source": [
    "* cursor(): Used to define the initial point in the table which can act as interator.\n",
    "* execute(): Function in python to run SQL commands."
   ]
  },
  {
   "cell_type": "markdown",
   "id": "1a821fdb-99ce-46ed-820a-25a0f84be2f2",
   "metadata": {},
   "source": [
    "#### Q7. Give the order of execution of SQL clauses in an SQL query."
   ]
  },
  {
   "cell_type": "markdown",
   "id": "e6409cfb-f9de-4ad2-8d08-81c64d8392e2",
   "metadata": {},
   "source": [
    "Ans: SELECT, FROM, WHERE, GROUP BY, HAVING, ORDER BY, LIMIT"
   ]
  }
 ],
 "metadata": {
  "kernelspec": {
   "display_name": "Python 3 (ipykernel)",
   "language": "python",
   "name": "python3"
  },
  "language_info": {
   "codemirror_mode": {
    "name": "ipython",
    "version": 3
   },
   "file_extension": ".py",
   "mimetype": "text/x-python",
   "name": "python",
   "nbconvert_exporter": "python",
   "pygments_lexer": "ipython3",
   "version": "3.10.8"
  }
 },
 "nbformat": 4,
 "nbformat_minor": 5
}
