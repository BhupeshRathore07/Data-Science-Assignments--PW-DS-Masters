{
 "cells": [
  {
   "cell_type": "markdown",
   "id": "565c0957-ed5c-4055-90a8-904831d30b72",
   "metadata": {},
   "source": [
    "#### Q1. Write a Python code to implement the KNN classifier algorithm on load_iris dataset in sklearn.datasets."
   ]
  },
  {
   "cell_type": "code",
   "execution_count": 25,
   "id": "cce14fe1-6957-46bc-8316-4520fbc12001",
   "metadata": {},
   "outputs": [
    {
     "name": "stdout",
     "output_type": "stream",
     "text": [
      "Accuracy: 1.0\n"
     ]
    }
   ],
   "source": [
    "from sklearn.datasets import load_iris\n",
    "from sklearn.model_selection import train_test_split\n",
    "from sklearn.neighbors import KNeighborsClassifier\n",
    "from sklearn.metrics import accuracy_score\n",
    "\n",
    "knn = KNeighborsClassifier(n_neighbors=3)\n",
    "\n",
    "iris = load_iris()\n",
    "\n",
    "X_train, X_test, y_train, y_test = train_test_split(iris.data, iris.target, test_size=0.2, random_state=42)\n",
    "\n",
    "knn.fit(X_train, y_train)\n",
    "\n",
    "y_pred = knn.predict(X_test)\n",
    "\n",
    "print(\"Accuracy:\", accuracy_score(y_test, y_pred))"
   ]
  },
  {
   "cell_type": "markdown",
   "id": "13057386-c2b2-4d82-9736-b4a2461c42d6",
   "metadata": {},
   "source": [
    "#### Q2. Write a Python code to implement the KNN regressor algorithm on load_boston dataset in sklearn.datasets."
   ]
  },
  {
   "cell_type": "markdown",
   "id": "1723a89a-5e41-45b4-a117-514f9533c461",
   "metadata": {},
   "source": [
    "##### **ImportError: `load_boston` has been removed from scikit-learn since version 1.2. **"
   ]
  },
  {
   "cell_type": "code",
   "execution_count": 26,
   "id": "b39d83a8-ccb4-45f8-a98a-0cfaf098e38c",
   "metadata": {
    "tags": []
   },
   "outputs": [],
   "source": [
    "# from sklearn.datasets import load_boston\n",
    "# from sklearn.model_selection import train_test_split\n",
    "# from sklearn.neighbors import KNeighborsRegressor\n",
    "# from sklearn.metrics import accuracy_score\n",
    "\n",
    "\n",
    "# knn = KNeighborsRegressor(n_neighbors=3)\n",
    "\n",
    "# boston = load_boston()\n",
    "\n",
    "# X_train, X_test, y_train, y_test = train_test_split(boston.data, boston.target, test_size=0.2, random_state=42)\n",
    "\n",
    "# knn.fit(X_train, y_train)\n",
    "\n",
    "# y_pred = knn.predict(X_test)\n",
    "\n",
    "# print(\"Accuracy:\", accuracy_score(y_test, y_pred))"
   ]
  },
  {
   "cell_type": "markdown",
   "id": "0364eb54-ac37-4cb8-a3df-9edec2afcb6e",
   "metadata": {},
   "source": [
    "#### Q3. Write a Python code snippet to find the optimal value of K for the KNN classifier algorithm using cross-validation on load_iris dataset in sklearn.datasets."
   ]
  },
  {
   "cell_type": "code",
   "execution_count": 27,
   "id": "fb0c43b6-ec75-49db-98c6-bfd412884e58",
   "metadata": {},
   "outputs": [
    {
     "name": "stdout",
     "output_type": "stream",
     "text": [
      "Optimal K: 13\n"
     ]
    }
   ],
   "source": [
    "from sklearn.datasets import load_iris\n",
    "from sklearn.neighbors import KNeighborsClassifier\n",
    "from sklearn.model_selection import cross_val_score\n",
    "\n",
    "knn = KNeighborsClassifier()\n",
    "\n",
    "iris = load_iris()\n",
    "\n",
    "cv_score = []\n",
    "\n",
    "for i in range (1, 31):\n",
    "    knn.n_neighbors = i\n",
    "    score = cross_val_score(knn, iris.data, iris.target, cv = 10, scoring='accuracy')\n",
    "    cv_score.append(score.mean())\n",
    "    \n",
    "optimal_k = cv_score.index(max(cv_score)) + 1\n",
    "\n",
    "print(\"Optimal K:\", optimal_k)"
   ]
  },
  {
   "cell_type": "markdown",
   "id": "63625f84-e106-448d-8608-04fe28746d5f",
   "metadata": {},
   "source": [
    "#### Q4. Implement the KNN regressor algorithm with feature scaling on load_boston dataset in sklearn.datasets."
   ]
  },
  {
   "cell_type": "code",
   "execution_count": 28,
   "id": "c4d2694a-5a80-40b8-b698-e832e8031e85",
   "metadata": {},
   "outputs": [
    {
     "name": "stdout",
     "output_type": "stream",
     "text": [
      "Mean Squared Error: 0.43\n"
     ]
    }
   ],
   "source": [
    "#using California Housing Dataset instead\n",
    "\n",
    "from sklearn.datasets import fetch_california_housing\n",
    "from sklearn.preprocessing import StandardScaler\n",
    "from sklearn.neighbors import KNeighborsRegressor\n",
    "from sklearn.model_selection import train_test_split\n",
    "from sklearn.metrics import mean_squared_error\n",
    "\n",
    "\n",
    "housing = fetch_california_housing()\n",
    "\n",
    "X_train, X_test, y_train, y_test = train_test_split(housing.data, housing.target, test_size=0.2, random_state=42)\n",
    "\n",
    "scaler = StandardScaler()\n",
    "X_train_scaled = scaler.fit_transform(X_train)\n",
    "X_test_scaled = scaler.transform(X_test)\n",
    "\n",
    "knn = KNeighborsRegressor()\n",
    "knn.fit(X_train_scaled, y_train)\n",
    "\n",
    "y_pred = knn.predict(X_test_scaled)\n",
    "\n",
    "print(\"Mean Squared Error:\", \"{:.2f}\".format(mean_squared_error(y_test, y_pred)))"
   ]
  },
  {
   "cell_type": "markdown",
   "id": "d662af46-ae3a-4636-aa79-ae5181a7e030",
   "metadata": {},
   "source": [
    "#### Q5. Write a Python code snippet to implement the KNN classifier algorithm with weighted voting on load_iris dataset in sklearn.datasets."
   ]
  },
  {
   "cell_type": "code",
   "execution_count": 29,
   "id": "5c4f5376-cbf8-44b1-90f3-6aaea6bd85dd",
   "metadata": {},
   "outputs": [
    {
     "name": "stdout",
     "output_type": "stream",
     "text": [
      "Accuracy: 1.0\n"
     ]
    }
   ],
   "source": [
    "from sklearn.datasets import load_iris\n",
    "from sklearn.model_selection import train_test_split\n",
    "from sklearn.neighbors import KNeighborsClassifier\n",
    "from sklearn.metrics import accuracy_score\n",
    "\n",
    "\n",
    "knn = KNeighborsClassifier(weights='distance')\n",
    "\n",
    "iris = load_iris()\n",
    "\n",
    "X_train, X_test, y_train, y_test = train_test_split(iris.data, iris.target, test_size=0.2, random_state=42)\n",
    "\n",
    "knn.fit(X_train, y_train)\n",
    "\n",
    "y_pred = knn.predict(X_test)\n",
    "\n",
    "print(\"Accuracy:\", accuracy_score(y_test, y_pred))"
   ]
  },
  {
   "cell_type": "markdown",
   "id": "2472a2ee-289c-431c-b53b-0092edc90f05",
   "metadata": {},
   "source": [
    "#### Q6. Implement a function to standardise the features before applying KNN classifier."
   ]
  },
  {
   "cell_type": "code",
   "execution_count": 31,
   "id": "e1258700-9af8-4b66-8bfb-e3f59cb21e37",
   "metadata": {},
   "outputs": [],
   "source": [
    "from sklearn.preprocessing import StandardScaler\n",
    "\n",
    "def knn_classifier(X_train, y_train, X_test, n_neighbors):\n",
    "    \n",
    "    scaler = StandardScaler()\n",
    "    X_train = scaler.fit_transform(X_train)\n",
    "    X_test = scaler.transform(X_test)\n",
    "    \n",
    "\n",
    "    knn = KNeighborsClassifier(n_neighbors=n_neighbors)\n",
    "\n",
    "\n",
    "    knn.fit(X_train, y_train)\n",
    "\n",
    "    y_pred = knn.predict(X_test)\n",
    "    \n",
    "    return y_pred\n",
    "\n",
    "\n",
    "# To call the function we have to pass these values\n",
    "# knn_classiknn_classifier(X_train, y_train, X_test, n_neighbors)"
   ]
  },
  {
   "cell_type": "markdown",
   "id": "9578e651-f40c-46f2-b704-8f5665817405",
   "metadata": {},
   "source": [
    "#### Q7. Write a Python function to calculate the euclidean distance between two points."
   ]
  },
  {
   "cell_type": "code",
   "execution_count": 37,
   "id": "571d8bb5-0916-4065-b368-414ac9354e32",
   "metadata": {},
   "outputs": [
    {
     "name": "stdout",
     "output_type": "stream",
     "text": [
      "4.24 units\n"
     ]
    }
   ],
   "source": [
    "import math\n",
    "\n",
    "def euclidean_distance(point1, point2):\n",
    "    distance = 0\n",
    "    for i in range(len(point1)):\n",
    "        distance += (point1[i] - point2[i]) ** 2\n",
    "    \n",
    "    return math.sqrt(distance)\n",
    "\n",
    "\n",
    "point1 = [1, 2]\n",
    "point2 = [4, 5]\n",
    "\n",
    "print(\"{:.2f}\".format(euclidean_distance(point1, point2)), \"units\")"
   ]
  },
  {
   "cell_type": "markdown",
   "id": "d8373255-4233-46a8-bee1-fcaca1cc1daa",
   "metadata": {},
   "source": [
    "#### Q8. Write a Python function to calculate the manhattan distance between two points."
   ]
  },
  {
   "cell_type": "code",
   "execution_count": 42,
   "id": "03c267e9-9795-4c8e-bb2c-5ed52fb2b4e8",
   "metadata": {},
   "outputs": [
    {
     "name": "stdout",
     "output_type": "stream",
     "text": [
      "6.00 units\n"
     ]
    }
   ],
   "source": [
    "def manhattan_distance(point1, point2):\n",
    "    distance = 0\n",
    "    for i in range(len(point1)):\n",
    "        distance += abs(point1[i] - point2[i])\n",
    "        \n",
    "    return distance\n",
    "\n",
    "\n",
    "point1 = [1, 2]\n",
    "point2 = [4, 5]\n",
    "\n",
    "print(\"{:.2f}\".format(manhattan_distance(point1, point2)), \"units\")"
   ]
  }
 ],
 "metadata": {
  "kernelspec": {
   "display_name": "Python 3 (ipykernel)",
   "language": "python",
   "name": "python3"
  },
  "language_info": {
   "codemirror_mode": {
    "name": "ipython",
    "version": 3
   },
   "file_extension": ".py",
   "mimetype": "text/x-python",
   "name": "python",
   "nbconvert_exporter": "python",
   "pygments_lexer": "ipython3",
   "version": "3.10.8"
  }
 },
 "nbformat": 4,
 "nbformat_minor": 5
}
