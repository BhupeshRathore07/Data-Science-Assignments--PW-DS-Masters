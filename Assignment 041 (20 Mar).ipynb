{
 "cells": [
  {
   "cell_type": "markdown",
   "id": "8c7f2701-2f38-4eaa-8883-abd88c414138",
   "metadata": {},
   "source": [
    "#### Q1. What is data encoding? How is it useful in data science?"
   ]
  },
  {
   "cell_type": "markdown",
   "id": "6b9082cd-3e8e-414e-aed1-c8879c55c488",
   "metadata": {},
   "source": [
    "Ans: **Data encoding** is the process of transforming categorical data into numerical data that can be used for analysis and modeling in data science. \n",
    "\n",
    "It is useful in data science as many machine learning algorithms can only operate on numerical data."
   ]
  },
  {
   "cell_type": "markdown",
   "id": "4490b529-60ae-4318-b96a-3346c4a63362",
   "metadata": {},
   "source": [
    "#### Q2. What is nominal encoding? Provide an example of how you would use it in a real-world scenario."
   ]
  },
  {
   "cell_type": "markdown",
   "id": "7e46e17e-e5ba-4b8c-a1d0-c08416d93dd4",
   "metadata": {},
   "source": [
    "Ans: **Nominal encoding** also known as one-hot encoding, is a technique of transforming categorical data into numerical data by creating a binary column for each category.\n",
    "\n",
    "Eg: Suppose we have a categorical feature \"color\" with the values \"red,\" \"green,\" and \"blue.\" Nominal encoding would create three binary columns \"color_red,\" \"color_green,\" and \"color_blue\" and assign a value of 1 to the corresponding column for each row and 0 for the rest. As Red(001), Green(010) and Blue(100) "
   ]
  },
  {
   "cell_type": "markdown",
   "id": "f99a6691-732d-4130-900c-693d7e32a5fc",
   "metadata": {},
   "source": [
    "#### Q3. In what situations is nominal encoding preferred over one-hot encoding? Provide a practical example."
   ]
  },
  {
   "cell_type": "markdown",
   "id": "260ae458-c8ec-4382-9461-ad8c3c24b441",
   "metadata": {},
   "source": [
    "Ans: Essentially nominal encoding is same as the one-hot encoding. In nominal encoding, the binary columns are not necessarily independent, while in one-hot encoding, each binary column is independent.\n",
    "\n",
    "Eg: Case of education level, the categories \"high school,\" \"college,\" and \"graduate school\" have a clear order, and nominal encoding would preserve this order. In contrast, one-hot encoding would not consider this order and would create three independent binary columns, which might not be ideal for some applications."
   ]
  },
  {
   "cell_type": "markdown",
   "id": "fb63f3f1-402e-4fcb-896b-a8d501118d41",
   "metadata": {},
   "source": [
    "#### Q4. Suppose you have a dataset containing categorical data with 5 unique values. Which encoding technique would you use to transform this data into a format suitable for machine learning algorithms? Explain why you made this choice."
   ]
  },
  {
   "cell_type": "markdown",
   "id": "8ad4002d-4d1e-402c-bd6a-4eed1e0f184b",
   "metadata": {},
   "source": [
    "Ans: The choice of encoding technique would depend on the nature of the categorical data. \n",
    "\n",
    "If the categorical data is nominal, meaning there is no natural ordering to the categories, then nominal encoding would be preferred. \n",
    "\n",
    "On the other hand, if the categorical data is ordinal, meaning there is a natural ordering to the categories, then ordinal encoding would be preferred. \n",
    "\n",
    "If the categorical data has no inherent order and there are a large number of unique values, then one-hot encoding may be preferred to avoid introducing unintended relationships between the values."
   ]
  },
  {
   "cell_type": "markdown",
   "id": "0850e4cc-8277-4481-9fae-c87965b7bd2f",
   "metadata": {},
   "source": [
    "#### Q5. In a machine learning project, you have a dataset with 1000 rows and 5 columns. Two of the columns are categorical, and the remaining three columns are numerical. If you were to use nominal encoding to transform the categorical data, how many new columns would be created? Show your calculations."
   ]
  },
  {
   "cell_type": "markdown",
   "id": "747fc611-aba9-4e26-8862-b2ca8c8d8cd4",
   "metadata": {},
   "source": [
    "Ans: If we use nominal encoding to transform the two categorical columns, the number of new columns created would be equal to the number of unique values in each categorical column.\n",
    "\n",
    "Let's assume the first categorical column has 4 unique values, and the second categorical column has 6 unique values.\n",
    "\n",
    "Therefore, the total number of new columns created would be 4 (like 1000, 0100, 0010, 0001) + 6 (like 100000, 010000, 001000, 000100, 000010, 000001)) = **10**."
   ]
  },
  {
   "cell_type": "markdown",
   "id": "0f53df40-06db-4ba5-bd5e-661ca7717e12",
   "metadata": {},
   "source": [
    "#### Q6. You are working with a dataset containing information about different types of animals, including their species, habitat, and diet. Which encoding technique would you use to transform the categorical data into a format suitable for machine learning algorithms? Justify your answer."
   ]
  },
  {
   "cell_type": "markdown",
   "id": "829467fc-6636-4703-8363-6766bf2bfd0c",
   "metadata": {},
   "source": [
    "Ans: In this scenario, I would use one-hot encoding to transform the categorical data into a format suitable for machine learning algorithms. This is because there are multiple categories within each categorical feature, and each category is not inherently ordered or ranked. One-hot encoding would create new columns for each category, where a 1 would be placed in the corresponding column for each row that contains that category, and 0s would be placed in all other columns. This allows the machine learning algorithm to recognize and analyze the categorical data as separate entities rather than as a continuous variable."
   ]
  },
  {
   "cell_type": "markdown",
   "id": "7afd656b-2451-420f-83a2-19768bfd552e",
   "metadata": {},
   "source": [
    "#### Q7.You are working on a project that involves predicting customer churn for a telecommunications company. You have a dataset with 5 features, including the customer's gender, age, contract type, monthly charges, and tenure. Which encoding technique(s) would you use to transform the categorical data into numerical data? Provide a step-by-step explanation of how you would implement the encoding."
   ]
  },
  {
   "cell_type": "markdown",
   "id": "9d75835d-d4e1-4e85-b22a-9e3085fa4eed",
   "metadata": {},
   "source": [
    "Ans: For this scenario, I would use one-hot encoding to transform the categorical data into numerical data. Here are the steps to implement the encoding:\n",
    "\n",
    "1. Identify the categorical features in the dataset. In this case, the categorical features are gender and contract type.\n",
    "\n",
    "2. Use the one-hot encoding technique to create new binary columns for each unique value in the categorical features. For example, for the gender feature, we would create two new columns, one for male and one for female. Similarly, for the contract type feature, we would create two new columns, one for a month-to-month contract and one for a long-term contract.\n",
    "\n",
    "3. Merge the new binary columns with the original numerical features to create a new dataset with only numerical features.\n",
    "\n",
    "Eg:"
   ]
  },
  {
   "cell_type": "code",
   "execution_count": 2,
   "id": "14679c92-0f84-4af2-aa67-a4c6e9798e31",
   "metadata": {},
   "outputs": [
    {
     "data": {
      "text/html": [
       "<div>\n",
       "<style scoped>\n",
       "    .dataframe tbody tr th:only-of-type {\n",
       "        vertical-align: middle;\n",
       "    }\n",
       "\n",
       "    .dataframe tbody tr th {\n",
       "        vertical-align: top;\n",
       "    }\n",
       "\n",
       "    .dataframe thead th {\n",
       "        text-align: right;\n",
       "    }\n",
       "</style>\n",
       "<table border=\"1\" class=\"dataframe\">\n",
       "  <thead>\n",
       "    <tr style=\"text-align: right;\">\n",
       "      <th></th>\n",
       "      <th>age</th>\n",
       "      <th>monthly_charges</th>\n",
       "      <th>tenure</th>\n",
       "      <th>churn</th>\n",
       "      <th>gender_Female</th>\n",
       "      <th>gender_Male</th>\n",
       "      <th>contract_type_Month-to-month</th>\n",
       "      <th>contract_type_One year</th>\n",
       "      <th>contract_type_Two year</th>\n",
       "    </tr>\n",
       "  </thead>\n",
       "  <tbody>\n",
       "    <tr>\n",
       "      <th>0</th>\n",
       "      <td>42</td>\n",
       "      <td>65.5</td>\n",
       "      <td>24</td>\n",
       "      <td>False</td>\n",
       "      <td>0</td>\n",
       "      <td>1</td>\n",
       "      <td>0</td>\n",
       "      <td>1</td>\n",
       "      <td>0</td>\n",
       "    </tr>\n",
       "    <tr>\n",
       "      <th>1</th>\n",
       "      <td>31</td>\n",
       "      <td>75.2</td>\n",
       "      <td>12</td>\n",
       "      <td>True</td>\n",
       "      <td>1</td>\n",
       "      <td>0</td>\n",
       "      <td>1</td>\n",
       "      <td>0</td>\n",
       "      <td>0</td>\n",
       "    </tr>\n",
       "    <tr>\n",
       "      <th>2</th>\n",
       "      <td>23</td>\n",
       "      <td>99.0</td>\n",
       "      <td>36</td>\n",
       "      <td>False</td>\n",
       "      <td>0</td>\n",
       "      <td>1</td>\n",
       "      <td>0</td>\n",
       "      <td>0</td>\n",
       "      <td>1</td>\n",
       "    </tr>\n",
       "    <tr>\n",
       "      <th>3</th>\n",
       "      <td>55</td>\n",
       "      <td>85.5</td>\n",
       "      <td>48</td>\n",
       "      <td>False</td>\n",
       "      <td>0</td>\n",
       "      <td>1</td>\n",
       "      <td>0</td>\n",
       "      <td>0</td>\n",
       "      <td>1</td>\n",
       "    </tr>\n",
       "    <tr>\n",
       "      <th>4</th>\n",
       "      <td>28</td>\n",
       "      <td>50.0</td>\n",
       "      <td>6</td>\n",
       "      <td>True</td>\n",
       "      <td>1</td>\n",
       "      <td>0</td>\n",
       "      <td>1</td>\n",
       "      <td>0</td>\n",
       "      <td>0</td>\n",
       "    </tr>\n",
       "  </tbody>\n",
       "</table>\n",
       "</div>"
      ],
      "text/plain": [
       "   age  monthly_charges  tenure  churn  gender_Female  gender_Male  \\\n",
       "0   42             65.5      24  False              0            1   \n",
       "1   31             75.2      12   True              1            0   \n",
       "2   23             99.0      36  False              0            1   \n",
       "3   55             85.5      48  False              0            1   \n",
       "4   28             50.0       6   True              1            0   \n",
       "\n",
       "   contract_type_Month-to-month  contract_type_One year  \\\n",
       "0                             0                       1   \n",
       "1                             1                       0   \n",
       "2                             0                       0   \n",
       "3                             0                       0   \n",
       "4                             1                       0   \n",
       "\n",
       "   contract_type_Two year  \n",
       "0                       0  \n",
       "1                       0  \n",
       "2                       1  \n",
       "3                       1  \n",
       "4                       0  "
      ]
     },
     "execution_count": 2,
     "metadata": {},
     "output_type": "execute_result"
    }
   ],
   "source": [
    "import pandas as pd\n",
    "\n",
    "# create example dataset\n",
    "data = {'gender': ['Male', 'Female', 'Male', 'Male', 'Female'],\n",
    "        'age': [42, 31, 23, 55, 28],\n",
    "        'contract_type': ['One year', 'Month-to-month', 'Two year', 'Two year', 'Month-to-month'],\n",
    "        'monthly_charges': [65.5, 75.2, 99.0, 85.5, 50.0],\n",
    "        'tenure': [24, 12, 36, 48, 6],\n",
    "        'churn': [False, True, False, False, True]}\n",
    "\n",
    "df = pd.DataFrame(data)\n",
    "\n",
    "# perform one-hot encoding\n",
    "encoded_df = pd.get_dummies(df, columns=['gender', 'contract_type'])\n",
    "\n",
    "encoded_df.head()"
   ]
  }
 ],
 "metadata": {
  "kernelspec": {
   "display_name": "Python 3 (ipykernel)",
   "language": "python",
   "name": "python3"
  },
  "language_info": {
   "codemirror_mode": {
    "name": "ipython",
    "version": 3
   },
   "file_extension": ".py",
   "mimetype": "text/x-python",
   "name": "python",
   "nbconvert_exporter": "python",
   "pygments_lexer": "ipython3",
   "version": "3.10.8"
  }
 },
 "nbformat": 4,
 "nbformat_minor": 5
}
