{
 "cells": [
  {
   "cell_type": "markdown",
   "id": "8c7f2701-2f38-4eaa-8883-abd88c414138",
   "metadata": {},
   "source": [
    "#### Q1. What is the difference between Ordinal Encoding and Label Encoding? Provide an example of when you might choose one over the other."
   ]
  },
  {
   "cell_type": "markdown",
   "id": "83e145c7-cc10-4924-982b-5a4dc2c3489d",
   "metadata": {},
   "source": [
    "Ans: **Ordinal encoding** is used when the categorical data has an inherent order or hierarchy. In this method, the categories are assigned an integer value based on their rank or order. Eg: in a survey question asking about education level, \"High School\" might be assigned a lower value than \"Bachelor's Degree\" because it is lower in the educational hierarchy.\n",
    "\n",
    "**Label encoding** on the other hand, assigns a unique numerical value to each category in a categorical variable. This method does not consider any inherent order or hierarchy in the data. Eg: in a dataset of colors, \"Blue\" might be assigned a value of 1, \"Green\" a value of 2, and \"Red\" a value of 3."
   ]
  },
  {
   "cell_type": "markdown",
   "id": "4490b529-60ae-4318-b96a-3346c4a63362",
   "metadata": {},
   "source": [
    "#### Q2. Explain how Target Guided Ordinal Encoding works and provide an example of when you might use it in a machine learning project."
   ]
  },
  {
   "cell_type": "markdown",
   "id": "32b31a77-5279-48a2-b195-e4989618ed73",
   "metadata": {},
   "source": [
    "Ans: **Target Guided Ordinal Encoding** is a technique used to encode categorical variables by ordering the categories according to their impact on the target variable.\n",
    "\n",
    "The categories are ranked in order of their mean target value, and then each category is assigned a numerical value based on its rank.\n",
    "\n",
    "Eg: We are working on a project to predict customer churn in a subscription-based business, we could use target guided ordinal encoding to encode the type of subscription plan a customer is using, since certain plans may have a higher impact on customer churn than others."
   ]
  },
  {
   "cell_type": "markdown",
   "id": "f99a6691-732d-4130-900c-693d7e32a5fc",
   "metadata": {},
   "source": [
    "#### Q3. Define covariance and explain why it is important in statistical analysis. How is covariance calculated?"
   ]
  },
  {
   "cell_type": "markdown",
   "id": "386c1142-463f-4c0a-be9a-a052dcce7c47",
   "metadata": {},
   "source": [
    "Ans: **Covariance** is a measure of how two variables in a dataset are related to each other, indicating the degree to which the variables tend to vary together. It measures the joint variability of two random variables and can be used to determine whether they have a positive, negative, or zero correlation.\n",
    "\n",
    "Covariance is an important concept in statistical analysis because it helps to identify relationships and dependencies between variables.\n",
    "\n",
    "Covariance is calculated using the formula:\n",
    "\n",
    "Cov(X,Y) = E[(X - E[X]) * (Y - E[Y])]\n",
    "\n",
    "where X and Y are two random variables, E[X] and E[Y] are their respective expected values."
   ]
  },
  {
   "cell_type": "markdown",
   "id": "fb63f3f1-402e-4fcb-896b-a8d501118d41",
   "metadata": {},
   "source": [
    "#### Q4. For a dataset with the following categorical variables: Color (red, green, blue), Size (small, medium, large), and Material (wood, metal, plastic), perform label encoding using Python's scikit-learn library. Show your code and explain the output."
   ]
  },
  {
   "cell_type": "code",
   "execution_count": 10,
   "id": "8494bcd4-c376-4697-9ea3-3ee7abfaf0a7",
   "metadata": {},
   "outputs": [
    {
     "name": "stdout",
     "output_type": "stream",
     "text": [
      "[[2, 1, 2], [0, 2, 0], [1, 0, 1], [1, 1, 2], [2, 0, 0], [0, 1, 1]]\n"
     ]
    }
   ],
   "source": [
    "from sklearn.preprocessing import LabelEncoder\n",
    "\n",
    "#Sample dataset\n",
    "data = [['red', 'medium', 'wood'],\n",
    "        ['blue', 'small', 'metal'],\n",
    "        ['green', 'large', 'plastic'],\n",
    "        ['green', 'medium', 'wood'],\n",
    "        ['red', 'large', 'metal'],\n",
    "        ['blue', 'medium', 'plastic']]\n",
    "\n",
    "\n",
    "le = LabelEncoder()\n",
    "\n",
    "for i in range(len(data[0])):\n",
    "    integer_encoded = le.fit_transform([row[i] for row in data])\n",
    "    for j in range(len(integer_encoded)):\n",
    "        data[j][i] = integer_encoded[j]\n",
    "\n",
    "print(data)"
   ]
  },
  {
   "cell_type": "markdown",
   "id": "e89af3ba-1cf0-4076-950a-ba7d1e05bbcc",
   "metadata": {},
   "source": [
    "The output shows the encoded values for each categorical variable. The first column represents the encoded values for Color, the second column represents the encoded values for Size, and the third column represents the encoded values for Material."
   ]
  },
  {
   "cell_type": "markdown",
   "id": "0850e4cc-8277-4481-9fae-c87965b7bd2f",
   "metadata": {},
   "source": [
    "#### Q5. Calculate the covariance matrix for the following variables in a dataset: Age, Income, and Education level. Interpret the results."
   ]
  },
  {
   "cell_type": "code",
   "execution_count": 12,
   "id": "de51894a-3b3d-42af-97d0-55933b7848a8",
   "metadata": {},
   "outputs": [
    {
     "name": "stdout",
     "output_type": "stream",
     "text": [
      "                age        income  education\n",
      "age           250.0  5.000000e+05       50.0\n",
      "income     500000.0  1.000000e+09   100000.0\n",
      "education      50.0  1.000000e+05       10.0\n"
     ]
    }
   ],
   "source": [
    "import pandas as pd\n",
    "\n",
    "# Sample data\n",
    "data = {\n",
    "    'age': [25, 35, 45, 55, 65],\n",
    "    'income': [40000, 60000, 80000, 100000, 120000],\n",
    "    'education': [12, 14, 16, 18, 20]\n",
    "}\n",
    "df = pd.DataFrame(data)\n",
    "\n",
    "cov_matrix = df.cov()\n",
    "print(cov_matrix)"
   ]
  },
  {
   "cell_type": "markdown",
   "id": "0f53df40-06db-4ba5-bd5e-661ca7717e12",
   "metadata": {},
   "source": [
    "#### Q6. You are working on a machine learning project with a dataset containing several categorical variables, including \"Gender\" (Male/Female), \"Education Level\" (High School/Bachelor's/Master's/PhD), and \"Employment Status\" (Unemployed/Part-Time/Full-Time). Which encoding method would you use for each variable, and why?"
   ]
  },
  {
   "cell_type": "markdown",
   "id": "cd40fa56-bb9f-4ef3-be6a-f721f2608b4f",
   "metadata": {},
   "source": [
    "Ans:\n",
    "1. For the categorical variable \"Gender\" with two categories (Male/Female), we can use binary encoding or label encoding. Since there are only two categories, binary encoding is a suitable method to use, where we replace one category with 0 and the other with 1.\n",
    "\n",
    "2. For the categorical variable \"Education Level\" with multiple categories (High School/Bachelor's/Master's/PhD), we can use ordinal encoding, where we assign each category a rank based on their level of education. For example, we can assign High School a rank of 1, Bachelor's a rank of 2, Master's a rank of 3, and PhD a rank of 4. This method preserves the order of the categories and allows us to maintain the information about the level of education.\n",
    "\n",
    "3. For the categorical variable \"Employment Status\" with multiple categories (Unemployed/Part-Time/Full-Time), we can use one-hot encoding to convert the categories into binary variables. This method allows us to capture the information about each category without assuming any order or hierarchy among them."
   ]
  },
  {
   "cell_type": "markdown",
   "id": "7afd656b-2451-420f-83a2-19768bfd552e",
   "metadata": {},
   "source": [
    "#### Q7. You are analyzing a dataset with two continuous variables, \"Temperature\" and \"Humidity\", and two categorical variables, \"Weather Condition\" (Sunny/Cloudy/Rainy) and \"Wind Direction\" (North/South/ East/West). Calculate the covariance between each pair of variables and interpret the results."
   ]
  },
  {
   "cell_type": "code",
   "execution_count": 13,
   "id": "fb33918c-c20f-4bb6-a0c5-f53e68c2cc30",
   "metadata": {},
   "outputs": [
    {
     "name": "stdout",
     "output_type": "stream",
     "text": [
      "             Temperature   Humidity\n",
      "Temperature     4.933333  14.555556\n",
      "Humidity       14.555556  89.166667\n"
     ]
    },
    {
     "name": "stderr",
     "output_type": "stream",
     "text": [
      "/tmp/ipykernel_2162/3819427148.py:13: FutureWarning: The default value of numeric_only in DataFrame.cov is deprecated. In a future version, it will default to False. Select only valid columns or specify the value of numeric_only to silence this warning.\n",
      "  cov_matrix = df.cov()\n"
     ]
    }
   ],
   "source": [
    "import pandas as pd\n",
    "\n",
    "#Sample Data\n",
    "data = {\n",
    "    \"Temperature\": [25, 22, 20, 18, 23, 21, 24, 19, 20, 22],\n",
    "    \"Humidity\": [60, 55, 50, 45, 65, 70, 75, 55, 50, 60],\n",
    "    \"Weather Condition\": [\"Sunny\", \"Cloudy\", \"Rainy\", \"Rainy\", \"Sunny\", \"Sunny\", \"Cloudy\", \"Rainy\", \"Sunny\", \"Cloudy\"],\n",
    "    \"Wind Direction\": [\"North\", \"South\", \"East\", \"West\", \"North\", \"East\", \"West\", \"North\", \"South\", \"East\"]\n",
    "}\n",
    "\n",
    "df = pd.DataFrame(data)\n",
    "\n",
    "cov_matrix = df.cov()\n",
    "\n",
    "print(cov_matrix)"
   ]
  }
 ],
 "metadata": {
  "kernelspec": {
   "display_name": "Python 3 (ipykernel)",
   "language": "python",
   "name": "python3"
  },
  "language_info": {
   "codemirror_mode": {
    "name": "ipython",
    "version": 3
   },
   "file_extension": ".py",
   "mimetype": "text/x-python",
   "name": "python",
   "nbconvert_exporter": "python",
   "pygments_lexer": "ipython3",
   "version": "3.10.8"
  }
 },
 "nbformat": 4,
 "nbformat_minor": 5
}
