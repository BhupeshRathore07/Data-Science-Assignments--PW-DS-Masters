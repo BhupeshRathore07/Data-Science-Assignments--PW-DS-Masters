{
 "cells": [
  {
   "cell_type": "markdown",
   "id": "31ff94f4-2894-42e8-ac6c-658b4dba20f2",
   "metadata": {
    "tags": []
   },
   "source": [
    "#### Q1. You are writing code for a company. The requirement of the company is that you create a python function that will check whether the password entered by the user is correct or not. The function should take the password as input and return the string “Valid Password” if the entered password follows the below-given password guidelines else it should return “Invalid Password”. \n",
    "##### Note: 1. The Password should contain at least two uppercase letters and at least two lowercase letters.\n",
    "##### 2. The Password should contain at least a number and three special characters.\n",
    "##### 3. The length of the password should be 10 characters long."
   ]
  },
  {
   "cell_type": "code",
   "execution_count": 27,
   "id": "924a1288-90a1-482f-b845-4685c87ef307",
   "metadata": {},
   "outputs": [
    {
     "name": "stdout",
     "output_type": "stream",
     "text": [
      "Valid Password!\n"
     ]
    }
   ],
   "source": [
    "def check_password(password):\n",
    "    count_upper = count_lower = count_num = count_splchar = 0\n",
    "    \n",
    "    if len(password) >= 10:\n",
    "        for val in password:\n",
    "            if ord(val) >= 65 and ord(val) <= 90:\n",
    "                count_upper += 1\n",
    "            \n",
    "            elif ord(val) >= 97 and ord(val) <= 122:\n",
    "                count_lower += 1\n",
    "                \n",
    "            elif ord(val) >= 48 and ord(val) <= 57:\n",
    "                count_num += 1\n",
    "                \n",
    "            elif (ord(val) >= 32 and ord(val) <= 47) or (ord(val) >= 58 and ord(val) <= 64) or (ord(val) >= 91 and ord(val) <= 96):\n",
    "                count_splchar += 1\n",
    "        \n",
    "        \n",
    "        if count_upper < 2:\n",
    "            print (\"Invalid Password! Please enter minimum two uppercase letters!\")\n",
    "        \n",
    "        elif count_lower < 2:\n",
    "            print (\"Invalid Password! Please enter minimum two lowercase letters!\")\n",
    "        \n",
    "        elif count_num < 1:\n",
    "            print (\"Invalid Password! Please enter minimum one number!\")\n",
    "        \n",
    "        elif count_splchar < 3:\n",
    "            print (\"Invalid Password! Please enter minimum three special characters!\")\n",
    "        \n",
    "        else:\n",
    "            print (\"Valid Password!\")\n",
    "        \n",
    "    else:\n",
    "        print (\"Invalid Password! Length of password is less than 10!\")\n",
    "        \n",
    "\n",
    "password = \"BhupesH@3*?\"     \n",
    "check_password(password)"
   ]
  },
  {
   "cell_type": "markdown",
   "id": "ed805a04-42e2-4c3f-a1cd-c166b6d3fe91",
   "metadata": {},
   "source": [
    "#### Q2. Solve the below-given questions using at least one of the following:\n",
    "#### 1. Lambda function\n",
    "#### 2. Filter function\n",
    "#### 3. Zap function\n",
    "#### 4. List Comprehension\n",
    "##### -> Check if the string starts with a particular letter\n",
    "##### -> Check if the string is numeric\n",
    "##### -> Sort a list of tuples having fruit names and their quantity. [(\"mango\",99),(\"orange\",80), (\"grapes\", 1000)]\n",
    "##### -> Find the squares of numbers from 1 to 10\n",
    "##### -> Find the cube root of numbers from 1 to 10\n",
    "##### -> Check if a given number is even\n",
    "##### -> Filter odd numbers from the given list. [1,2,3,4,5,6,7,8,9,10]\n",
    "##### -> Sort a list of integers into positive and negative integers lists. [1,2,3,4,5,6,-1,-2,-3,-4,-5,0]"
   ]
  },
  {
   "cell_type": "code",
   "execution_count": 50,
   "id": "32ce5b32-a3d1-411f-9a74-7247702780cd",
   "metadata": {},
   "outputs": [
    {
     "name": "stdout",
     "output_type": "stream",
     "text": [
      "Check if the string starts with a particular letter \n",
      "\n",
      "True\n"
     ]
    },
    {
     "data": {
      "text/plain": [
       "False"
      ]
     },
     "execution_count": 50,
     "metadata": {},
     "output_type": "execute_result"
    }
   ],
   "source": [
    "print(\"Check if the string starts with a particular letter \\n\")\n",
    "\n",
    "a = \"Atlas\"\n",
    "print(\"True\") if ord(a[0]) == ord(\"A\") else False\n",
    "print(\"True\") if ord(a[0]) == ord(\"B\") else False"
   ]
  },
  {
   "cell_type": "code",
   "execution_count": 66,
   "id": "67e7c2d8-d215-4bd3-a31d-388d70279dce",
   "metadata": {},
   "outputs": [
    {
     "name": "stdout",
     "output_type": "stream",
     "text": [
      "Check if the string is numeric \n",
      "\n"
     ]
    },
    {
     "data": {
      "text/plain": [
       "True"
      ]
     },
     "execution_count": 66,
     "metadata": {},
     "output_type": "execute_result"
    }
   ],
   "source": [
    "print(\"Check if the string is numeric \\n\")\n",
    "x = \"12324\"\n",
    "x.isnumeric()"
   ]
  },
  {
   "cell_type": "code",
   "execution_count": 67,
   "id": "1b86c90c-713c-47c7-b561-b435e1347f3d",
   "metadata": {},
   "outputs": [
    {
     "name": "stdout",
     "output_type": "stream",
     "text": [
      "Sort a list of tuples having fruit names and their quantity \n",
      "\n",
      "[('orange', 80), ('mango', 99), ('grapes', 1000)]\n"
     ]
    }
   ],
   "source": [
    "print(\"Sort a list of tuples having fruit names and their quantity \\n\")\n",
    "\n",
    "fruits = [(\"mango\", 99), (\"orange\", 80), (\"grapes\", 1000)]\n",
    "sorted_fruits = sorted(fruits, key=lambda x: x[1])\n",
    "print(sorted_fruits)"
   ]
  },
  {
   "cell_type": "code",
   "execution_count": 63,
   "id": "d58320e9-1287-4100-864a-de5858e740c7",
   "metadata": {},
   "outputs": [
    {
     "name": "stdout",
     "output_type": "stream",
     "text": [
      "Find the squares of numbers from 1 to 10 \n",
      "\n"
     ]
    },
    {
     "data": {
      "text/plain": [
       "[1, 4, 9, 16, 25, 36, 49, 64, 81, 100]"
      ]
     },
     "execution_count": 63,
     "metadata": {},
     "output_type": "execute_result"
    }
   ],
   "source": [
    "print(\"Find the squares of numbers from 1 to 10 \\n\")\n",
    "[i**2 for i in range(1,11)]"
   ]
  },
  {
   "cell_type": "code",
   "execution_count": 68,
   "id": "a0bf6e6c-b2a3-4eda-a65a-9f713dde2a83",
   "metadata": {},
   "outputs": [
    {
     "name": "stdout",
     "output_type": "stream",
     "text": [
      "Find the cube root of numbers from 1 to 10 \n",
      "\n"
     ]
    },
    {
     "data": {
      "text/plain": [
       "[1, 8, 27, 64, 125, 216, 343, 512, 729, 1000]"
      ]
     },
     "execution_count": 68,
     "metadata": {},
     "output_type": "execute_result"
    }
   ],
   "source": [
    "print(\"Find the cube root of numbers from 1 to 10 \\n\")\n",
    "[i**3 for i in range(1,11)]"
   ]
  },
  {
   "cell_type": "code",
   "execution_count": 69,
   "id": "fa7926bf-0050-4ebe-ae45-f3a2e602bfeb",
   "metadata": {},
   "outputs": [
    {
     "name": "stdout",
     "output_type": "stream",
     "text": [
      "Check if a given number is even \n",
      "\n"
     ]
    },
    {
     "data": {
      "text/plain": [
       "True"
      ]
     },
     "execution_count": 69,
     "metadata": {},
     "output_type": "execute_result"
    }
   ],
   "source": [
    "print(\"Check if a given number is even \\n\")\n",
    "num = 46\n",
    "True if num % 2 == 0 else False"
   ]
  },
  {
   "cell_type": "code",
   "execution_count": 72,
   "id": "2e3a0982-b6a7-4b75-b7c0-cdf44198d90a",
   "metadata": {},
   "outputs": [
    {
     "name": "stdout",
     "output_type": "stream",
     "text": [
      "Filter odd numbers from the given list. [1,2,3,4,5,6,7,8,9,10] \n",
      "\n"
     ]
    },
    {
     "data": {
      "text/plain": [
       "[1, 3, 5, 7, 9]"
      ]
     },
     "execution_count": 72,
     "metadata": {},
     "output_type": "execute_result"
    }
   ],
   "source": [
    "print(\"Filter odd numbers from the given list. [1,2,3,4,5,6,7,8,9,10] \\n\")\n",
    "\n",
    "nums = [1,2,3,4,5,6,7,8,9,10]\n",
    "list(filter(lambda x: x%2 == 1 , nums))"
   ]
  },
  {
   "cell_type": "code",
   "execution_count": 74,
   "id": "2fbc5dd5-8378-448c-a89e-134eaffb0589",
   "metadata": {},
   "outputs": [
    {
     "name": "stdout",
     "output_type": "stream",
     "text": [
      "Sort a list of integers into positive and negative integers lists. [1,2,3,4,5,6,-1,-2,-3,-4,-5,0] \n",
      "\n",
      "Positive List: [1, 2, 3, 4, 5, 6, 0] and Negative List: [-1, -2, -3, -4, -5]\n"
     ]
    }
   ],
   "source": [
    "print(\"Sort a list of integers into positive and negative integers lists. [1,2,3,4,5,6,-1,-2,-3,-4,-5,0] \\n\")\n",
    "\n",
    "nums = [1,2,3,4,5,6,-1,-2,-3,-4,-5,0]\n",
    "l1 = list(filter(lambda x: x >= 0 , nums))\n",
    "l2 = list(filter(lambda x: x < 0 , nums))\n",
    "\n",
    "print (\"Positive List:\", l1, \"and Negative List:\" ,l2)"
   ]
  }
 ],
 "metadata": {
  "kernelspec": {
   "display_name": "Python 3 (ipykernel)",
   "language": "python",
   "name": "python3"
  },
  "language_info": {
   "codemirror_mode": {
    "name": "ipython",
    "version": 3
   },
   "file_extension": ".py",
   "mimetype": "text/x-python",
   "name": "python",
   "nbconvert_exporter": "python",
   "pygments_lexer": "ipython3",
   "version": "3.10.8"
  }
 },
 "nbformat": 4,
 "nbformat_minor": 5
}
