{
 "cells": [
  {
   "cell_type": "markdown",
   "id": "31ff94f4-2894-42e8-ac6c-658b4dba20f2",
   "metadata": {
    "tags": []
   },
   "source": [
    "#### Q1. Explain with an example each when to use a for loop and a while loop."
   ]
  },
  {
   "cell_type": "code",
   "execution_count": null,
   "id": "924a1288-90a1-482f-b845-4685c87ef307",
   "metadata": {},
   "outputs": [],
   "source": [
    "\"\"\" Ans: When we need to run in loop, where the ending and the starting is defined then we preffer to use \"For Loop\" otherwise, if we know only ending or starting we can use \"While Loop\" as it can go to the end based on what we define the incremental or decremental value. \"\"\""
   ]
  },
  {
   "cell_type": "markdown",
   "id": "ed805a04-42e2-4c3f-a1cd-c166b6d3fe91",
   "metadata": {},
   "source": [
    "#### Q2. Write a python program to print the sum and product of the first 10 natural numbers using for and while loop.\n"
   ]
  },
  {
   "cell_type": "code",
   "execution_count": 21,
   "id": "0ffcc9b0-f3da-4129-b263-ad40dbef4bf9",
   "metadata": {},
   "outputs": [
    {
     "name": "stdout",
     "output_type": "stream",
     "text": [
      "55 3628800\n"
     ]
    }
   ],
   "source": [
    "# For Loop\n",
    "sum1 = 0\n",
    "product1 = 1\n",
    "for i in range(1,11):\n",
    "    sum1 += i\n",
    "    product1 *= i\n",
    "    \n",
    "print(sum1, product1)"
   ]
  },
  {
   "cell_type": "code",
   "execution_count": 20,
   "id": "73711018-5eed-459d-8a7d-64932108b890",
   "metadata": {},
   "outputs": [
    {
     "name": "stdout",
     "output_type": "stream",
     "text": [
      "55 3628800\n"
     ]
    }
   ],
   "source": [
    "#While Loop:\n",
    "sum2 = 0\n",
    "product2 = 1\n",
    "n = 1\n",
    "while n<11:\n",
    "    sum2 += n\n",
    "    product2 *= n\n",
    "    n += 1\n",
    "print(sum2, product2)"
   ]
  },
  {
   "cell_type": "markdown",
   "id": "ea480e00-012c-4e18-b5d1-74b7da453670",
   "metadata": {},
   "source": [
    "#### Q3. Create a python program to compute the electricity bill for a household.\n",
    "#### The per-unit charges in rupees are as follows: For the first 100 units, the user will be charged Rs. 4.5 per unit, for the next 100 units, the user will be charged Rs. 6 per unit, and for the next 100 units, the user will be charged Rs. 10 per unit, After 300 units and above the user will be charged Rs. 20 per unit. You are required to take the units of electricity consumed in a month from the user as input. Your program must pass this test case: when the unit of electricity consumed by the user in a month is 310, the total electricity bill should be 2250."
   ]
  },
  {
   "cell_type": "code",
   "execution_count": 36,
   "id": "50995768-78b4-4013-ac14-73135e8e83c3",
   "metadata": {},
   "outputs": [
    {
     "name": "stdin",
     "output_type": "stream",
     "text": [
      "Enter the unit consumed:  310\n"
     ]
    },
    {
     "name": "stdout",
     "output_type": "stream",
     "text": [
      "Total electricity Bill: Rs.  2250\n"
     ]
    }
   ],
   "source": [
    "units_consumed = int(input(\"Enter the unit consumed: \"))\n",
    "\n",
    "if units_consumed <= 0:\n",
    "    print(\"Please enter valid units\")\n",
    "\n",
    "elif units_consumed <= 100:\n",
    "    total_bill = units_consumed  * 4.5\n",
    "    print(\"Total electricity Bill: Rs. \",round(total_bill))\n",
    "    \n",
    "elif units_consumed > 100 and units_consumed <= 200:\n",
    "    above_unit = units_consumed - 100\n",
    "    total_bill = (above_unit * 6) + (100 * 4.5)\n",
    "    print(\"Total electricity Bill: Rs. \",round(total_bill))\n",
    "\n",
    "elif units_consumed > 200 and units_consumed <= 300: \n",
    "    above_unit = units_consumed - 200\n",
    "    total_bill = (above_unit * 10) + (100 * 4.5) + (100 * 6)\n",
    "    print(\"Total electricity Bill: Rs. \",round(total_bill))\n",
    "    \n",
    "else:\n",
    "    above_unit = units_consumed - 300\n",
    "    total_bill = (above_unit * 20) + (100 * 4.5) + (100 * 6) + (100 * 10)\n",
    "    print(\"Total electricity Bill: Rs. \",round(total_bill))"
   ]
  },
  {
   "cell_type": "markdown",
   "id": "f0eff019-96f0-4f05-91c4-f6dc6714f50d",
   "metadata": {},
   "source": [
    "#### Q4. Create a list of numbers from 1 to 100. Use for loop and while loop to calculate the cube of each number and if the cube of that number is divisible by 4 or 5 then append that number in a list and print that list."
   ]
  },
  {
   "cell_type": "code",
   "execution_count": 69,
   "id": "53b29ae1-c485-41bb-9f86-9fedbf00e081",
   "metadata": {
    "tags": []
   },
   "outputs": [
    {
     "name": "stdout",
     "output_type": "stream",
     "text": [
      "[8, 64, 125, 216, 512, 1000, 1728, 2744, 3375, 4096, 5832, 8000, 10648, 13824, 15625, 17576, 21952, 27000, 32768, 39304, 42875, 46656, 54872, 64000, 74088, 85184, 91125, 97336, 110592, 125000, 140608, 157464, 166375, 175616, 195112, 216000, 238328, 262144, 274625, 287496, 314432, 343000, 373248, 405224, 421875, 438976, 474552, 512000, 551368, 592704, 614125, 636056, 681472, 729000, 778688, 830584, 857375, 884736, 941192, 1000000]\n"
     ]
    }
   ],
   "source": [
    "l1 = []\n",
    "for i in range(1, 101):\n",
    "    l1.append(i)\n",
    "    \n",
    "l2 = []\n",
    "for items in l1:\n",
    "    l2.append(items**3)\n",
    "\n",
    "l3 = []\n",
    "for nums in l2:\n",
    "    if (nums%4 == 0) or (nums%5 == 0):\n",
    "        l3.append(nums)\n",
    "\n",
    "print(l3)"
   ]
  },
  {
   "cell_type": "code",
   "execution_count": 68,
   "id": "56faa0b4-a861-4d3c-a371-982a78bb7c65",
   "metadata": {},
   "outputs": [
    {
     "name": "stdout",
     "output_type": "stream",
     "text": [
      "[8, 64, 125, 216, 512, 1000, 1728, 2744, 3375, 4096, 5832, 8000, 10648, 13824, 15625, 17576, 21952, 27000, 32768, 39304, 42875, 46656, 54872, 64000, 74088, 85184, 91125, 97336, 110592, 125000, 140608, 157464, 166375, 175616, 195112, 216000, 238328, 262144, 274625, 287496, 314432, 343000, 373248, 405224, 421875, 438976, 474552, 512000, 551368, 592704, 614125, 636056, 681472, 729000, 778688, 830584, 857375, 884736, 941192, 1000000]\n"
     ]
    }
   ],
   "source": [
    "l1 = []\n",
    "n = 1\n",
    "while n < 101:\n",
    "    cube = n ** 3\n",
    "    if (cube % 4 == 0) or (cube % 5 == 0):\n",
    "        l1.append(cube)\n",
    "    n += 1\n",
    "\n",
    "print(l1)"
   ]
  },
  {
   "cell_type": "markdown",
   "id": "d27dca1a-69d7-4653-9c35-e1e91bf7a8b6",
   "metadata": {},
   "source": [
    "#### Q5. Write a program to filter count vowels in the below-given string.\n",
    "##### string = \"I want to become a data scientist\""
   ]
  },
  {
   "cell_type": "code",
   "execution_count": 46,
   "id": "57669fcf-e166-44cb-b08c-8372af587ba5",
   "metadata": {},
   "outputs": [
    {
     "name": "stdout",
     "output_type": "stream",
     "text": [
      "The numbers of vowels are:  12\n"
     ]
    }
   ],
   "source": [
    "string = \"I want to become a data scientist\"\n",
    "\n",
    "string = string.lower()\n",
    "string = string.replace(\" \",\"\")\n",
    "count = 0\n",
    "\n",
    "for letter in string:\n",
    "    if letter == \"a\" or letter == \"e\" or letter == \"i\" or letter == \"o\" or letter == \"u\":\n",
    "        count += 1\n",
    "\n",
    "print(\"The numbers of vowels are: \", count)"
   ]
  }
 ],
 "metadata": {
  "kernelspec": {
   "display_name": "Python 3 (ipykernel)",
   "language": "python",
   "name": "python3"
  },
  "language_info": {
   "codemirror_mode": {
    "name": "ipython",
    "version": 3
   },
   "file_extension": ".py",
   "mimetype": "text/x-python",
   "name": "python",
   "nbconvert_exporter": "python",
   "pygments_lexer": "ipython3",
   "version": "3.10.8"
  }
 },
 "nbformat": 4,
 "nbformat_minor": 5
}
