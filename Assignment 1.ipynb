{
 "cells": [
  {
   "cell_type": "markdown",
   "id": "31ff94f4-2894-42e8-ac6c-658b4dba20f2",
   "metadata": {
    "tags": []
   },
   "source": [
    "#### Q1. Explain with an example each when to use a for loop and a while loop."
   ]
  },
  {
   "cell_type": "code",
   "execution_count": null,
   "id": "924a1288-90a1-482f-b845-4685c87ef307",
   "metadata": {},
   "outputs": [],
   "source": [
    "\"\"\" Ans: When we need to run in loop, where the ending and the starting is defined then we preffer to use \"For Loop\" otherwise, if we know only ending or starting we can use \"While Loop\" as it can go to the end based on what we define the incremental or decremental value. \"\"\""
   ]
  },
  {
   "cell_type": "markdown",
   "id": "ed805a04-42e2-4c3f-a1cd-c166b6d3fe91",
   "metadata": {},
   "source": [
    "#### Q2. Write a python program to print the sum and product of the first 10 natural numbers using for and while loop.\n"
   ]
  },
  {
   "cell_type": "code",
   "execution_count": 21,
   "id": "0ffcc9b0-f3da-4129-b263-ad40dbef4bf9",
   "metadata": {},
   "outputs": [
    {
     "name": "stdout",
     "output_type": "stream",
     "text": [
      "55 3628800\n"
     ]
    }
   ],
   "source": [
    "# For Loop\n",
    "sum1 = 0\n",
    "product1 = 1\n",
    "for i in range(1,11):\n",
    "    sum1 += i\n",
    "    product1 *= i\n",
    "    \n",
    "print(sum1, product1)"
   ]
  },
  {
   "cell_type": "code",
   "execution_count": 20,
   "id": "73711018-5eed-459d-8a7d-64932108b890",
   "metadata": {},
   "outputs": [
    {
     "name": "stdout",
     "output_type": "stream",
     "text": [
      "55 3628800\n"
     ]
    }
   ],
   "source": [
    "#While Loop:\n",
    "sum2 = 0\n",
    "product2 = 1\n",
    "n = 1\n",
    "while n<11:\n",
    "    sum2 += n\n",
    "    product2 *= n\n",
    "    n += 1\n",
    "print(sum2, product2)"
   ]
  },
  {
   "cell_type": "markdown",
   "id": "ea480e00-012c-4e18-b5d1-74b7da453670",
   "metadata": {},
   "source": [
    "#### Q3. Create a python program to compute the electricity bill for a household.\n",
    "#### The per-unit charges in rupees are as follows: For the first 100 units, the user will be charged Rs. 4.5 per unit, for the next 100 units, the user will be charged Rs. 6 per unit, and for the next 100 units, the user will be charged Rs. 10 per unit, After 300 units and above the user will be charged Rs. 20 per unit. You are required to take the units of electricity consumed in a month from the user as input. Your program must pass this test case: when the unit of electricity consumed by the user in a month is 310, the total electricity bill should be 2250."
   ]
  },
  {
   "cell_type": "code",
   "execution_count": 36,
   "id": "50995768-78b4-4013-ac14-73135e8e83c3",
   "metadata": {},
   "outputs": [
    {
     "name": "stdin",
     "output_type": "stream",
     "text": [
      "Enter the unit consumed:  310\n"
     ]
    },
    {
     "name": "stdout",
     "output_type": "stream",
     "text": [
      "Total electricity Bill: Rs.  2250\n"
     ]
    }
   ],
   "source": [
    "units_consumed = int(input(\"Enter the unit consumed: \"))\n",
    "\n",
    "if units_consumed <= 0:\n",
    "    print(\"Please enter valid units\")\n",
    "\n",
    "elif units_consumed <= 100:\n",
    "    total_bill = units_consumed  * 4.5\n",
    "    print(\"Total electricity Bill: Rs. \",round(total_bill))\n",
    "    \n",
    "elif units_consumed > 100 and units_consumed <= 200:\n",
    "    above_unit = units_consumed - 100\n",
    "    total_bill = (above_unit * 6) + (100 * 4.5)\n",
    "    print(\"Total electricity Bill: Rs. \",round(total_bill))\n",
    "\n",
    "elif units_consumed > 200 and units_consumed <= 300: \n",
    "    above_unit = units_consumed - 200\n",
    "    total_bill = (above_unit * 10) + (100 * 4.5) + (100 * 6)\n",
    "    print(\"Total electricity Bill: Rs. \",round(total_bill))\n",
    "    \n",
    "else:\n",
    "    above_unit = units_consumed - 300\n",
    "    total_bill = (above_unit * 20) + (100 * 4.5) + (100 * 6) + (100 * 10)\n",
    "    print(\"Total electricity Bill: Rs. \",round(total_bill))"
   ]
  },
  {
   "cell_type": "markdown",
   "id": "f0eff019-96f0-4f05-91c4-f6dc6714f50d",
   "metadata": {},
   "source": [
    "#### Q4. Create a list of numbers from 1 to 100. Use for loop and while loop to calculate the cube of each number and if the cube of that number is divisible by 4 or 5 then append that number in a list and print that list."
   ]
  },
  {
   "cell_type": "code",
   "execution_count": 52,
   "id": "53b29ae1-c485-41bb-9f86-9fedbf00e081",
   "metadata": {
    "collapsed": true,
    "jupyter": {
     "outputs_hidden": true
    },
    "tags": []
   },
   "outputs": [
    {
     "data": {
      "text/plain": [
       "[8,\n",
       " 64,\n",
       " 125,\n",
       " 216,\n",
       " 512,\n",
       " 1000,\n",
       " 1728,\n",
       " 2744,\n",
       " 3375,\n",
       " 4096,\n",
       " 5832,\n",
       " 8000,\n",
       " 10648,\n",
       " 13824,\n",
       " 15625,\n",
       " 17576,\n",
       " 21952,\n",
       " 27000,\n",
       " 32768,\n",
       " 39304,\n",
       " 42875,\n",
       " 46656,\n",
       " 54872,\n",
       " 64000,\n",
       " 74088,\n",
       " 85184,\n",
       " 91125,\n",
       " 97336,\n",
       " 110592,\n",
       " 125000,\n",
       " 140608,\n",
       " 157464,\n",
       " 166375,\n",
       " 175616,\n",
       " 195112,\n",
       " 216000,\n",
       " 238328,\n",
       " 262144,\n",
       " 274625,\n",
       " 287496,\n",
       " 314432,\n",
       " 343000,\n",
       " 373248,\n",
       " 405224,\n",
       " 421875,\n",
       " 438976,\n",
       " 474552,\n",
       " 512000,\n",
       " 551368,\n",
       " 592704,\n",
       " 614125,\n",
       " 636056,\n",
       " 681472,\n",
       " 729000,\n",
       " 778688,\n",
       " 830584,\n",
       " 857375,\n",
       " 884736,\n",
       " 941192,\n",
       " 1000000]"
      ]
     },
     "execution_count": 52,
     "metadata": {},
     "output_type": "execute_result"
    }
   ],
   "source": [
    "l1 = []\n",
    "for i in range(1, 101):\n",
    "    l1.append(i)\n",
    "    \n",
    "l2 = []\n",
    "for items in l1:\n",
    "    l2.append(items**3)\n",
    "\n",
    "l3 = []\n",
    "for nums in l2:\n",
    "    if (nums%4 == 0) or (nums%5 == 0):\n",
    "        l3.append(nums)\n",
    "\n",
    "l3"
   ]
  },
  {
   "cell_type": "code",
   "execution_count": 64,
   "id": "56faa0b4-a861-4d3c-a371-982a78bb7c65",
   "metadata": {},
   "outputs": [
    {
     "data": {
      "text/plain": [
       "[2,\n",
       " 4,\n",
       " 5,\n",
       " 6,\n",
       " 8,\n",
       " 10,\n",
       " 12,\n",
       " 14,\n",
       " 15,\n",
       " 16,\n",
       " 18,\n",
       " 20,\n",
       " 22,\n",
       " 24,\n",
       " 25,\n",
       " 26,\n",
       " 28,\n",
       " 30,\n",
       " 32,\n",
       " 34,\n",
       " 35,\n",
       " 36,\n",
       " 38,\n",
       " 40,\n",
       " 42,\n",
       " 44,\n",
       " 45,\n",
       " 46,\n",
       " 48,\n",
       " 50,\n",
       " 52,\n",
       " 54,\n",
       " 55,\n",
       " 56,\n",
       " 58,\n",
       " 60,\n",
       " 62,\n",
       " 64,\n",
       " 65,\n",
       " 66,\n",
       " 68,\n",
       " 70,\n",
       " 72,\n",
       " 74,\n",
       " 75,\n",
       " 76,\n",
       " 78,\n",
       " 80,\n",
       " 82,\n",
       " 84,\n",
       " 85,\n",
       " 86,\n",
       " 88,\n",
       " 90,\n",
       " 92,\n",
       " 94,\n",
       " 95,\n",
       " 96,\n",
       " 98,\n",
       " 100]"
      ]
     },
     "execution_count": 64,
     "metadata": {},
     "output_type": "execute_result"
    }
   ],
   "source": [
    "l1 = []\n",
    "n = 1\n",
    "while n < 101:\n",
    "    cube = n ** 3\n",
    "    if (cube % 4 == 0) or (cube % 5 == 0):\n",
    "        l1.append(n)\n",
    "    n += 1\n",
    "\n",
    "l1"
   ]
  },
  {
   "cell_type": "markdown",
   "id": "d27dca1a-69d7-4653-9c35-e1e91bf7a8b6",
   "metadata": {},
   "source": [
    "#### Q5. Write a program to filter count vowels in the below-given string.\n",
    "##### string = \"I want to become a data scientist\""
   ]
  },
  {
   "cell_type": "code",
   "execution_count": 46,
   "id": "57669fcf-e166-44cb-b08c-8372af587ba5",
   "metadata": {},
   "outputs": [
    {
     "name": "stdout",
     "output_type": "stream",
     "text": [
      "The numbers of vowels are:  12\n"
     ]
    }
   ],
   "source": [
    "string = \"I want to become a data scientist\"\n",
    "\n",
    "string = string.lower()\n",
    "string = string.replace(\" \",\"\")\n",
    "count = 0\n",
    "\n",
    "for letter in string:\n",
    "    if letter == \"a\" or letter == \"e\" or letter == \"i\" or letter == \"o\" or letter == \"u\":\n",
    "        count += 1\n",
    "\n",
    "print(\"The numbers of vowels are: \", count)"
   ]
  }
 ],
 "metadata": {
  "kernelspec": {
   "display_name": "Python 3 (ipykernel)",
   "language": "python",
   "name": "python3"
  },
  "language_info": {
   "codemirror_mode": {
    "name": "ipython",
    "version": 3
   },
   "file_extension": ".py",
   "mimetype": "text/x-python",
   "name": "python",
   "nbconvert_exporter": "python",
   "pygments_lexer": "ipython3",
   "version": "3.10.8"
  }
 },
 "nbformat": 4,
 "nbformat_minor": 5
}
