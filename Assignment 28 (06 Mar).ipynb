{
 "cells": [
  {
   "cell_type": "markdown",
   "id": "ea480e00-012c-4e18-b5d1-74b7da453670",
   "metadata": {},
   "source": [
    "#### Q1. What is Statistics?"
   ]
  },
  {
   "cell_type": "markdown",
   "id": "23f9f6ec-873e-4cbe-91d0-c51b1053131a",
   "metadata": {},
   "source": [
    "Ans: Statistics is the science of collecting, organising and analysing data."
   ]
  },
  {
   "cell_type": "markdown",
   "id": "ddf6bd00-6348-4726-8b34-bc6258b053cf",
   "metadata": {},
   "source": [
    "#### Q2. Define the different types of statistics and give an example of when each type might be used."
   ]
  },
  {
   "cell_type": "markdown",
   "id": "03b50e45-8fdb-4abe-a7d8-6647fbf02508",
   "metadata": {},
   "source": [
    "Ans: Types of Statistics:\n",
    "1. Descriptive: Consists of organizing and summary data from given data.\n",
    "    1. Measure of central tendency (mean, median, mode)\n",
    "    2. Measure of distribution (var., std.)\n",
    "    3. Different types of distribution of data.\n",
    "    \n",
    "    eg.: Measuring average height of students in the class.\n",
    "\n",
    "2. Inferential: It consists of using data we have measured to form conclusion i.e., from sample data to population data.\n",
    "    1. Z-test (Hypothesis testing)\n",
    "    2. T-test (Hypothesis testing)\n",
    "    3. p-value, significance value\n",
    "    \n",
    "    eg.: Taking exit poll to predict the result of main election.    "
   ]
  },
  {
   "cell_type": "markdown",
   "id": "85fe3238-f1b8-4e7c-8476-fd80796aa02b",
   "metadata": {},
   "source": [
    "#### Q3. What are the different types of data and how do they differ from each other? Provide an example of each type of data."
   ]
  },
  {
   "cell_type": "markdown",
   "id": "8ad3f6cb-a307-4d06-9779-37718cbee367",
   "metadata": {},
   "source": [
    "Ans: Types of data:\n",
    "1. Quantitative Data\n",
    "    1. Discrete data (Whole number, eg: No. of students in class)\n",
    "    2. Continous data (Any Value, eg: Weight, Height, temperature)\n",
    "2. Qualitative Data\n",
    "    1. Nominal data (Categorical, eg: Gender, Blood Group, Pincode)\n",
    "    2. Ordinal data (Ranked data, eg: customer feedbacks)"
   ]
  },
  {
   "cell_type": "markdown",
   "id": "581540d2-29b9-4d1a-ab78-386b5dc802a4",
   "metadata": {},
   "source": [
    "#### Q4. Categorise the following datasets with respect to quantitative and qualitative data types:\n",
    "##### (i) Grading in exam: A+, A, B+, B, C+, C, D, E\n",
    "##### (ii) Colour of mangoes: yellow, green, orange, red\n",
    "##### (iii) Height data of a class: [178.9, 179, 179.5, 176, 177.2, 178.3, 175.8,...]\n",
    "##### (iv) Number of mangoes exported by a farm: [500, 600, 478, 672, ...]"
   ]
  },
  {
   "cell_type": "markdown",
   "id": "9d8c9ab6-a4fc-4b03-a742-ec4a4d7c7ff6",
   "metadata": {},
   "source": [
    "Ans: \n",
    "1. Qualitative - Ordinal data\n",
    "2. Qualitative - Nominal data\n",
    "3. Quantative - Continous data\n",
    "4. Quantative - Discrete data"
   ]
  },
  {
   "cell_type": "markdown",
   "id": "2a6d9c6d-e6f0-4b10-a281-1fc8c1edc4ed",
   "metadata": {},
   "source": [
    "#### Q5. Explain the concept of levels of measurement and give an example of a variable for each level."
   ]
  },
  {
   "cell_type": "markdown",
   "id": "ed72044e-d520-41ae-bb37-4c21d8fe81db",
   "metadata": {},
   "source": [
    "Ans: Levels of Measurements:\n",
    "1. Nominal Scale Data:\n",
    "    1. Qualitative/Nominal data\n",
    "    2. Eg: Gender, Colors\n",
    "    3. Order does not matter\n",
    "----------------\n",
    "2. Ordinal Scale Data:\n",
    "    1. Ranking is important\n",
    "    2. Order Matter\n",
    "    3. Difference cannot be measured\n",
    "    4. Eg: Feedbacks like, 1 -> Best, 2 -> Good, 3 -> Bad, where rank and order is there, but cannot find difference.\n",
    "----------------\n",
    "3. Interval Scale Data:\n",
    "    1. Order matters (eg: temperature)\n",
    "    2. Difference can be measured (eg: like 30F, 60F,  102F, etc.)\n",
    "    3. Ratio cannot be measured (eg: no such ratio like in eg of temperature)\n",
    "    4. No True \"0\" starting point (eg: not fixed to zero, can be -ve or +ve)\n",
    "----------------\n",
    "4. Ratio Scale Data:\n",
    "    1. Order matters\n",
    "    2. Difference & ratio can be measured\n",
    "    3. Contains a \"0\" starting point\n",
    "    4. Eg: Students marks in class, order is there, difference and ratio can be measured and can not be -ve as well."
   ]
  },
  {
   "cell_type": "markdown",
   "id": "739790b4-4902-4f95-a9ad-eee0c8537d8f",
   "metadata": {},
   "source": [
    "#### Q6. Why is it important to understand the level of measurement when analyzing data? Provide an example to illustrate your answer."
   ]
  },
  {
   "cell_type": "markdown",
   "id": "d1850dc0-4480-49a4-8752-85d9a3f4ce71",
   "metadata": {},
   "source": [
    "Ans: So that we can determines the the type of statistical analysis to perform of the dataset.\n",
    "\n",
    "Eg: If there is data for Feedback from sclae 1 to 5, 1 being bad and 5 being Excellent.\n",
    "So this is ordinal data, thus we use Median and mode to find analysis, while not using Mean which is of no use here."
   ]
  },
  {
   "cell_type": "markdown",
   "id": "e0d734ba-1c66-4011-be73-6f2d099501c5",
   "metadata": {},
   "source": [
    "#### Q7. How nominal data type is different from ordinal data type."
   ]
  },
  {
   "cell_type": "markdown",
   "id": "67a7d291-7340-446f-ad96-94d6f08bb0df",
   "metadata": {},
   "source": [
    "Ans: Nominal Data: In simple words, categorical data like color, gender where ranking plays no role.\n",
    "\n",
    "Ordinal Data: Type of data where the ranking plays important role, just there difference we can not calculate."
   ]
  },
  {
   "cell_type": "markdown",
   "id": "e0336535-1664-4808-8716-8b9cb1f38bd8",
   "metadata": {},
   "source": [
    "#### Q8. Which type of plot can be used to display data in terms of range?"
   ]
  },
  {
   "cell_type": "markdown",
   "id": "c14f462e-fdef-4070-b4e2-4154fbc3abb7",
   "metadata": {},
   "source": [
    "Ans: A \"Box-Plot\" can be used to display data in terms of range.\n",
    "It shows minimum value, first quartile, median, 3rd quartile, maximun value."
   ]
  },
  {
   "cell_type": "markdown",
   "id": "a3156b17-5fd2-4a9b-825d-8868c4dd1193",
   "metadata": {},
   "source": [
    "#### Q9. Describe the difference between descriptive and inferential statistics. Give an example of each type of statistics and explain how they are used."
   ]
  },
  {
   "cell_type": "markdown",
   "id": "45eccb46-706d-45f8-8a5f-64f01fad8391",
   "metadata": {},
   "source": [
    "Ans:\n",
    "1. Descriptive statistics are used to describe and summarize data through measures such as mean, median, mode, and standard deviation. Eg: calculating the average height of students in a classroom.\n",
    "\n",
    "2. Inferential statistics are used to make inferences and draw conclusions about a population based on a sample of data. Eg: conducting a hypothesis test to determine whether there is a significant difference in the average heights of male and female students in a school."
   ]
  },
  {
   "cell_type": "markdown",
   "id": "a518038c-7859-42c8-8d5f-56e8c1ffd33d",
   "metadata": {},
   "source": [
    "#### Q10. What are some common measures of central tendency and variability used in statistics? Explain how each measure can be used to describe a dataset."
   ]
  },
  {
   "cell_type": "markdown",
   "id": "1a570866-d4dc-4a87-8754-3ead1e2348ff",
   "metadata": {},
   "source": [
    "Ans: \n",
    "1. Measures of central tendency: Used to describe the central or typical value of a dataset.\n",
    "    1. Mean (average value of the dataset)\n",
    "    2. Median (middle value in a dataset)\n",
    "    3. Mode (value that occurs most frequently in a dataset)\n",
    "2. Measures of variability: Used to describe how spread out or dispersed the data is. \n",
    "    1. Range (difference between the highest and lowest values in a dataset)\n",
    "    2. Standard deviation (measure of how much the values in a dataset vary from the mean)\n",
    "    3. Variance (The average of the squared differences from the mean)"
   ]
  }
 ],
 "metadata": {
  "kernelspec": {
   "display_name": "Python 3 (ipykernel)",
   "language": "python",
   "name": "python3"
  },
  "language_info": {
   "codemirror_mode": {
    "name": "ipython",
    "version": 3
   },
   "file_extension": ".py",
   "mimetype": "text/x-python",
   "name": "python",
   "nbconvert_exporter": "python",
   "pygments_lexer": "ipython3",
   "version": "3.10.8"
  }
 },
 "nbformat": 4,
 "nbformat_minor": 5
}
