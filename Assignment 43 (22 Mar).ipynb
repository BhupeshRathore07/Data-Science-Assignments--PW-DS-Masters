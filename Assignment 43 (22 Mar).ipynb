{
 "cells": [
  {
   "cell_type": "markdown",
   "id": "8c7f2701-2f38-4eaa-8883-abd88c414138",
   "metadata": {},
   "source": [
    "#### Q1. Pearson correlation coefficient is a measure of the linear relationship between two variables. Suppose you have collected data on the amount of time students spend studying for an exam and their final exam scores. Calculate the Pearson correlation coefficient between these two variables and interpret the result."
   ]
  },
  {
   "cell_type": "code",
   "execution_count": 1,
   "id": "0609aa87-081f-4363-9f7b-193ded9588bc",
   "metadata": {},
   "outputs": [
    {
     "name": "stdout",
     "output_type": "stream",
     "text": [
      "Pearson correlation coefficient: 0.9565718600516901\n"
     ]
    }
   ],
   "source": [
    "import pandas as pd\n",
    "\n",
    "# Sample data\n",
    "data = {'study_hours': [10, 5, 8, 3, 6], 'exam_scores': [90, 75, 85, 60, 80]}\n",
    "df = pd.DataFrame(data)\n",
    "\n",
    "# calculate the Pearson correlation coefficient\n",
    "corr_coef = df['study_hours'].corr(df['exam_scores'], method='pearson')\n",
    "print('Pearson correlation coefficient:', corr_coef)"
   ]
  },
  {
   "cell_type": "markdown",
   "id": "4490b529-60ae-4318-b96a-3346c4a63362",
   "metadata": {},
   "source": [
    "#### Q2. Spearman's rank correlation is a measure of the monotonic relationship between two variables. Suppose you have collected data on the amount of sleep individuals get each night and their overall job satisfaction level on a scale of 1 to 10. Calculate the Spearman's rank correlation between these two variables and interpret the result."
   ]
  },
  {
   "cell_type": "code",
   "execution_count": 5,
   "id": "ca66e295-a378-4dab-884f-49d4baba71be",
   "metadata": {},
   "outputs": [
    {
     "name": "stdout",
     "output_type": "stream",
     "text": [
      "Spearman correlation coefficient: 0.996908802495909\n"
     ]
    }
   ],
   "source": [
    "import pandas as pd\n",
    "\n",
    "# Sample data\n",
    "data = {'sleep' : [8, 7, 6, 5, 9, 7, 8, 6, 4, 9], 'job_satisfaction' : [7, 6, 5, 4, 8, 6, 7, 5, 3, 9]}\n",
    "df = pd.DataFrame(data)\n",
    "\n",
    "# calculate the spearman correlation coefficient\n",
    "corr_coef = df['sleep'].corr(df['job_satisfaction'], method='spearman')\n",
    "print('Spearman correlation coefficient:', corr_coef)"
   ]
  },
  {
   "cell_type": "markdown",
   "id": "f99a6691-732d-4130-900c-693d7e32a5fc",
   "metadata": {},
   "source": [
    "#### Q3. Suppose you are conducting a study to examine the relationship between the number of hours of exercise per week and body mass index (BMI) in a sample of adults. You collected data on both variables for 50 participants. Calculate the Pearson correlation coefficient and the Spearman's rank correlation between these two variables and compare the results."
   ]
  },
  {
   "cell_type": "code",
   "execution_count": 10,
   "id": "aebb69a5-26d1-49cc-867f-c71fc1ab60ed",
   "metadata": {},
   "outputs": [
    {
     "name": "stdout",
     "output_type": "stream",
     "text": [
      "Pearson correlation coefficient: -0.9818477611467176\n",
      "Spearman's rank correlation: -0.9847319278346618\n"
     ]
    }
   ],
   "source": [
    "import pandas as pd\n",
    "from scipy.stats import spearmanr\n",
    "\n",
    "# create a dataframe with the data\n",
    "data = {'exercise_hours': [3, 2, 4, 1, 5, 3, 2, 4, 1, 5],\n",
    "        'bmi': [22.5, 24.3, 21.7, 27.8, 19.5, 23.1, 25.6, 20.4, 28.2, 18.9]}\n",
    "df = pd.DataFrame(data)\n",
    "\n",
    "# calculate the Pearson correlation coefficient\n",
    "pearson_coef = df['exercise_hours'].corr(df['bmi'], method='pearson')\n",
    "\n",
    "# calculate the Spearman's rank correlation\n",
    "spearman_coef = df['exercise_hours'].corr(df['bmi'], method='spearman')\n",
    "\n",
    "print('Pearson correlation coefficient:', pearson_coef)\n",
    "print('Spearman\\'s rank correlation:', spearman_coef)"
   ]
  },
  {
   "cell_type": "markdown",
   "id": "fb63f3f1-402e-4fcb-896b-a8d501118d41",
   "metadata": {},
   "source": [
    "#### Q4. A researcher is interested in examining the relationship between the number of hours individuals spend watching television per day and their level of physical activity. The researcher collected data on both variables from a sample of 50 participants. Calculate the Pearson correlation coefficient between these two variables."
   ]
  },
  {
   "cell_type": "code",
   "execution_count": 11,
   "id": "0e20f7e9-8a36-4e7d-ae6c-b3b07f2e884c",
   "metadata": {},
   "outputs": [
    {
     "name": "stdout",
     "output_type": "stream",
     "text": [
      "Pearson correlation coefficient: -0.08524059160268606\n"
     ]
    }
   ],
   "source": [
    "import numpy as np\n",
    "import pandas as pd\n",
    "np.random.seed(123)\n",
    "\n",
    "# generate random data for TV hours and physical activity\n",
    "tv_hours = np.random.normal(4, 1.5, 50)\n",
    "physical_activity = np.random.normal(5, 2, 50)\n",
    "\n",
    "# sample data\n",
    "data = {'tv_hours': tv_hours,\n",
    "        'physical_activity': physical_activity}\n",
    "df = pd.DataFrame(data)\n",
    "\n",
    "# calculate the Pearson correlation coefficient\n",
    "pearson_coef = df['tv_hours'].corr(df['physical_activity'], method='pearson')\n",
    "\n",
    "print('Pearson correlation coefficient:', pearson_coef)"
   ]
  },
  {
   "attachments": {
    "37e3d9cb-a533-4a2a-8606-4aaac6ec88ca.png": {
     "image/png": "[encoded data removed]"
    }
   },
   "cell_type": "markdown",
   "id": "0850e4cc-8277-4481-9fae-c87965b7bd2f",
   "metadata": {},
   "source": [
    "#### Q5. A survey was conducted to examine the relationship between age and preference for a particular brand of soft drink. The survey results are shown below:\n",
    "\n",
    "![image.png](attachment:37e3d9cb-a533-4a2a-8606-4aaac6ec88ca.png)"
   ]
  },
  {
   "cell_type": "code",
   "execution_count": 13,
   "id": "de51894a-3b3d-42af-97d0-55933b7848a8",
   "metadata": {},
   "outputs": [
    {
     "name": "stdout",
     "output_type": "stream",
     "text": [
      "Coke           -0.837240\n",
      "Mountain Dew    0.394132\n",
      "Pepsi           0.576439\n",
      "Name: age(years), dtype: float64\n"
     ]
    },
    {
     "name": "stderr",
     "output_type": "stream",
     "text": [
      "/tmp/ipykernel_214/1546759322.py:11: FutureWarning: The default value of numeric_only in DataFrame.corr is deprecated. In a future version, it will default to False. Select only valid columns or specify the value of numeric_only to silence this warning.\n",
      "  corr = df.corr()['age(years)'][1:]\n"
     ]
    }
   ],
   "source": [
    "import pandas as pd\n",
    "\n",
    "data = {'age(years)': [25,42,37,19,31,28], \n",
    "        'soft_drink_preference': ['Coke', 'Pepsi', 'Mountain Dew', 'Coke', 'Pepsi', 'Coke']}\n",
    "df = pd.DataFrame(data)\n",
    "\n",
    "dummy_df = pd.get_dummies(df['soft_drink_preference'])\n",
    "\n",
    "\n",
    "df = pd.concat([df, dummy_df], axis=1)\n",
    "corr = df.corr()['age(years)'][1:]\n",
    "\n",
    "print(corr)"
   ]
  },
  {
   "cell_type": "markdown",
   "id": "0f53df40-06db-4ba5-bd5e-661ca7717e12",
   "metadata": {},
   "source": [
    "#### Q6. A company is interested in examining the relationship between the number of sales calls made per day and the number of sales made per week. The company collected data on both variables from a sample of 30 sales representatives. Calculate the Pearson correlation coefficient between these two variables."
   ]
  },
  {
   "cell_type": "code",
   "execution_count": 16,
   "id": "52d11b17-5aaa-4441-a5bc-7928efd88b6e",
   "metadata": {},
   "outputs": [
    {
     "name": "stdout",
     "output_type": "stream",
     "text": [
      "Pearson correlation coefficient: -0.20915354061140534\n"
     ]
    }
   ],
   "source": [
    "import pandas as pd\n",
    "import numpy as np\n",
    "\n",
    "# Generate random data for number of sales calls and sales made per week\n",
    "np.random.seed(123)\n",
    "num_calls = np.random.randint(50, 100, size=30)\n",
    "num_sales = np.random.randint(5, 15, size=30)\n",
    "\n",
    "# Sample Data\n",
    "data = {'num_sales_calls': num_calls, 'num_sales_made': num_sales}\n",
    "df = pd.DataFrame(data)\n",
    "\n",
    "pearson_coef = df['num_sales_calls'].corr(df['num_sales_made'], method='pearson')\n",
    "\n",
    "print('Pearson correlation coefficient:', pearson_coef)"
   ]
  }
 ],
 "metadata": {
  "kernelspec": {
   "display_name": "Python 3 (ipykernel)",
   "language": "python",
   "name": "python3"
  },
  "language_info": {
   "codemirror_mode": {
    "name": "ipython",
    "version": 3
   },
   "file_extension": ".py",
   "mimetype": "text/x-python",
   "name": "python",
   "nbconvert_exporter": "python",
   "pygments_lexer": "ipython3",
   "version": "3.10.8"
  }
 },
 "nbformat": 4,
 "nbformat_minor": 5
}
